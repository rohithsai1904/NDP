{
  "nbformat": 4,
  "nbformat_minor": 0,
  "metadata": {
    "colab": {
      "name": "monthsWiseFloods.ipynb",
      "provenance": [],
      "collapsed_sections": [],
      "toc_visible": true,
      "include_colab_link": true
    },
    "kernelspec": {
      "display_name": "Python 3",
      "name": "python3"
    }
  },
  "cells": [
    {
      "cell_type": "markdown",
      "metadata": {
        "id": "view-in-github",
        "colab_type": "text"
      },
      "source": [
        "<a href=\"https://colab.research.google.com/github/rohithsai1904/NDP/blob/main/monthsWiseFloods.ipynb\" target=\"_parent\"><img src=\"https://colab.research.google.com/assets/colab-badge.svg\" alt=\"Open In Colab\"/></a>"
      ]
    },
    {
      "cell_type": "code",
      "metadata": {
        "id": "PwCh1atIQUly"
      },
      "source": [
        "import os\n",
        "import warnings\n",
        "warnings.filterwarnings('ignore')"
      ],
      "execution_count": null,
      "outputs": []
    },
    {
      "cell_type": "code",
      "metadata": {
        "id": "GHqQmIPdFkWE",
        "colab": {
          "base_uri": "https://localhost:8080/"
        },
        "outputId": "34090c9a-9eb7-4c96-bbec-790f13b99228"
      },
      "source": [
        "\n",
        "import numpy as np # linear algebra\n",
        "import pandas as pd # data processing, CSV file I/O (e.g. pd.read_csv)\n",
        "data = pd.read_csv('https://raw.githubusercontent.com/amandp13/Flood-Prediction-Model/master/kerala.csv')\n",
        "print(data)"
      ],
      "execution_count": null,
      "outputs": [
        {
          "output_type": "stream",
          "text": [
            "    SUBDIVISION  YEAR   JAN   FEB  ...    NOV    DEC   ANNUAL RAINFALL  FLOODS\n",
            "0        KERALA  1901  28.7  44.7  ...  350.8   48.4            3248.6     YES\n",
            "1        KERALA  1902   6.7   2.6  ...  158.3  121.5            3326.6     YES\n",
            "2        KERALA  1903   3.2  18.6  ...  157.0   59.0            3271.2     YES\n",
            "3        KERALA  1904  23.7   3.0  ...   33.9    3.3            3129.7     YES\n",
            "4        KERALA  1905   1.2  22.3  ...   74.4    0.2            2741.6      NO\n",
            "..          ...   ...   ...   ...  ...    ...    ...               ...     ...\n",
            "113      KERALA  2014   4.6  10.3  ...   99.5   47.2            3046.4     YES\n",
            "114      KERALA  2015   3.1   5.8  ...  223.6   79.4            2600.6      NO\n",
            "115      KERALA  2016   2.4   3.8  ...  125.4   23.6            2176.6      NO\n",
            "116     KERALA   2017   1.9   6.8  ...   92.5   38.1            2117.1      NO\n",
            "117      KERALA  2018  29.1  52.1  ...  125.4   65.1            4473.0     YES\n",
            "\n",
            "[118 rows x 16 columns]\n"
          ],
          "name": "stdout"
        }
      ]
    },
    {
      "cell_type": "code",
      "metadata": {
        "colab": {
          "base_uri": "https://localhost:8080/",
          "height": 406
        },
        "id": "O7ekXGNpQxCc",
        "outputId": "abdc6a87-60e5-4271-b0d1-d0d66410ed3c"
      },
      "source": [
        "data"
      ],
      "execution_count": null,
      "outputs": [
        {
          "output_type": "execute_result",
          "data": {
            "text/html": [
              "<div>\n",
              "<style scoped>\n",
              "    .dataframe tbody tr th:only-of-type {\n",
              "        vertical-align: middle;\n",
              "    }\n",
              "\n",
              "    .dataframe tbody tr th {\n",
              "        vertical-align: top;\n",
              "    }\n",
              "\n",
              "    .dataframe thead th {\n",
              "        text-align: right;\n",
              "    }\n",
              "</style>\n",
              "<table border=\"1\" class=\"dataframe\">\n",
              "  <thead>\n",
              "    <tr style=\"text-align: right;\">\n",
              "      <th></th>\n",
              "      <th>SUBDIVISION</th>\n",
              "      <th>YEAR</th>\n",
              "      <th>JAN</th>\n",
              "      <th>FEB</th>\n",
              "      <th>MAR</th>\n",
              "      <th>APR</th>\n",
              "      <th>MAY</th>\n",
              "      <th>JUN</th>\n",
              "      <th>JUL</th>\n",
              "      <th>AUG</th>\n",
              "      <th>SEP</th>\n",
              "      <th>OCT</th>\n",
              "      <th>NOV</th>\n",
              "      <th>DEC</th>\n",
              "      <th>ANNUAL RAINFALL</th>\n",
              "      <th>FLOODS</th>\n",
              "    </tr>\n",
              "  </thead>\n",
              "  <tbody>\n",
              "    <tr>\n",
              "      <th>0</th>\n",
              "      <td>KERALA</td>\n",
              "      <td>1901</td>\n",
              "      <td>28.7</td>\n",
              "      <td>44.7</td>\n",
              "      <td>51.6</td>\n",
              "      <td>160.0</td>\n",
              "      <td>174.7</td>\n",
              "      <td>824.6</td>\n",
              "      <td>743.0</td>\n",
              "      <td>357.5</td>\n",
              "      <td>197.7</td>\n",
              "      <td>266.9</td>\n",
              "      <td>350.8</td>\n",
              "      <td>48.4</td>\n",
              "      <td>3248.6</td>\n",
              "      <td>YES</td>\n",
              "    </tr>\n",
              "    <tr>\n",
              "      <th>1</th>\n",
              "      <td>KERALA</td>\n",
              "      <td>1902</td>\n",
              "      <td>6.7</td>\n",
              "      <td>2.6</td>\n",
              "      <td>57.3</td>\n",
              "      <td>83.9</td>\n",
              "      <td>134.5</td>\n",
              "      <td>390.9</td>\n",
              "      <td>1205.0</td>\n",
              "      <td>315.8</td>\n",
              "      <td>491.6</td>\n",
              "      <td>358.4</td>\n",
              "      <td>158.3</td>\n",
              "      <td>121.5</td>\n",
              "      <td>3326.6</td>\n",
              "      <td>YES</td>\n",
              "    </tr>\n",
              "    <tr>\n",
              "      <th>2</th>\n",
              "      <td>KERALA</td>\n",
              "      <td>1903</td>\n",
              "      <td>3.2</td>\n",
              "      <td>18.6</td>\n",
              "      <td>3.1</td>\n",
              "      <td>83.6</td>\n",
              "      <td>249.7</td>\n",
              "      <td>558.6</td>\n",
              "      <td>1022.5</td>\n",
              "      <td>420.2</td>\n",
              "      <td>341.8</td>\n",
              "      <td>354.1</td>\n",
              "      <td>157.0</td>\n",
              "      <td>59.0</td>\n",
              "      <td>3271.2</td>\n",
              "      <td>YES</td>\n",
              "    </tr>\n",
              "    <tr>\n",
              "      <th>3</th>\n",
              "      <td>KERALA</td>\n",
              "      <td>1904</td>\n",
              "      <td>23.7</td>\n",
              "      <td>3.0</td>\n",
              "      <td>32.2</td>\n",
              "      <td>71.5</td>\n",
              "      <td>235.7</td>\n",
              "      <td>1098.2</td>\n",
              "      <td>725.5</td>\n",
              "      <td>351.8</td>\n",
              "      <td>222.7</td>\n",
              "      <td>328.1</td>\n",
              "      <td>33.9</td>\n",
              "      <td>3.3</td>\n",
              "      <td>3129.7</td>\n",
              "      <td>YES</td>\n",
              "    </tr>\n",
              "    <tr>\n",
              "      <th>4</th>\n",
              "      <td>KERALA</td>\n",
              "      <td>1905</td>\n",
              "      <td>1.2</td>\n",
              "      <td>22.3</td>\n",
              "      <td>9.4</td>\n",
              "      <td>105.9</td>\n",
              "      <td>263.3</td>\n",
              "      <td>850.2</td>\n",
              "      <td>520.5</td>\n",
              "      <td>293.6</td>\n",
              "      <td>217.2</td>\n",
              "      <td>383.5</td>\n",
              "      <td>74.4</td>\n",
              "      <td>0.2</td>\n",
              "      <td>2741.6</td>\n",
              "      <td>NO</td>\n",
              "    </tr>\n",
              "    <tr>\n",
              "      <th>...</th>\n",
              "      <td>...</td>\n",
              "      <td>...</td>\n",
              "      <td>...</td>\n",
              "      <td>...</td>\n",
              "      <td>...</td>\n",
              "      <td>...</td>\n",
              "      <td>...</td>\n",
              "      <td>...</td>\n",
              "      <td>...</td>\n",
              "      <td>...</td>\n",
              "      <td>...</td>\n",
              "      <td>...</td>\n",
              "      <td>...</td>\n",
              "      <td>...</td>\n",
              "      <td>...</td>\n",
              "      <td>...</td>\n",
              "    </tr>\n",
              "    <tr>\n",
              "      <th>113</th>\n",
              "      <td>KERALA</td>\n",
              "      <td>2014</td>\n",
              "      <td>4.6</td>\n",
              "      <td>10.3</td>\n",
              "      <td>17.9</td>\n",
              "      <td>95.7</td>\n",
              "      <td>251.0</td>\n",
              "      <td>454.4</td>\n",
              "      <td>677.8</td>\n",
              "      <td>733.9</td>\n",
              "      <td>298.8</td>\n",
              "      <td>355.5</td>\n",
              "      <td>99.5</td>\n",
              "      <td>47.2</td>\n",
              "      <td>3046.4</td>\n",
              "      <td>YES</td>\n",
              "    </tr>\n",
              "    <tr>\n",
              "      <th>114</th>\n",
              "      <td>KERALA</td>\n",
              "      <td>2015</td>\n",
              "      <td>3.1</td>\n",
              "      <td>5.8</td>\n",
              "      <td>50.1</td>\n",
              "      <td>214.1</td>\n",
              "      <td>201.8</td>\n",
              "      <td>563.6</td>\n",
              "      <td>406.0</td>\n",
              "      <td>252.2</td>\n",
              "      <td>292.9</td>\n",
              "      <td>308.1</td>\n",
              "      <td>223.6</td>\n",
              "      <td>79.4</td>\n",
              "      <td>2600.6</td>\n",
              "      <td>NO</td>\n",
              "    </tr>\n",
              "    <tr>\n",
              "      <th>115</th>\n",
              "      <td>KERALA</td>\n",
              "      <td>2016</td>\n",
              "      <td>2.4</td>\n",
              "      <td>3.8</td>\n",
              "      <td>35.9</td>\n",
              "      <td>143.0</td>\n",
              "      <td>186.4</td>\n",
              "      <td>522.2</td>\n",
              "      <td>412.3</td>\n",
              "      <td>325.5</td>\n",
              "      <td>173.2</td>\n",
              "      <td>225.9</td>\n",
              "      <td>125.4</td>\n",
              "      <td>23.6</td>\n",
              "      <td>2176.6</td>\n",
              "      <td>NO</td>\n",
              "    </tr>\n",
              "    <tr>\n",
              "      <th>116</th>\n",
              "      <td>KERALA</td>\n",
              "      <td>2017</td>\n",
              "      <td>1.9</td>\n",
              "      <td>6.8</td>\n",
              "      <td>8.9</td>\n",
              "      <td>43.6</td>\n",
              "      <td>173.5</td>\n",
              "      <td>498.5</td>\n",
              "      <td>319.6</td>\n",
              "      <td>531.8</td>\n",
              "      <td>209.5</td>\n",
              "      <td>192.4</td>\n",
              "      <td>92.5</td>\n",
              "      <td>38.1</td>\n",
              "      <td>2117.1</td>\n",
              "      <td>NO</td>\n",
              "    </tr>\n",
              "    <tr>\n",
              "      <th>117</th>\n",
              "      <td>KERALA</td>\n",
              "      <td>2018</td>\n",
              "      <td>29.1</td>\n",
              "      <td>52.1</td>\n",
              "      <td>48.6</td>\n",
              "      <td>116.4</td>\n",
              "      <td>183.8</td>\n",
              "      <td>625.4</td>\n",
              "      <td>1048.5</td>\n",
              "      <td>1398.9</td>\n",
              "      <td>423.6</td>\n",
              "      <td>356.1</td>\n",
              "      <td>125.4</td>\n",
              "      <td>65.1</td>\n",
              "      <td>4473.0</td>\n",
              "      <td>YES</td>\n",
              "    </tr>\n",
              "  </tbody>\n",
              "</table>\n",
              "<p>118 rows × 16 columns</p>\n",
              "</div>"
            ],
            "text/plain": [
              "    SUBDIVISION  YEAR   JAN   FEB  ...    NOV    DEC   ANNUAL RAINFALL  FLOODS\n",
              "0        KERALA  1901  28.7  44.7  ...  350.8   48.4            3248.6     YES\n",
              "1        KERALA  1902   6.7   2.6  ...  158.3  121.5            3326.6     YES\n",
              "2        KERALA  1903   3.2  18.6  ...  157.0   59.0            3271.2     YES\n",
              "3        KERALA  1904  23.7   3.0  ...   33.9    3.3            3129.7     YES\n",
              "4        KERALA  1905   1.2  22.3  ...   74.4    0.2            2741.6      NO\n",
              "..          ...   ...   ...   ...  ...    ...    ...               ...     ...\n",
              "113      KERALA  2014   4.6  10.3  ...   99.5   47.2            3046.4     YES\n",
              "114      KERALA  2015   3.1   5.8  ...  223.6   79.4            2600.6      NO\n",
              "115      KERALA  2016   2.4   3.8  ...  125.4   23.6            2176.6      NO\n",
              "116     KERALA   2017   1.9   6.8  ...   92.5   38.1            2117.1      NO\n",
              "117      KERALA  2018  29.1  52.1  ...  125.4   65.1            4473.0     YES\n",
              "\n",
              "[118 rows x 16 columns]"
            ]
          },
          "metadata": {
            "tags": []
          },
          "execution_count": 3
        }
      ]
    },
    {
      "cell_type": "code",
      "metadata": {
        "id": "_s2P57Z-Q_so",
        "colab": {
          "base_uri": "https://localhost:8080/",
          "height": 406
        },
        "outputId": "06ba97b6-dd2f-4e2a-b6bd-9c7f242a4854"
      },
      "source": [
        "jan=data.loc[:,['YEAR','JAN']]\n",
        "jan "
      ],
      "execution_count": null,
      "outputs": [
        {
          "output_type": "execute_result",
          "data": {
            "text/html": [
              "<div>\n",
              "<style scoped>\n",
              "    .dataframe tbody tr th:only-of-type {\n",
              "        vertical-align: middle;\n",
              "    }\n",
              "\n",
              "    .dataframe tbody tr th {\n",
              "        vertical-align: top;\n",
              "    }\n",
              "\n",
              "    .dataframe thead th {\n",
              "        text-align: right;\n",
              "    }\n",
              "</style>\n",
              "<table border=\"1\" class=\"dataframe\">\n",
              "  <thead>\n",
              "    <tr style=\"text-align: right;\">\n",
              "      <th></th>\n",
              "      <th>YEAR</th>\n",
              "      <th>JAN</th>\n",
              "    </tr>\n",
              "  </thead>\n",
              "  <tbody>\n",
              "    <tr>\n",
              "      <th>0</th>\n",
              "      <td>1901</td>\n",
              "      <td>28.7</td>\n",
              "    </tr>\n",
              "    <tr>\n",
              "      <th>1</th>\n",
              "      <td>1902</td>\n",
              "      <td>6.7</td>\n",
              "    </tr>\n",
              "    <tr>\n",
              "      <th>2</th>\n",
              "      <td>1903</td>\n",
              "      <td>3.2</td>\n",
              "    </tr>\n",
              "    <tr>\n",
              "      <th>3</th>\n",
              "      <td>1904</td>\n",
              "      <td>23.7</td>\n",
              "    </tr>\n",
              "    <tr>\n",
              "      <th>4</th>\n",
              "      <td>1905</td>\n",
              "      <td>1.2</td>\n",
              "    </tr>\n",
              "    <tr>\n",
              "      <th>...</th>\n",
              "      <td>...</td>\n",
              "      <td>...</td>\n",
              "    </tr>\n",
              "    <tr>\n",
              "      <th>113</th>\n",
              "      <td>2014</td>\n",
              "      <td>4.6</td>\n",
              "    </tr>\n",
              "    <tr>\n",
              "      <th>114</th>\n",
              "      <td>2015</td>\n",
              "      <td>3.1</td>\n",
              "    </tr>\n",
              "    <tr>\n",
              "      <th>115</th>\n",
              "      <td>2016</td>\n",
              "      <td>2.4</td>\n",
              "    </tr>\n",
              "    <tr>\n",
              "      <th>116</th>\n",
              "      <td>2017</td>\n",
              "      <td>1.9</td>\n",
              "    </tr>\n",
              "    <tr>\n",
              "      <th>117</th>\n",
              "      <td>2018</td>\n",
              "      <td>29.1</td>\n",
              "    </tr>\n",
              "  </tbody>\n",
              "</table>\n",
              "<p>118 rows × 2 columns</p>\n",
              "</div>"
            ],
            "text/plain": [
              "     YEAR   JAN\n",
              "0    1901  28.7\n",
              "1    1902   6.7\n",
              "2    1903   3.2\n",
              "3    1904  23.7\n",
              "4    1905   1.2\n",
              "..    ...   ...\n",
              "113  2014   4.6\n",
              "114  2015   3.1\n",
              "115  2016   2.4\n",
              "116  2017   1.9\n",
              "117  2018  29.1\n",
              "\n",
              "[118 rows x 2 columns]"
            ]
          },
          "metadata": {
            "tags": []
          },
          "execution_count": 4
        }
      ]
    },
    {
      "cell_type": "code",
      "metadata": {
        "id": "erAF5bEPS5pp",
        "colab": {
          "base_uri": "https://localhost:8080/",
          "height": 406
        },
        "outputId": "65901bae-831b-4e23-de51-17f0b9b6ba3a"
      },
      "source": [
        "jan['res'] = 0\n",
        "jan"
      ],
      "execution_count": null,
      "outputs": [
        {
          "output_type": "execute_result",
          "data": {
            "text/html": [
              "<div>\n",
              "<style scoped>\n",
              "    .dataframe tbody tr th:only-of-type {\n",
              "        vertical-align: middle;\n",
              "    }\n",
              "\n",
              "    .dataframe tbody tr th {\n",
              "        vertical-align: top;\n",
              "    }\n",
              "\n",
              "    .dataframe thead th {\n",
              "        text-align: right;\n",
              "    }\n",
              "</style>\n",
              "<table border=\"1\" class=\"dataframe\">\n",
              "  <thead>\n",
              "    <tr style=\"text-align: right;\">\n",
              "      <th></th>\n",
              "      <th>YEAR</th>\n",
              "      <th>JAN</th>\n",
              "      <th>res</th>\n",
              "    </tr>\n",
              "  </thead>\n",
              "  <tbody>\n",
              "    <tr>\n",
              "      <th>0</th>\n",
              "      <td>1901</td>\n",
              "      <td>28.7</td>\n",
              "      <td>0</td>\n",
              "    </tr>\n",
              "    <tr>\n",
              "      <th>1</th>\n",
              "      <td>1902</td>\n",
              "      <td>6.7</td>\n",
              "      <td>0</td>\n",
              "    </tr>\n",
              "    <tr>\n",
              "      <th>2</th>\n",
              "      <td>1903</td>\n",
              "      <td>3.2</td>\n",
              "      <td>0</td>\n",
              "    </tr>\n",
              "    <tr>\n",
              "      <th>3</th>\n",
              "      <td>1904</td>\n",
              "      <td>23.7</td>\n",
              "      <td>0</td>\n",
              "    </tr>\n",
              "    <tr>\n",
              "      <th>4</th>\n",
              "      <td>1905</td>\n",
              "      <td>1.2</td>\n",
              "      <td>0</td>\n",
              "    </tr>\n",
              "    <tr>\n",
              "      <th>...</th>\n",
              "      <td>...</td>\n",
              "      <td>...</td>\n",
              "      <td>...</td>\n",
              "    </tr>\n",
              "    <tr>\n",
              "      <th>113</th>\n",
              "      <td>2014</td>\n",
              "      <td>4.6</td>\n",
              "      <td>0</td>\n",
              "    </tr>\n",
              "    <tr>\n",
              "      <th>114</th>\n",
              "      <td>2015</td>\n",
              "      <td>3.1</td>\n",
              "      <td>0</td>\n",
              "    </tr>\n",
              "    <tr>\n",
              "      <th>115</th>\n",
              "      <td>2016</td>\n",
              "      <td>2.4</td>\n",
              "      <td>0</td>\n",
              "    </tr>\n",
              "    <tr>\n",
              "      <th>116</th>\n",
              "      <td>2017</td>\n",
              "      <td>1.9</td>\n",
              "      <td>0</td>\n",
              "    </tr>\n",
              "    <tr>\n",
              "      <th>117</th>\n",
              "      <td>2018</td>\n",
              "      <td>29.1</td>\n",
              "      <td>0</td>\n",
              "    </tr>\n",
              "  </tbody>\n",
              "</table>\n",
              "<p>118 rows × 3 columns</p>\n",
              "</div>"
            ],
            "text/plain": [
              "     YEAR   JAN  res\n",
              "0    1901  28.7    0\n",
              "1    1902   6.7    0\n",
              "2    1903   3.2    0\n",
              "3    1904  23.7    0\n",
              "4    1905   1.2    0\n",
              "..    ...   ...  ...\n",
              "113  2014   4.6    0\n",
              "114  2015   3.1    0\n",
              "115  2016   2.4    0\n",
              "116  2017   1.9    0\n",
              "117  2018  29.1    0\n",
              "\n",
              "[118 rows x 3 columns]"
            ]
          },
          "metadata": {
            "tags": []
          },
          "execution_count": 5
        }
      ]
    },
    {
      "cell_type": "code",
      "metadata": {
        "id": "r8gEXtm1R4Yg",
        "colab": {
          "base_uri": "https://localhost:8080/",
          "height": 406
        },
        "outputId": "70c9e5b9-225e-4858-9c62-b337a07f2dc9"
      },
      "source": [
        "for i in range(len(jan)):\n",
        "  if jan['JAN'][i] > 263:\n",
        "    jan['res'] = 1\n",
        "jan "
      ],
      "execution_count": null,
      "outputs": [
        {
          "output_type": "execute_result",
          "data": {
            "text/html": [
              "<div>\n",
              "<style scoped>\n",
              "    .dataframe tbody tr th:only-of-type {\n",
              "        vertical-align: middle;\n",
              "    }\n",
              "\n",
              "    .dataframe tbody tr th {\n",
              "        vertical-align: top;\n",
              "    }\n",
              "\n",
              "    .dataframe thead th {\n",
              "        text-align: right;\n",
              "    }\n",
              "</style>\n",
              "<table border=\"1\" class=\"dataframe\">\n",
              "  <thead>\n",
              "    <tr style=\"text-align: right;\">\n",
              "      <th></th>\n",
              "      <th>YEAR</th>\n",
              "      <th>JAN</th>\n",
              "      <th>res</th>\n",
              "    </tr>\n",
              "  </thead>\n",
              "  <tbody>\n",
              "    <tr>\n",
              "      <th>0</th>\n",
              "      <td>1901</td>\n",
              "      <td>28.7</td>\n",
              "      <td>0</td>\n",
              "    </tr>\n",
              "    <tr>\n",
              "      <th>1</th>\n",
              "      <td>1902</td>\n",
              "      <td>6.7</td>\n",
              "      <td>0</td>\n",
              "    </tr>\n",
              "    <tr>\n",
              "      <th>2</th>\n",
              "      <td>1903</td>\n",
              "      <td>3.2</td>\n",
              "      <td>0</td>\n",
              "    </tr>\n",
              "    <tr>\n",
              "      <th>3</th>\n",
              "      <td>1904</td>\n",
              "      <td>23.7</td>\n",
              "      <td>0</td>\n",
              "    </tr>\n",
              "    <tr>\n",
              "      <th>4</th>\n",
              "      <td>1905</td>\n",
              "      <td>1.2</td>\n",
              "      <td>0</td>\n",
              "    </tr>\n",
              "    <tr>\n",
              "      <th>...</th>\n",
              "      <td>...</td>\n",
              "      <td>...</td>\n",
              "      <td>...</td>\n",
              "    </tr>\n",
              "    <tr>\n",
              "      <th>113</th>\n",
              "      <td>2014</td>\n",
              "      <td>4.6</td>\n",
              "      <td>0</td>\n",
              "    </tr>\n",
              "    <tr>\n",
              "      <th>114</th>\n",
              "      <td>2015</td>\n",
              "      <td>3.1</td>\n",
              "      <td>0</td>\n",
              "    </tr>\n",
              "    <tr>\n",
              "      <th>115</th>\n",
              "      <td>2016</td>\n",
              "      <td>2.4</td>\n",
              "      <td>0</td>\n",
              "    </tr>\n",
              "    <tr>\n",
              "      <th>116</th>\n",
              "      <td>2017</td>\n",
              "      <td>1.9</td>\n",
              "      <td>0</td>\n",
              "    </tr>\n",
              "    <tr>\n",
              "      <th>117</th>\n",
              "      <td>2018</td>\n",
              "      <td>29.1</td>\n",
              "      <td>0</td>\n",
              "    </tr>\n",
              "  </tbody>\n",
              "</table>\n",
              "<p>118 rows × 3 columns</p>\n",
              "</div>"
            ],
            "text/plain": [
              "     YEAR   JAN  res\n",
              "0    1901  28.7    0\n",
              "1    1902   6.7    0\n",
              "2    1903   3.2    0\n",
              "3    1904  23.7    0\n",
              "4    1905   1.2    0\n",
              "..    ...   ...  ...\n",
              "113  2014   4.6    0\n",
              "114  2015   3.1    0\n",
              "115  2016   2.4    0\n",
              "116  2017   1.9    0\n",
              "117  2018  29.1    0\n",
              "\n",
              "[118 rows x 3 columns]"
            ]
          },
          "metadata": {
            "tags": []
          },
          "execution_count": 6
        }
      ]
    },
    {
      "cell_type": "code",
      "metadata": {
        "id": "suo5xMd1Slls",
        "colab": {
          "base_uri": "https://localhost:8080/",
          "height": 197
        },
        "outputId": "da31123b-0b12-4f6f-f6d7-f5203d153d94"
      },
      "source": [
        "x=jan.iloc[:,0:2]\n",
        "x.head()"
      ],
      "execution_count": null,
      "outputs": [
        {
          "output_type": "execute_result",
          "data": {
            "text/html": [
              "<div>\n",
              "<style scoped>\n",
              "    .dataframe tbody tr th:only-of-type {\n",
              "        vertical-align: middle;\n",
              "    }\n",
              "\n",
              "    .dataframe tbody tr th {\n",
              "        vertical-align: top;\n",
              "    }\n",
              "\n",
              "    .dataframe thead th {\n",
              "        text-align: right;\n",
              "    }\n",
              "</style>\n",
              "<table border=\"1\" class=\"dataframe\">\n",
              "  <thead>\n",
              "    <tr style=\"text-align: right;\">\n",
              "      <th></th>\n",
              "      <th>YEAR</th>\n",
              "      <th>JAN</th>\n",
              "    </tr>\n",
              "  </thead>\n",
              "  <tbody>\n",
              "    <tr>\n",
              "      <th>0</th>\n",
              "      <td>1901</td>\n",
              "      <td>28.7</td>\n",
              "    </tr>\n",
              "    <tr>\n",
              "      <th>1</th>\n",
              "      <td>1902</td>\n",
              "      <td>6.7</td>\n",
              "    </tr>\n",
              "    <tr>\n",
              "      <th>2</th>\n",
              "      <td>1903</td>\n",
              "      <td>3.2</td>\n",
              "    </tr>\n",
              "    <tr>\n",
              "      <th>3</th>\n",
              "      <td>1904</td>\n",
              "      <td>23.7</td>\n",
              "    </tr>\n",
              "    <tr>\n",
              "      <th>4</th>\n",
              "      <td>1905</td>\n",
              "      <td>1.2</td>\n",
              "    </tr>\n",
              "  </tbody>\n",
              "</table>\n",
              "</div>"
            ],
            "text/plain": [
              "   YEAR   JAN\n",
              "0  1901  28.7\n",
              "1  1902   6.7\n",
              "2  1903   3.2\n",
              "3  1904  23.7\n",
              "4  1905   1.2"
            ]
          },
          "metadata": {
            "tags": []
          },
          "execution_count": 7
        }
      ]
    },
    {
      "cell_type": "code",
      "metadata": {
        "id": "EHAE9kwgenr_",
        "colab": {
          "base_uri": "https://localhost:8080/"
        },
        "outputId": "69711b06-6092-4b28-e38c-71abb98cbb98"
      },
      "source": [
        "y = jan.iloc[:,-1]\n",
        "y.head()"
      ],
      "execution_count": null,
      "outputs": [
        {
          "output_type": "execute_result",
          "data": {
            "text/plain": [
              "0    0\n",
              "1    0\n",
              "2    0\n",
              "3    0\n",
              "4    0\n",
              "Name: res, dtype: int64"
            ]
          },
          "metadata": {
            "tags": []
          },
          "execution_count": 8
        }
      ]
    },
    {
      "cell_type": "code",
      "metadata": {
        "id": "mrkgxT4Xe_Tf",
        "colab": {
          "base_uri": "https://localhost:8080/"
        },
        "outputId": "125ec336-2e24-4dfe-95ad-ee806a16da5c"
      },
      "source": [
        "y = np.asarray(y)\n",
        "y"
      ],
      "execution_count": null,
      "outputs": [
        {
          "output_type": "execute_result",
          "data": {
            "text/plain": [
              "array([0, 0, 0, 0, 0, 0, 0, 0, 0, 0, 0, 0, 0, 0, 0, 0, 0, 0, 0, 0, 0, 0,\n",
              "       0, 0, 0, 0, 0, 0, 0, 0, 0, 0, 0, 0, 0, 0, 0, 0, 0, 0, 0, 0, 0, 0,\n",
              "       0, 0, 0, 0, 0, 0, 0, 0, 0, 0, 0, 0, 0, 0, 0, 0, 0, 0, 0, 0, 0, 0,\n",
              "       0, 0, 0, 0, 0, 0, 0, 0, 0, 0, 0, 0, 0, 0, 0, 0, 0, 0, 0, 0, 0, 0,\n",
              "       0, 0, 0, 0, 0, 0, 0, 0, 0, 0, 0, 0, 0, 0, 0, 0, 0, 0, 0, 0, 0, 0,\n",
              "       0, 0, 0, 0, 0, 0, 0, 0])"
            ]
          },
          "metadata": {
            "tags": []
          },
          "execution_count": 9
        }
      ]
    },
    {
      "cell_type": "code",
      "metadata": {
        "id": "xh3yhPKdfRwe",
        "colab": {
          "base_uri": "https://localhost:8080/"
        },
        "outputId": "9fde6b89-44be-41fa-8dc8-992a3fcbb918"
      },
      "source": [
        "from sklearn import preprocessing\n",
        "minmax = preprocessing.MinMaxScaler(feature_range=(0,1))\n",
        "x = minmax.fit(x).transform(x)\n",
        "x"
      ],
      "execution_count": null,
      "outputs": [
        {
          "output_type": "execute_result",
          "data": {
            "text/plain": [
              "array([[0.        , 0.34371257],\n",
              "       [0.00854701, 0.08023952],\n",
              "       [0.01709402, 0.03832335],\n",
              "       [0.02564103, 0.28383234],\n",
              "       [0.03418803, 0.01437126],\n",
              "       [0.04273504, 0.31976048],\n",
              "       [0.05128205, 0.2251497 ],\n",
              "       [0.05982906, 0.09580838],\n",
              "       [0.06837607, 0.64790419],\n",
              "       [0.07692308, 0.03233533],\n",
              "       [0.08547009, 0.03592814],\n",
              "       [0.09401709, 0.02275449],\n",
              "       [0.1025641 , 0.03712575],\n",
              "       [0.11111111, 0.00838323],\n",
              "       [0.11965812, 0.20239521],\n",
              "       [0.12820513, 0.        ],\n",
              "       [0.13675214, 0.03473054],\n",
              "       [0.14529915, 0.51377246],\n",
              "       [0.15384615, 0.51497006],\n",
              "       [0.16239316, 0.42155689],\n",
              "       [0.17094017, 0.51497006],\n",
              "       [0.17948718, 0.36526946],\n",
              "       [0.18803419, 0.29580838],\n",
              "       [0.1965812 , 0.23113772],\n",
              "       [0.20512821, 0.0491018 ],\n",
              "       [0.21367521, 0.34251497],\n",
              "       [0.22222222, 0.2251497 ],\n",
              "       [0.23076923, 0.15209581],\n",
              "       [0.23931624, 0.15329341],\n",
              "       [0.24786325, 0.12934132],\n",
              "       [0.25641026, 0.03952096],\n",
              "       [0.26495726, 0.0011976 ],\n",
              "       [0.27350427, 0.01197605],\n",
              "       [0.28205128, 0.89221557],\n",
              "       [0.29059829, 0.28622754],\n",
              "       [0.2991453 , 0.01437126],\n",
              "       [0.30769231, 0.07784431],\n",
              "       [0.31623932, 0.00359281],\n",
              "       [0.32478632, 0.16287425],\n",
              "       [0.33333333, 0.00718563],\n",
              "       [0.34188034, 0.19041916],\n",
              "       [0.35042735, 0.02874251],\n",
              "       [0.35897436, 1.        ],\n",
              "       [0.36752137, 0.07664671],\n",
              "       [0.37606838, 0.05269461],\n",
              "       [0.38461538, 0.02155689],\n",
              "       [0.39316239, 0.26586826],\n",
              "       [0.4017094 , 0.51497006],\n",
              "       [0.41025641, 0.00718563],\n",
              "       [0.41880342, 0.0011976 ],\n",
              "       [0.42735043, 0.07904192],\n",
              "       [0.43589744, 0.06227545],\n",
              "       [0.44444444, 0.15688623],\n",
              "       [0.45299145, 0.28143713],\n",
              "       [0.46153846, 0.0502994 ],\n",
              "       [0.47008547, 0.09461078],\n",
              "       [0.47863248, 0.01437126],\n",
              "       [0.48717949, 0.05269461],\n",
              "       [0.4957265 , 0.03592814],\n",
              "       [0.5042735 , 0.11257485],\n",
              "       [0.51282051, 0.16407186],\n",
              "       [0.52136752, 0.34011976],\n",
              "       [0.52991453, 0.36167665],\n",
              "       [0.53846154, 0.01317365],\n",
              "       [0.54700855, 0.10898204],\n",
              "       [0.55555556, 0.03592814],\n",
              "       [0.56410256, 0.17125749],\n",
              "       [0.57264957, 0.08742515],\n",
              "       [0.58119658, 0.03233533],\n",
              "       [0.58974359, 0.15449102],\n",
              "       [0.5982906 , 0.37844311],\n",
              "       [0.60683761, 0.03113772],\n",
              "       [0.61538462, 0.        ],\n",
              "       [0.62393162, 0.01916168],\n",
              "       [0.63247863, 0.06227545],\n",
              "       [0.64102564, 0.0011976 ],\n",
              "       [0.64957265, 0.01317365],\n",
              "       [0.65811966, 0.03952096],\n",
              "       [0.66666667, 0.02874251],\n",
              "       [0.67521368, 0.        ],\n",
              "       [0.68376068, 0.08383234],\n",
              "       [0.69230769, 0.00838323],\n",
              "       [0.7008547 , 0.00239521],\n",
              "       [0.70940171, 0.44071856],\n",
              "       [0.71794872, 0.73293413],\n",
              "       [0.72649573, 0.06706587],\n",
              "       [0.73504274, 0.00718563],\n",
              "       [0.74358974, 0.00958084],\n",
              "       [0.75213675, 0.12335329],\n",
              "       [0.76068376, 0.17844311],\n",
              "       [0.76923077, 0.13053892],\n",
              "       [0.77777778, 0.02874251],\n",
              "       [0.78632479, 0.        ],\n",
              "       [0.79487179, 0.29101796],\n",
              "       [0.8034188 , 0.12335329],\n",
              "       [0.81196581, 0.03353293],\n",
              "       [0.82051282, 0.0251497 ],\n",
              "       [0.82905983, 0.07185629],\n",
              "       [0.83760684, 0.02155689],\n",
              "       [0.84615385, 0.14011976],\n",
              "       [0.85470085, 0.19760479],\n",
              "       [0.86324786, 0.05628743],\n",
              "       [0.87179487, 0.00838323],\n",
              "       [0.88034188, 0.02874251],\n",
              "       [0.88888889, 0.23712575],\n",
              "       [0.8974359 , 0.09700599],\n",
              "       [0.90598291, 0.00598802],\n",
              "       [0.91452991, 0.00958084],\n",
              "       [0.92307692, 0.03952096],\n",
              "       [0.93162393, 0.22275449],\n",
              "       [0.94017094, 0.24550898],\n",
              "       [0.94871795, 0.08862275],\n",
              "       [0.95726496, 0.04670659],\n",
              "       [0.96581197, 0.05508982],\n",
              "       [0.97435897, 0.03712575],\n",
              "       [0.98290598, 0.02874251],\n",
              "       [0.99145299, 0.02275449],\n",
              "       [1.        , 0.34850299]])"
            ]
          },
          "metadata": {
            "tags": []
          },
          "execution_count": 10
        }
      ]
    },
    {
      "cell_type": "code",
      "metadata": {
        "id": "qANAbddpfe47",
        "colab": {
          "base_uri": "https://localhost:8080/"
        },
        "outputId": "d341d607-68fb-4b88-eec4-34210e7519f4"
      },
      "source": [
        "from sklearn import model_selection,neighbors\n",
        "from sklearn.model_selection import train_test_split\n",
        "x_train,x_test,y_train,y_test=train_test_split(x,y,test_size=0.2)\n",
        "y_train[:20]"
      ],
      "execution_count": null,
      "outputs": [
        {
          "output_type": "execute_result",
          "data": {
            "text/plain": [
              "array([0, 0, 0, 0, 0, 0, 0, 0, 0, 0, 0, 0, 0, 0, 0, 0, 0, 0, 0, 0])"
            ]
          },
          "metadata": {
            "tags": []
          },
          "execution_count": 11
        }
      ]
    },
    {
      "cell_type": "code",
      "metadata": {
        "id": "HtUb6xZKgR88",
        "colab": {
          "base_uri": "https://localhost:8080/"
        },
        "outputId": "84b0d33d-6504-4dbb-9ad1-023d904aba50"
      },
      "source": [
        "clf1 = neighbors.KNeighborsClassifier()\n",
        "clf1.fit(x_train,y_train)"
      ],
      "execution_count": null,
      "outputs": [
        {
          "output_type": "execute_result",
          "data": {
            "text/plain": [
              "KNeighborsClassifier(algorithm='auto', leaf_size=30, metric='minkowski',\n",
              "                     metric_params=None, n_jobs=None, n_neighbors=5, p=2,\n",
              "                     weights='uniform')"
            ]
          },
          "metadata": {
            "tags": []
          },
          "execution_count": 12
        }
      ]
    },
    {
      "cell_type": "code",
      "metadata": {
        "id": "LzM5kjFyhAc2",
        "colab": {
          "base_uri": "https://localhost:8080/"
        },
        "outputId": "bf615211-7b12-41c0-9ad1-512c6b43bf11"
      },
      "source": [
        "clf1.predict(x_test)\n"
      ],
      "execution_count": null,
      "outputs": [
        {
          "output_type": "execute_result",
          "data": {
            "text/plain": [
              "array([0, 0, 0, 0, 0, 0, 0, 0, 0, 0, 0, 0, 0, 0, 0, 0, 0, 0, 0, 0, 0, 0,\n",
              "       0, 0])"
            ]
          },
          "metadata": {
            "tags": []
          },
          "execution_count": 13
        }
      ]
    },
    {
      "cell_type": "code",
      "metadata": {
        "id": "fZRrurZIhs8z",
        "colab": {
          "base_uri": "https://localhost:8080/",
          "height": 406
        },
        "outputId": "fb845848-edc2-4e52-88c2-a000d16fb63d"
      },
      "source": [
        "may=data.loc[:,['YEAR','MAY']]\n",
        "may"
      ],
      "execution_count": null,
      "outputs": [
        {
          "output_type": "execute_result",
          "data": {
            "text/html": [
              "<div>\n",
              "<style scoped>\n",
              "    .dataframe tbody tr th:only-of-type {\n",
              "        vertical-align: middle;\n",
              "    }\n",
              "\n",
              "    .dataframe tbody tr th {\n",
              "        vertical-align: top;\n",
              "    }\n",
              "\n",
              "    .dataframe thead th {\n",
              "        text-align: right;\n",
              "    }\n",
              "</style>\n",
              "<table border=\"1\" class=\"dataframe\">\n",
              "  <thead>\n",
              "    <tr style=\"text-align: right;\">\n",
              "      <th></th>\n",
              "      <th>YEAR</th>\n",
              "      <th>MAY</th>\n",
              "    </tr>\n",
              "  </thead>\n",
              "  <tbody>\n",
              "    <tr>\n",
              "      <th>0</th>\n",
              "      <td>1901</td>\n",
              "      <td>174.7</td>\n",
              "    </tr>\n",
              "    <tr>\n",
              "      <th>1</th>\n",
              "      <td>1902</td>\n",
              "      <td>134.5</td>\n",
              "    </tr>\n",
              "    <tr>\n",
              "      <th>2</th>\n",
              "      <td>1903</td>\n",
              "      <td>249.7</td>\n",
              "    </tr>\n",
              "    <tr>\n",
              "      <th>3</th>\n",
              "      <td>1904</td>\n",
              "      <td>235.7</td>\n",
              "    </tr>\n",
              "    <tr>\n",
              "      <th>4</th>\n",
              "      <td>1905</td>\n",
              "      <td>263.3</td>\n",
              "    </tr>\n",
              "    <tr>\n",
              "      <th>...</th>\n",
              "      <td>...</td>\n",
              "      <td>...</td>\n",
              "    </tr>\n",
              "    <tr>\n",
              "      <th>113</th>\n",
              "      <td>2014</td>\n",
              "      <td>251.0</td>\n",
              "    </tr>\n",
              "    <tr>\n",
              "      <th>114</th>\n",
              "      <td>2015</td>\n",
              "      <td>201.8</td>\n",
              "    </tr>\n",
              "    <tr>\n",
              "      <th>115</th>\n",
              "      <td>2016</td>\n",
              "      <td>186.4</td>\n",
              "    </tr>\n",
              "    <tr>\n",
              "      <th>116</th>\n",
              "      <td>2017</td>\n",
              "      <td>173.5</td>\n",
              "    </tr>\n",
              "    <tr>\n",
              "      <th>117</th>\n",
              "      <td>2018</td>\n",
              "      <td>183.8</td>\n",
              "    </tr>\n",
              "  </tbody>\n",
              "</table>\n",
              "<p>118 rows × 2 columns</p>\n",
              "</div>"
            ],
            "text/plain": [
              "     YEAR    MAY\n",
              "0    1901  174.7\n",
              "1    1902  134.5\n",
              "2    1903  249.7\n",
              "3    1904  235.7\n",
              "4    1905  263.3\n",
              "..    ...    ...\n",
              "113  2014  251.0\n",
              "114  2015  201.8\n",
              "115  2016  186.4\n",
              "116  2017  173.5\n",
              "117  2018  183.8\n",
              "\n",
              "[118 rows x 2 columns]"
            ]
          },
          "metadata": {
            "tags": []
          },
          "execution_count": 14
        }
      ]
    },
    {
      "cell_type": "code",
      "metadata": {
        "id": "7zG1Nf65iqFq",
        "colab": {
          "base_uri": "https://localhost:8080/",
          "height": 406
        },
        "outputId": "eb17d53b-bed0-4341-c1a0-68de3193bb98"
      },
      "source": [
        "may['res'] = 0\n",
        "may"
      ],
      "execution_count": null,
      "outputs": [
        {
          "output_type": "execute_result",
          "data": {
            "text/html": [
              "<div>\n",
              "<style scoped>\n",
              "    .dataframe tbody tr th:only-of-type {\n",
              "        vertical-align: middle;\n",
              "    }\n",
              "\n",
              "    .dataframe tbody tr th {\n",
              "        vertical-align: top;\n",
              "    }\n",
              "\n",
              "    .dataframe thead th {\n",
              "        text-align: right;\n",
              "    }\n",
              "</style>\n",
              "<table border=\"1\" class=\"dataframe\">\n",
              "  <thead>\n",
              "    <tr style=\"text-align: right;\">\n",
              "      <th></th>\n",
              "      <th>YEAR</th>\n",
              "      <th>MAY</th>\n",
              "      <th>res</th>\n",
              "    </tr>\n",
              "  </thead>\n",
              "  <tbody>\n",
              "    <tr>\n",
              "      <th>0</th>\n",
              "      <td>1901</td>\n",
              "      <td>174.7</td>\n",
              "      <td>0</td>\n",
              "    </tr>\n",
              "    <tr>\n",
              "      <th>1</th>\n",
              "      <td>1902</td>\n",
              "      <td>134.5</td>\n",
              "      <td>0</td>\n",
              "    </tr>\n",
              "    <tr>\n",
              "      <th>2</th>\n",
              "      <td>1903</td>\n",
              "      <td>249.7</td>\n",
              "      <td>0</td>\n",
              "    </tr>\n",
              "    <tr>\n",
              "      <th>3</th>\n",
              "      <td>1904</td>\n",
              "      <td>235.7</td>\n",
              "      <td>0</td>\n",
              "    </tr>\n",
              "    <tr>\n",
              "      <th>4</th>\n",
              "      <td>1905</td>\n",
              "      <td>263.3</td>\n",
              "      <td>0</td>\n",
              "    </tr>\n",
              "    <tr>\n",
              "      <th>...</th>\n",
              "      <td>...</td>\n",
              "      <td>...</td>\n",
              "      <td>...</td>\n",
              "    </tr>\n",
              "    <tr>\n",
              "      <th>113</th>\n",
              "      <td>2014</td>\n",
              "      <td>251.0</td>\n",
              "      <td>0</td>\n",
              "    </tr>\n",
              "    <tr>\n",
              "      <th>114</th>\n",
              "      <td>2015</td>\n",
              "      <td>201.8</td>\n",
              "      <td>0</td>\n",
              "    </tr>\n",
              "    <tr>\n",
              "      <th>115</th>\n",
              "      <td>2016</td>\n",
              "      <td>186.4</td>\n",
              "      <td>0</td>\n",
              "    </tr>\n",
              "    <tr>\n",
              "      <th>116</th>\n",
              "      <td>2017</td>\n",
              "      <td>173.5</td>\n",
              "      <td>0</td>\n",
              "    </tr>\n",
              "    <tr>\n",
              "      <th>117</th>\n",
              "      <td>2018</td>\n",
              "      <td>183.8</td>\n",
              "      <td>0</td>\n",
              "    </tr>\n",
              "  </tbody>\n",
              "</table>\n",
              "<p>118 rows × 3 columns</p>\n",
              "</div>"
            ],
            "text/plain": [
              "     YEAR    MAY  res\n",
              "0    1901  174.7    0\n",
              "1    1902  134.5    0\n",
              "2    1903  249.7    0\n",
              "3    1904  235.7    0\n",
              "4    1905  263.3    0\n",
              "..    ...    ...  ...\n",
              "113  2014  251.0    0\n",
              "114  2015  201.8    0\n",
              "115  2016  186.4    0\n",
              "116  2017  173.5    0\n",
              "117  2018  183.8    0\n",
              "\n",
              "[118 rows x 3 columns]"
            ]
          },
          "metadata": {
            "tags": []
          },
          "execution_count": 15
        }
      ]
    },
    {
      "cell_type": "code",
      "metadata": {
        "id": "l24L879bixae",
        "colab": {
          "base_uri": "https://localhost:8080/",
          "height": 647
        },
        "outputId": "355a96a6-3130-4e11-bc36-0b859004ee78"
      },
      "source": [
        "for i in range(len(may)):\n",
        "  if may['MAY'][i] > 263:\n",
        "    may['res'][i]=1\n",
        "may[:20]"
      ],
      "execution_count": null,
      "outputs": [
        {
          "output_type": "execute_result",
          "data": {
            "text/html": [
              "<div>\n",
              "<style scoped>\n",
              "    .dataframe tbody tr th:only-of-type {\n",
              "        vertical-align: middle;\n",
              "    }\n",
              "\n",
              "    .dataframe tbody tr th {\n",
              "        vertical-align: top;\n",
              "    }\n",
              "\n",
              "    .dataframe thead th {\n",
              "        text-align: right;\n",
              "    }\n",
              "</style>\n",
              "<table border=\"1\" class=\"dataframe\">\n",
              "  <thead>\n",
              "    <tr style=\"text-align: right;\">\n",
              "      <th></th>\n",
              "      <th>YEAR</th>\n",
              "      <th>MAY</th>\n",
              "      <th>res</th>\n",
              "    </tr>\n",
              "  </thead>\n",
              "  <tbody>\n",
              "    <tr>\n",
              "      <th>0</th>\n",
              "      <td>1901</td>\n",
              "      <td>174.7</td>\n",
              "      <td>0</td>\n",
              "    </tr>\n",
              "    <tr>\n",
              "      <th>1</th>\n",
              "      <td>1902</td>\n",
              "      <td>134.5</td>\n",
              "      <td>0</td>\n",
              "    </tr>\n",
              "    <tr>\n",
              "      <th>2</th>\n",
              "      <td>1903</td>\n",
              "      <td>249.7</td>\n",
              "      <td>0</td>\n",
              "    </tr>\n",
              "    <tr>\n",
              "      <th>3</th>\n",
              "      <td>1904</td>\n",
              "      <td>235.7</td>\n",
              "      <td>0</td>\n",
              "    </tr>\n",
              "    <tr>\n",
              "      <th>4</th>\n",
              "      <td>1905</td>\n",
              "      <td>263.3</td>\n",
              "      <td>1</td>\n",
              "    </tr>\n",
              "    <tr>\n",
              "      <th>5</th>\n",
              "      <td>1906</td>\n",
              "      <td>160.8</td>\n",
              "      <td>0</td>\n",
              "    </tr>\n",
              "    <tr>\n",
              "      <th>6</th>\n",
              "      <td>1907</td>\n",
              "      <td>101.4</td>\n",
              "      <td>0</td>\n",
              "    </tr>\n",
              "    <tr>\n",
              "      <th>7</th>\n",
              "      <td>1908</td>\n",
              "      <td>142.6</td>\n",
              "      <td>0</td>\n",
              "    </tr>\n",
              "    <tr>\n",
              "      <th>8</th>\n",
              "      <td>1909</td>\n",
              "      <td>473.2</td>\n",
              "      <td>1</td>\n",
              "    </tr>\n",
              "    <tr>\n",
              "      <th>9</th>\n",
              "      <td>1910</td>\n",
              "      <td>148.8</td>\n",
              "      <td>0</td>\n",
              "    </tr>\n",
              "    <tr>\n",
              "      <th>10</th>\n",
              "      <td>1911</td>\n",
              "      <td>180.6</td>\n",
              "      <td>0</td>\n",
              "    </tr>\n",
              "    <tr>\n",
              "      <th>11</th>\n",
              "      <td>1912</td>\n",
              "      <td>217.3</td>\n",
              "      <td>0</td>\n",
              "    </tr>\n",
              "    <tr>\n",
              "      <th>12</th>\n",
              "      <td>1913</td>\n",
              "      <td>198.8</td>\n",
              "      <td>0</td>\n",
              "    </tr>\n",
              "    <tr>\n",
              "      <th>13</th>\n",
              "      <td>1914</td>\n",
              "      <td>164.2</td>\n",
              "      <td>0</td>\n",
              "    </tr>\n",
              "    <tr>\n",
              "      <th>14</th>\n",
              "      <td>1915</td>\n",
              "      <td>154.5</td>\n",
              "      <td>0</td>\n",
              "    </tr>\n",
              "    <tr>\n",
              "      <th>15</th>\n",
              "      <td>1916</td>\n",
              "      <td>199.0</td>\n",
              "      <td>0</td>\n",
              "    </tr>\n",
              "    <tr>\n",
              "      <th>16</th>\n",
              "      <td>1917</td>\n",
              "      <td>122.9</td>\n",
              "      <td>0</td>\n",
              "    </tr>\n",
              "    <tr>\n",
              "      <th>17</th>\n",
              "      <td>1918</td>\n",
              "      <td>683.0</td>\n",
              "      <td>1</td>\n",
              "    </tr>\n",
              "    <tr>\n",
              "      <th>18</th>\n",
              "      <td>1919</td>\n",
              "      <td>247.0</td>\n",
              "      <td>0</td>\n",
              "    </tr>\n",
              "    <tr>\n",
              "      <th>19</th>\n",
              "      <td>1920</td>\n",
              "      <td>87.7</td>\n",
              "      <td>0</td>\n",
              "    </tr>\n",
              "  </tbody>\n",
              "</table>\n",
              "</div>"
            ],
            "text/plain": [
              "    YEAR    MAY  res\n",
              "0   1901  174.7    0\n",
              "1   1902  134.5    0\n",
              "2   1903  249.7    0\n",
              "3   1904  235.7    0\n",
              "4   1905  263.3    1\n",
              "5   1906  160.8    0\n",
              "6   1907  101.4    0\n",
              "7   1908  142.6    0\n",
              "8   1909  473.2    1\n",
              "9   1910  148.8    0\n",
              "10  1911  180.6    0\n",
              "11  1912  217.3    0\n",
              "12  1913  198.8    0\n",
              "13  1914  164.2    0\n",
              "14  1915  154.5    0\n",
              "15  1916  199.0    0\n",
              "16  1917  122.9    0\n",
              "17  1918  683.0    1\n",
              "18  1919  247.0    0\n",
              "19  1920   87.7    0"
            ]
          },
          "metadata": {
            "tags": []
          },
          "execution_count": 16
        }
      ]
    },
    {
      "cell_type": "code",
      "metadata": {
        "id": "X2_I8lAtj0a5",
        "colab": {
          "base_uri": "https://localhost:8080/",
          "height": 406
        },
        "outputId": "cbd575c7-22e9-4008-ec82-a87d6b9c19b7"
      },
      "source": [
        "x1=may.iloc[:,0:2]\n",
        "x1"
      ],
      "execution_count": null,
      "outputs": [
        {
          "output_type": "execute_result",
          "data": {
            "text/html": [
              "<div>\n",
              "<style scoped>\n",
              "    .dataframe tbody tr th:only-of-type {\n",
              "        vertical-align: middle;\n",
              "    }\n",
              "\n",
              "    .dataframe tbody tr th {\n",
              "        vertical-align: top;\n",
              "    }\n",
              "\n",
              "    .dataframe thead th {\n",
              "        text-align: right;\n",
              "    }\n",
              "</style>\n",
              "<table border=\"1\" class=\"dataframe\">\n",
              "  <thead>\n",
              "    <tr style=\"text-align: right;\">\n",
              "      <th></th>\n",
              "      <th>YEAR</th>\n",
              "      <th>MAY</th>\n",
              "    </tr>\n",
              "  </thead>\n",
              "  <tbody>\n",
              "    <tr>\n",
              "      <th>0</th>\n",
              "      <td>1901</td>\n",
              "      <td>174.7</td>\n",
              "    </tr>\n",
              "    <tr>\n",
              "      <th>1</th>\n",
              "      <td>1902</td>\n",
              "      <td>134.5</td>\n",
              "    </tr>\n",
              "    <tr>\n",
              "      <th>2</th>\n",
              "      <td>1903</td>\n",
              "      <td>249.7</td>\n",
              "    </tr>\n",
              "    <tr>\n",
              "      <th>3</th>\n",
              "      <td>1904</td>\n",
              "      <td>235.7</td>\n",
              "    </tr>\n",
              "    <tr>\n",
              "      <th>4</th>\n",
              "      <td>1905</td>\n",
              "      <td>263.3</td>\n",
              "    </tr>\n",
              "    <tr>\n",
              "      <th>...</th>\n",
              "      <td>...</td>\n",
              "      <td>...</td>\n",
              "    </tr>\n",
              "    <tr>\n",
              "      <th>113</th>\n",
              "      <td>2014</td>\n",
              "      <td>251.0</td>\n",
              "    </tr>\n",
              "    <tr>\n",
              "      <th>114</th>\n",
              "      <td>2015</td>\n",
              "      <td>201.8</td>\n",
              "    </tr>\n",
              "    <tr>\n",
              "      <th>115</th>\n",
              "      <td>2016</td>\n",
              "      <td>186.4</td>\n",
              "    </tr>\n",
              "    <tr>\n",
              "      <th>116</th>\n",
              "      <td>2017</td>\n",
              "      <td>173.5</td>\n",
              "    </tr>\n",
              "    <tr>\n",
              "      <th>117</th>\n",
              "      <td>2018</td>\n",
              "      <td>183.8</td>\n",
              "    </tr>\n",
              "  </tbody>\n",
              "</table>\n",
              "<p>118 rows × 2 columns</p>\n",
              "</div>"
            ],
            "text/plain": [
              "     YEAR    MAY\n",
              "0    1901  174.7\n",
              "1    1902  134.5\n",
              "2    1903  249.7\n",
              "3    1904  235.7\n",
              "4    1905  263.3\n",
              "..    ...    ...\n",
              "113  2014  251.0\n",
              "114  2015  201.8\n",
              "115  2016  186.4\n",
              "116  2017  173.5\n",
              "117  2018  183.8\n",
              "\n",
              "[118 rows x 2 columns]"
            ]
          },
          "metadata": {
            "tags": []
          },
          "execution_count": 17
        }
      ]
    },
    {
      "cell_type": "code",
      "metadata": {
        "id": "l1gOezcvkj76",
        "colab": {
          "base_uri": "https://localhost:8080/"
        },
        "outputId": "34c6fc46-ac1a-419b-ed7f-162f675e3740"
      },
      "source": [
        "y1=may.iloc[:,-1]\n",
        "y1=np.asarray(y1)\n",
        "y1"
      ],
      "execution_count": null,
      "outputs": [
        {
          "output_type": "execute_result",
          "data": {
            "text/plain": [
              "array([0, 0, 0, 0, 1, 0, 0, 0, 1, 0, 0, 0, 0, 0, 0, 0, 0, 1, 0, 0, 0, 1,\n",
              "       0, 0, 0, 0, 1, 0, 0, 1, 0, 1, 1, 0, 0, 1, 0, 0, 0, 0, 1, 0, 1, 0,\n",
              "       0, 0, 0, 0, 1, 0, 0, 0, 0, 0, 1, 1, 1, 1, 1, 1, 1, 1, 0, 0, 0, 0,\n",
              "       0, 0, 0, 1, 1, 1, 0, 0, 0, 0, 1, 1, 0, 0, 0, 0, 0, 0, 0, 0, 0, 0,\n",
              "       0, 1, 0, 0, 0, 0, 1, 0, 0, 0, 1, 0, 0, 1, 0, 1, 0, 1, 0, 0, 0, 0,\n",
              "       0, 0, 0, 0, 0, 0, 0, 0])"
            ]
          },
          "metadata": {
            "tags": []
          },
          "execution_count": 18
        }
      ]
    },
    {
      "cell_type": "code",
      "metadata": {
        "id": "I2sCTX63kqU3",
        "colab": {
          "base_uri": "https://localhost:8080/"
        },
        "outputId": "d5db936a-48a6-409c-dd32-56a5a855f3d3"
      },
      "source": [
        "from sklearn import preprocessing\n",
        "minmax = preprocessing.MinMaxScaler(feature_range=(0,1))\n",
        "x1 = minmax.fit(x1).transform(x1)\n",
        "x1"
      ],
      "execution_count": null,
      "outputs": [
        {
          "output_type": "execute_result",
          "data": {
            "text/plain": [
              "array([[0.        , 0.17697695],\n",
              "       [0.00854701, 0.11832507],\n",
              "       [0.01709402, 0.2864021 ],\n",
              "       [0.02564103, 0.26597607],\n",
              "       [0.03418803, 0.30624453],\n",
              "       [0.04273504, 0.15669682],\n",
              "       [0.05128205, 0.0700321 ],\n",
              "       [0.05982906, 0.13014298],\n",
              "       [0.06837607, 0.61248906],\n",
              "       [0.07692308, 0.13918879],\n",
              "       [0.08547009, 0.18558506],\n",
              "       [0.09401709, 0.23913043],\n",
              "       [0.1025641 , 0.2121389 ],\n",
              "       [0.11111111, 0.16165743],\n",
              "       [0.11965812, 0.14750511],\n",
              "       [0.12820513, 0.2124307 ],\n",
              "       [0.13675214, 0.10140064],\n",
              "       [0.14529915, 0.91858769],\n",
              "       [0.15384615, 0.2824628 ],\n",
              "       [0.16239316, 0.05004377],\n",
              "       [0.17094017, 0.0739714 ],\n",
              "       [0.17948718, 0.35045229],\n",
              "       [0.18803419, 0.03880945],\n",
              "       [0.1965812 , 0.19258827],\n",
              "       [0.20512821, 0.29880362],\n",
              "       [0.21367521, 0.24686315],\n",
              "       [0.22222222, 0.30930843],\n",
              "       [0.23076923, 0.04158156],\n",
              "       [0.23931624, 0.13802159],\n",
              "       [0.24786325, 0.51283922],\n",
              "       [0.25641026, 0.11423986],\n",
              "       [0.26495726, 0.86533411],\n",
              "       [0.27350427, 1.        ],\n",
              "       [0.28205128, 0.07776481],\n",
              "       [0.29059829, 0.00466881],\n",
              "       [0.2991453 , 0.60271374],\n",
              "       [0.30769231, 0.12211847],\n",
              "       [0.31623932, 0.18412606],\n",
              "       [0.32478632, 0.07543041],\n",
              "       [0.33333333, 0.23927633],\n",
              "       [0.34188034, 0.53122264],\n",
              "       [0.35042735, 0.20207178],\n",
              "       [0.35897436, 0.62007587],\n",
              "       [0.36752137, 0.23241903],\n",
              "       [0.37606838, 0.        ],\n",
              "       [0.38461538, 0.04318646],\n",
              "       [0.39316239, 0.04712577],\n",
              "       [0.4017094 , 0.23183542],\n",
              "       [0.41025641, 0.56405019],\n",
              "       [0.41880342, 0.27516779],\n",
              "       [0.42735043, 0.13875109],\n",
              "       [0.43589744, 0.23519113],\n",
              "       [0.44444444, 0.002918  ],\n",
              "       [0.45299145, 0.18398016],\n",
              "       [0.46153846, 0.7160782 ],\n",
              "       [0.47008547, 0.43463671],\n",
              "       [0.47863248, 0.47826087],\n",
              "       [0.48717949, 0.43784651],\n",
              "       [0.4957265 , 0.4286548 ],\n",
              "       [0.5042735 , 0.70995039],\n",
              "       [0.51282051, 0.65231981],\n",
              "       [0.52136752, 0.61132186],\n",
              "       [0.52991453, 0.15129851],\n",
              "       [0.53846154, 0.06040268],\n",
              "       [0.54700855, 0.23504523],\n",
              "       [0.55555556, 0.06098629],\n",
              "       [0.56410256, 0.27939889],\n",
              "       [0.57264957, 0.05339947],\n",
              "       [0.58119658, 0.25386636],\n",
              "       [0.58974359, 0.34388678],\n",
              "       [0.5982906 , 0.38532244],\n",
              "       [0.60683761, 0.55821418],\n",
              "       [0.61538462, 0.09702364],\n",
              "       [0.62393162, 0.24525824],\n",
              "       [0.63247863, 0.15873942],\n",
              "       [0.64102564, 0.03268165],\n",
              "       [0.64957265, 0.36912752],\n",
              "       [0.65811966, 0.5010213 ],\n",
              "       [0.66666667, 0.10840385],\n",
              "       [0.67521368, 0.07572221],\n",
              "       [0.68376068, 0.16472133],\n",
              "       [0.69230769, 0.13831339],\n",
              "       [0.7008547 , 0.03297345],\n",
              "       [0.70940171, 0.04552086],\n",
              "       [0.71794872, 0.29296761],\n",
              "       [0.72649573, 0.10694485],\n",
              "       [0.73504274, 0.08009921],\n",
              "       [0.74358974, 0.15144441],\n",
              "       [0.75213675, 0.16924424],\n",
              "       [0.76068376, 0.63481179],\n",
              "       [0.76923077, 0.08754012],\n",
              "       [0.77777778, 0.24073534],\n",
              "       [0.78632479, 0.15407062],\n",
              "       [0.79487179, 0.12824628],\n",
              "       [0.8034188 , 0.44091042],\n",
              "       [0.81196581, 0.03049314],\n",
              "       [0.82051282, 0.11701196],\n",
              "       [0.82905983, 0.143274  ],\n",
              "       [0.83760684, 0.58330902],\n",
              "       [0.84615385, 0.10373505],\n",
              "       [0.85470085, 0.27020718],\n",
              "       [0.86324786, 0.40472717],\n",
              "       [0.87179487, 0.05485848],\n",
              "       [0.88034188, 0.81339364],\n",
              "       [0.88888889, 0.11876277],\n",
              "       [0.8974359 , 0.68252116],\n",
              "       [0.90598291, 0.20323898],\n",
              "       [0.91452991, 0.04056026],\n",
              "       [0.92307692, 0.20163408],\n",
              "       [0.93162393, 0.20017508],\n",
              "       [0.94017094, 0.10329734],\n",
              "       [0.94871795, 0.06113219],\n",
              "       [0.95726496, 0.09614823],\n",
              "       [0.96581197, 0.2882988 ],\n",
              "       [0.97435897, 0.2165159 ],\n",
              "       [0.98290598, 0.19404727],\n",
              "       [0.99145299, 0.17522615],\n",
              "       [1.        , 0.19025387]])"
            ]
          },
          "metadata": {
            "tags": []
          },
          "execution_count": 19
        }
      ]
    },
    {
      "cell_type": "code",
      "metadata": {
        "id": "-pzcTI8nlQca",
        "colab": {
          "base_uri": "https://localhost:8080/"
        },
        "outputId": "1d6c8901-e043-4fb1-e439-e7108ac511e0"
      },
      "source": [
        "from sklearn import model_selection,neighbors\n",
        "from sklearn.model_selection import train_test_split\n",
        "xMay_train,xMay_test,yMay_train,yMay_test=train_test_split(x1,y1,test_size=0.2)\n",
        "xMay_train[:20]"
      ],
      "execution_count": null,
      "outputs": [
        {
          "output_type": "execute_result",
          "data": {
            "text/plain": [
              "array([[0.41880342, 0.27516779],\n",
              "       [0.94017094, 0.10329734],\n",
              "       [0.1965812 , 0.19258827],\n",
              "       [0.76068376, 0.63481179],\n",
              "       [0.68376068, 0.16472133],\n",
              "       [0.20512821, 0.29880362],\n",
              "       [0.8034188 , 0.44091042],\n",
              "       [0.26495726, 0.86533411],\n",
              "       [0.39316239, 0.04712577],\n",
              "       [0.54700855, 0.23504523],\n",
              "       [0.09401709, 0.23913043],\n",
              "       [0.79487179, 0.12824628],\n",
              "       [0.18803419, 0.03880945],\n",
              "       [0.96581197, 0.2882988 ],\n",
              "       [0.69230769, 0.13831339],\n",
              "       [0.75213675, 0.16924424],\n",
              "       [0.42735043, 0.13875109],\n",
              "       [0.67521368, 0.07572221],\n",
              "       [0.57264957, 0.05339947],\n",
              "       [0.15384615, 0.2824628 ]])"
            ]
          },
          "metadata": {
            "tags": []
          },
          "execution_count": 20
        }
      ]
    },
    {
      "cell_type": "code",
      "metadata": {
        "id": "9IRIsN4xbLZ1"
      },
      "source": [
        ""
      ],
      "execution_count": null,
      "outputs": []
    },
    {
      "cell_type": "markdown",
      "metadata": {
        "id": "jjMhiWv3bMI9"
      },
      "source": [
        ""
      ]
    },
    {
      "cell_type": "code",
      "metadata": {
        "id": "9UUgWnFMbMmp"
      },
      "source": [
        ""
      ],
      "execution_count": null,
      "outputs": []
    },
    {
      "cell_type": "code",
      "metadata": {
        "id": "XnB6phVRzJYi",
        "colab": {
          "base_uri": "https://localhost:8080/"
        },
        "outputId": "e11ad8e4-42e4-495d-ae72-b09b6903dcd1"
      },
      "source": [
        "yMay_train"
      ],
      "execution_count": null,
      "outputs": [
        {
          "output_type": "execute_result",
          "data": {
            "text/plain": [
              "array([0, 0, 0, 1, 0, 0, 1, 1, 0, 0, 0, 0, 0, 0, 0, 0, 0, 0, 0, 0, 1, 0,\n",
              "       0, 0, 0, 1, 1, 1, 1, 1, 0, 0, 0, 1, 0, 0, 1, 0, 1, 0, 0, 1, 0, 0,\n",
              "       0, 1, 0, 0, 0, 0, 0, 0, 0, 0, 0, 0, 0, 0, 0, 0, 0, 0, 1, 0, 1, 0,\n",
              "       1, 0, 0, 0, 1, 0, 0, 0, 0, 0, 0, 0, 0, 1, 0, 0, 0, 0, 0, 0, 0, 0,\n",
              "       0, 1, 0, 1, 1, 1])"
            ]
          },
          "metadata": {
            "tags": []
          },
          "execution_count": 21
        }
      ]
    },
    {
      "cell_type": "code",
      "metadata": {
        "id": "X5UQ9of8lqEe",
        "colab": {
          "base_uri": "https://localhost:8080/"
        },
        "outputId": "556711c4-5b2c-4f2c-db6e-b6d7a2fe9ef4"
      },
      "source": [
        "clf5=neighbors.KNeighborsClassifier()\n",
        "clf5.fit(xMay_train,yMay_train)"
      ],
      "execution_count": null,
      "outputs": [
        {
          "output_type": "execute_result",
          "data": {
            "text/plain": [
              "KNeighborsClassifier(algorithm='auto', leaf_size=30, metric='minkowski',\n",
              "                     metric_params=None, n_jobs=None, n_neighbors=5, p=2,\n",
              "                     weights='uniform')"
            ]
          },
          "metadata": {
            "tags": []
          },
          "execution_count": 22
        }
      ]
    },
    {
      "cell_type": "code",
      "metadata": {
        "id": "F6V7sg6M0BR_",
        "colab": {
          "base_uri": "https://localhost:8080/"
        },
        "outputId": "361b5713-c2c7-499e-d520-120346403b11"
      },
      "source": [
        "yMay_predict = clf5.predict(xMay_test)\n",
        "yMay_predict"
      ],
      "execution_count": null,
      "outputs": [
        {
          "output_type": "execute_result",
          "data": {
            "text/plain": [
              "array([0, 0, 0, 0, 0, 0, 1, 0, 0, 1, 0, 0, 0, 1, 0, 1, 0, 0, 1, 0, 0, 1,\n",
              "       0, 0])"
            ]
          },
          "metadata": {
            "tags": []
          },
          "execution_count": 23
        }
      ]
    },
    {
      "cell_type": "code",
      "metadata": {
        "id": "9CWXSd6UmG5A",
        "colab": {
          "base_uri": "https://localhost:8080/",
          "height": 282
        },
        "outputId": "7cc5084a-5d16-478b-d0d3-b708f268afa6"
      },
      "source": [
        "import matplotlib.pyplot as plt\n",
        "plt.plot(yMay_test)\n",
        "\n"
      ],
      "execution_count": null,
      "outputs": [
        {
          "output_type": "execute_result",
          "data": {
            "text/plain": [
              "[<matplotlib.lines.Line2D at 0x7f5073cc3490>]"
            ]
          },
          "metadata": {
            "tags": []
          },
          "execution_count": 24
        },
        {
          "output_type": "display_data",
          "data": {
            "image/png": "[encoded data removed]",
            "text/plain": [
              "<Figure size 432x288 with 1 Axes>"
            ]
          },
          "metadata": {
            "tags": [],
            "needs_background": "light"
          }
        }
      ]
    },
    {
      "cell_type": "code",
      "metadata": {
        "id": "32b0jaBPoIhA",
        "colab": {
          "base_uri": "https://localhost:8080/",
          "height": 282
        },
        "outputId": "6b6c9444-34ab-48aa-d8b6-c982c1e23b85"
      },
      "source": [
        "plt.plot(yMay_predict)"
      ],
      "execution_count": null,
      "outputs": [
        {
          "output_type": "execute_result",
          "data": {
            "text/plain": [
              "[<matplotlib.lines.Line2D at 0x7f507355cd90>]"
            ]
          },
          "metadata": {
            "tags": []
          },
          "execution_count": 25
        },
        {
          "output_type": "display_data",
          "data": {
            "image/png": "[encoded data removed]",
            "text/plain": [
              "<Figure size 432x288 with 1 Axes>"
            ]
          },
          "metadata": {
            "tags": [],
            "needs_background": "light"
          }
        }
      ]
    },
    {
      "cell_type": "code",
      "metadata": {
        "id": "lpNg2PlstmOm"
      },
      "source": [
        ""
      ],
      "execution_count": null,
      "outputs": []
    },
    {
      "cell_type": "code",
      "metadata": {
        "id": "IeottuuOhODo",
        "colab": {
          "base_uri": "https://localhost:8080/",
          "height": 406
        },
        "outputId": "ac684c2e-6d5c-4179-f530-77a2cee19e7b"
      },
      "source": [
        "feb=data.iloc[:,[1,3]]\n",
        "feb"
      ],
      "execution_count": null,
      "outputs": [
        {
          "output_type": "execute_result",
          "data": {
            "text/html": [
              "<div>\n",
              "<style scoped>\n",
              "    .dataframe tbody tr th:only-of-type {\n",
              "        vertical-align: middle;\n",
              "    }\n",
              "\n",
              "    .dataframe tbody tr th {\n",
              "        vertical-align: top;\n",
              "    }\n",
              "\n",
              "    .dataframe thead th {\n",
              "        text-align: right;\n",
              "    }\n",
              "</style>\n",
              "<table border=\"1\" class=\"dataframe\">\n",
              "  <thead>\n",
              "    <tr style=\"text-align: right;\">\n",
              "      <th></th>\n",
              "      <th>YEAR</th>\n",
              "      <th>FEB</th>\n",
              "    </tr>\n",
              "  </thead>\n",
              "  <tbody>\n",
              "    <tr>\n",
              "      <th>0</th>\n",
              "      <td>1901</td>\n",
              "      <td>44.7</td>\n",
              "    </tr>\n",
              "    <tr>\n",
              "      <th>1</th>\n",
              "      <td>1902</td>\n",
              "      <td>2.6</td>\n",
              "    </tr>\n",
              "    <tr>\n",
              "      <th>2</th>\n",
              "      <td>1903</td>\n",
              "      <td>18.6</td>\n",
              "    </tr>\n",
              "    <tr>\n",
              "      <th>3</th>\n",
              "      <td>1904</td>\n",
              "      <td>3.0</td>\n",
              "    </tr>\n",
              "    <tr>\n",
              "      <th>4</th>\n",
              "      <td>1905</td>\n",
              "      <td>22.3</td>\n",
              "    </tr>\n",
              "    <tr>\n",
              "      <th>...</th>\n",
              "      <td>...</td>\n",
              "      <td>...</td>\n",
              "    </tr>\n",
              "    <tr>\n",
              "      <th>113</th>\n",
              "      <td>2014</td>\n",
              "      <td>10.3</td>\n",
              "    </tr>\n",
              "    <tr>\n",
              "      <th>114</th>\n",
              "      <td>2015</td>\n",
              "      <td>5.8</td>\n",
              "    </tr>\n",
              "    <tr>\n",
              "      <th>115</th>\n",
              "      <td>2016</td>\n",
              "      <td>3.8</td>\n",
              "    </tr>\n",
              "    <tr>\n",
              "      <th>116</th>\n",
              "      <td>2017</td>\n",
              "      <td>6.8</td>\n",
              "    </tr>\n",
              "    <tr>\n",
              "      <th>117</th>\n",
              "      <td>2018</td>\n",
              "      <td>52.1</td>\n",
              "    </tr>\n",
              "  </tbody>\n",
              "</table>\n",
              "<p>118 rows × 2 columns</p>\n",
              "</div>"
            ],
            "text/plain": [
              "     YEAR   FEB\n",
              "0    1901  44.7\n",
              "1    1902   2.6\n",
              "2    1903  18.6\n",
              "3    1904   3.0\n",
              "4    1905  22.3\n",
              "..    ...   ...\n",
              "113  2014  10.3\n",
              "114  2015   5.8\n",
              "115  2016   3.8\n",
              "116  2017   6.8\n",
              "117  2018  52.1\n",
              "\n",
              "[118 rows x 2 columns]"
            ]
          },
          "metadata": {
            "tags": []
          },
          "execution_count": 26
        }
      ]
    },
    {
      "cell_type": "code",
      "metadata": {
        "id": "lIbvb5mjuml7",
        "colab": {
          "base_uri": "https://localhost:8080/",
          "height": 406
        },
        "outputId": "23cdaafa-feaa-4c3a-d65b-4c1ace9fda0c"
      },
      "source": [
        "feb['res']=0\n",
        "feb\n",
        "for i in range(len(feb)):\n",
        "  if feb['FEB'][i]>263:\n",
        "    feb['res'][i]=1\n",
        "feb"
      ],
      "execution_count": null,
      "outputs": [
        {
          "output_type": "execute_result",
          "data": {
            "text/html": [
              "<div>\n",
              "<style scoped>\n",
              "    .dataframe tbody tr th:only-of-type {\n",
              "        vertical-align: middle;\n",
              "    }\n",
              "\n",
              "    .dataframe tbody tr th {\n",
              "        vertical-align: top;\n",
              "    }\n",
              "\n",
              "    .dataframe thead th {\n",
              "        text-align: right;\n",
              "    }\n",
              "</style>\n",
              "<table border=\"1\" class=\"dataframe\">\n",
              "  <thead>\n",
              "    <tr style=\"text-align: right;\">\n",
              "      <th></th>\n",
              "      <th>YEAR</th>\n",
              "      <th>FEB</th>\n",
              "      <th>res</th>\n",
              "    </tr>\n",
              "  </thead>\n",
              "  <tbody>\n",
              "    <tr>\n",
              "      <th>0</th>\n",
              "      <td>1901</td>\n",
              "      <td>44.7</td>\n",
              "      <td>0</td>\n",
              "    </tr>\n",
              "    <tr>\n",
              "      <th>1</th>\n",
              "      <td>1902</td>\n",
              "      <td>2.6</td>\n",
              "      <td>0</td>\n",
              "    </tr>\n",
              "    <tr>\n",
              "      <th>2</th>\n",
              "      <td>1903</td>\n",
              "      <td>18.6</td>\n",
              "      <td>0</td>\n",
              "    </tr>\n",
              "    <tr>\n",
              "      <th>3</th>\n",
              "      <td>1904</td>\n",
              "      <td>3.0</td>\n",
              "      <td>0</td>\n",
              "    </tr>\n",
              "    <tr>\n",
              "      <th>4</th>\n",
              "      <td>1905</td>\n",
              "      <td>22.3</td>\n",
              "      <td>0</td>\n",
              "    </tr>\n",
              "    <tr>\n",
              "      <th>...</th>\n",
              "      <td>...</td>\n",
              "      <td>...</td>\n",
              "      <td>...</td>\n",
              "    </tr>\n",
              "    <tr>\n",
              "      <th>113</th>\n",
              "      <td>2014</td>\n",
              "      <td>10.3</td>\n",
              "      <td>0</td>\n",
              "    </tr>\n",
              "    <tr>\n",
              "      <th>114</th>\n",
              "      <td>2015</td>\n",
              "      <td>5.8</td>\n",
              "      <td>0</td>\n",
              "    </tr>\n",
              "    <tr>\n",
              "      <th>115</th>\n",
              "      <td>2016</td>\n",
              "      <td>3.8</td>\n",
              "      <td>0</td>\n",
              "    </tr>\n",
              "    <tr>\n",
              "      <th>116</th>\n",
              "      <td>2017</td>\n",
              "      <td>6.8</td>\n",
              "      <td>0</td>\n",
              "    </tr>\n",
              "    <tr>\n",
              "      <th>117</th>\n",
              "      <td>2018</td>\n",
              "      <td>52.1</td>\n",
              "      <td>0</td>\n",
              "    </tr>\n",
              "  </tbody>\n",
              "</table>\n",
              "<p>118 rows × 3 columns</p>\n",
              "</div>"
            ],
            "text/plain": [
              "     YEAR   FEB  res\n",
              "0    1901  44.7    0\n",
              "1    1902   2.6    0\n",
              "2    1903  18.6    0\n",
              "3    1904   3.0    0\n",
              "4    1905  22.3    0\n",
              "..    ...   ...  ...\n",
              "113  2014  10.3    0\n",
              "114  2015   5.8    0\n",
              "115  2016   3.8    0\n",
              "116  2017   6.8    0\n",
              "117  2018  52.1    0\n",
              "\n",
              "[118 rows x 3 columns]"
            ]
          },
          "metadata": {
            "tags": []
          },
          "execution_count": 27
        }
      ]
    },
    {
      "cell_type": "code",
      "metadata": {
        "id": "G_MuUZLtvX-a",
        "colab": {
          "base_uri": "https://localhost:8080/"
        },
        "outputId": "69aee1bb-e63a-436e-bc7c-95266bb230cf"
      },
      "source": [
        "x=feb.iloc[:,0:2]\n",
        "y=feb.iloc[:,-1]\n",
        "y=np.asarray(y)\n",
        "print(x,y)"
      ],
      "execution_count": null,
      "outputs": [
        {
          "output_type": "stream",
          "text": [
            "     YEAR   FEB\n",
            "0    1901  44.7\n",
            "1    1902   2.6\n",
            "2    1903  18.6\n",
            "3    1904   3.0\n",
            "4    1905  22.3\n",
            "..    ...   ...\n",
            "113  2014  10.3\n",
            "114  2015   5.8\n",
            "115  2016   3.8\n",
            "116  2017   6.8\n",
            "117  2018  52.1\n",
            "\n",
            "[118 rows x 2 columns] [0 0 0 0 0 0 0 0 0 0 0 0 0 0 0 0 0 0 0 0 0 0 0 0 0 0 0 0 0 0 0 0 0 0 0 0 0\n",
            " 0 0 0 0 0 0 0 0 0 0 0 0 0 0 0 0 0 0 0 0 0 0 0 0 0 0 0 0 0 0 0 0 0 0 0 0 0\n",
            " 0 0 0 0 0 0 0 0 0 0 0 0 0 0 0 0 0 0 0 0 0 0 0 0 0 0 0 0 0 0 0 0 0 0 0 0 0\n",
            " 0 0 0 0 0 0 0]\n"
          ],
          "name": "stdout"
        }
      ]
    },
    {
      "cell_type": "code",
      "metadata": {
        "id": "ZhY1WdjJx2YE",
        "colab": {
          "base_uri": "https://localhost:8080/"
        },
        "outputId": "58a5207b-8682-4e30-d97a-50928b583554"
      },
      "source": [
        "from sklearn import preprocessing\n",
        "from sklearn import model_selection,neighbors\n",
        "from sklearn.model_selection import train_test_split\n",
        "\n",
        "minmax = preprocessing.MinMaxScaler(feature_range=(0,1))\n",
        "x = minmax.fit(x).transform(x)\n",
        "xFeb_train,xFeb_test,yFeb_train,yFeb_test=train_test_split(x,y,test_size=0.2)\n",
        "print(xFeb_train,yFeb_train,xFeb_test,yFeb_test)"
      ],
      "execution_count": null,
      "outputs": [
        {
          "output_type": "stream",
          "text": [
            "[[0.75213675 0.        ]\n",
            " [0.97435897 0.07341772]\n",
            " [0.7008547  0.01898734]\n",
            " [0.77777778 0.01139241]\n",
            " [0.64957265 0.19873418]\n",
            " [0.14529915 0.06329114]\n",
            " [0.23931624 0.37721519]\n",
            " [0.69230769 0.00126582]\n",
            " [0.33333333 0.01898734]\n",
            " [0.66666667 0.37974684]\n",
            " [0.08547009 0.05443038]\n",
            " [0.21367521 0.07341772]\n",
            " [0.67521368 0.01139241]\n",
            " [0.24786325 0.13670886]\n",
            " [0.         0.56582278]\n",
            " [0.31623932 1.        ]\n",
            " [0.11965812 0.29746835]\n",
            " [0.79487179 0.34303797]\n",
            " [0.87179487 0.6443038 ]\n",
            " [0.91452991 0.3835443 ]\n",
            " [0.52136752 0.69240506]\n",
            " [0.07692308 0.32531646]\n",
            " [0.54700855 0.01139241]\n",
            " [0.78632479 0.22531646]\n",
            " [0.58119658 0.08101266]\n",
            " [0.58974359 0.22278481]\n",
            " [0.62393162 0.06835443]\n",
            " [0.27350427 0.11772152]\n",
            " [0.73504274 0.01012658]\n",
            " [0.5042735  0.10632911]\n",
            " [1.         0.65949367]\n",
            " [0.37606838 0.12531646]\n",
            " [0.95726496 0.50759494]\n",
            " [0.17948718 0.27088608]\n",
            " [0.25641026 0.00379747]\n",
            " [0.5982906  0.23417722]\n",
            " [0.43589744 0.61012658]\n",
            " [0.09401709 0.18987342]\n",
            " [0.39316239 0.34556962]\n",
            " [0.30769231 0.26835443]\n",
            " [0.46153846 0.07974684]\n",
            " [0.11111111 0.08607595]\n",
            " [0.51282051 0.39620253]\n",
            " [0.41025641 0.02278481]\n",
            " [0.48717949 0.2443038 ]\n",
            " [0.34188034 0.05822785]\n",
            " [0.38461538 0.06835443]\n",
            " [0.86324786 0.11012658]\n",
            " [0.94871795 0.13924051]\n",
            " [0.18803419 0.00886076]\n",
            " [0.47863248 0.20253165]\n",
            " [0.88888889 0.08860759]\n",
            " [0.36752137 0.33670886]\n",
            " [0.01709402 0.23544304]\n",
            " [0.35042735 0.05949367]\n",
            " [0.72649573 0.23670886]\n",
            " [0.4017094  0.10506329]\n",
            " [0.04273504 0.09367089]\n",
            " [0.23076923 0.83417722]\n",
            " [0.56410256 0.00126582]\n",
            " [0.53846154 0.09873418]\n",
            " [0.60683761 0.09493671]\n",
            " [0.00854701 0.03291139]\n",
            " [0.74358974 0.22151899]\n",
            " [0.29059829 0.10506329]\n",
            " [0.71794872 0.07721519]\n",
            " [0.13675214 0.60253165]\n",
            " [0.26495726 0.2443038 ]\n",
            " [0.99145299 0.08607595]\n",
            " [0.64102564 0.01898734]\n",
            " [0.20512821 0.20886076]\n",
            " [0.4957265  0.27088608]\n",
            " [0.85470085 0.35822785]\n",
            " [0.05128205 0.06075949]\n",
            " [0.8034188  0.08227848]\n",
            " [0.98290598 0.04810127]\n",
            " [0.52991453 0.31392405]\n",
            " [0.1965812  0.03670886]\n",
            " [0.03418803 0.28227848]\n",
            " [0.90598291 0.07088608]\n",
            " [0.68376068 0.08607595]\n",
            " [0.55555556 0.08734177]\n",
            " [0.35897436 0.18481013]\n",
            " [0.92307692 0.01898734]\n",
            " [0.1025641  0.06582278]\n",
            " [0.61538462 0.00379747]\n",
            " [0.94017094 0.57848101]\n",
            " [0.76923077 0.0556962 ]\n",
            " [0.06837607 0.14936709]\n",
            " [0.63247863 0.27088608]\n",
            " [0.88034188 0.10253165]\n",
            " [0.41880342 0.67974684]\n",
            " [0.82051282 0.01898734]\n",
            " [0.05982906 0.26329114]] [0 0 0 0 0 0 0 0 0 0 0 0 0 0 0 0 0 0 0 0 0 0 0 0 0 0 0 0 0 0 0 0 0 0 0 0 0\n",
            " 0 0 0 0 0 0 0 0 0 0 0 0 0 0 0 0 0 0 0 0 0 0 0 0 0 0 0 0 0 0 0 0 0 0 0 0 0\n",
            " 0 0 0 0 0 0 0 0 0 0 0 0 0 0 0 0 0 0 0 0] [[0.8974359  0.00632911]\n",
            " [0.70940171 0.75949367]\n",
            " [0.84615385 0.73164557]\n",
            " [0.65811966 0.18607595]\n",
            " [0.12820513 0.09873418]\n",
            " [0.47008547 0.14810127]\n",
            " [0.15384615 0.07721519]\n",
            " [0.17094017 0.05949367]\n",
            " [0.96581197 0.13037975]\n",
            " [0.16239316 0.06962025]\n",
            " [0.02564103 0.03797468]\n",
            " [0.81196581 0.11518987]\n",
            " [0.45299145 0.03544304]\n",
            " [0.93162393 0.01265823]\n",
            " [0.76068376 0.06075949]\n",
            " [0.57264957 0.38607595]\n",
            " [0.82905983 0.02658228]\n",
            " [0.32478632 0.04556962]\n",
            " [0.44444444 0.28607595]\n",
            " [0.28205128 0.02151899]\n",
            " [0.42735043 0.08227848]\n",
            " [0.22222222 0.44683544]\n",
            " [0.83760684 0.30126582]\n",
            " [0.2991453  0.20886076]] [0 0 0 0 0 0 0 0 0 0 0 0 0 0 0 0 0 0 0 0 0 0 0 0]\n"
          ],
          "name": "stdout"
        }
      ]
    },
    {
      "cell_type": "code",
      "metadata": {
        "id": "HSKDLKSZzVmH",
        "colab": {
          "base_uri": "https://localhost:8080/"
        },
        "outputId": "be48488f-4e8e-49dd-8c62-6846e2dd734d"
      },
      "source": [
        "clf2=neighbors.KNeighborsClassifier()\n",
        "clf2.fit(xFeb_train,yFeb_train)\n",
        "print(\"Predicted Values for the Floods:\")\n",
        "yFeb_predict=clf2.predict(xFeb_test)\n",
        "print(yFeb_predict,len(yFeb_predict))"
      ],
      "execution_count": null,
      "outputs": [
        {
          "output_type": "stream",
          "text": [
            "Predicted Values for the Floods:\n",
            "[0 0 0 0 0 0 0 0 0 0 0 0 0 0 0 0 0 0 0 0 0 0 0 0] 24\n"
          ],
          "name": "stdout"
        }
      ]
    },
    {
      "cell_type": "code",
      "metadata": {
        "id": "WeRbGlHX0Dxu",
        "colab": {
          "base_uri": "https://localhost:8080/",
          "height": 264
        },
        "outputId": "eaf4362f-650a-4e45-da31-118e71d9d6d2"
      },
      "source": [
        "plt.plot(yFeb_predict)\n",
        "plt.plot(yFeb_test)\n",
        "plt.grid(\"on\")\n",
        "plt.show()"
      ],
      "execution_count": null,
      "outputs": [
        {
          "output_type": "display_data",
          "data": {
            "image/png": "[encoded data removed]",
            "text/plain": [
              "<Figure size 432x288 with 1 Axes>"
            ]
          },
          "metadata": {
            "tags": [],
            "needs_background": "light"
          }
        }
      ]
    },
    {
      "cell_type": "code",
      "metadata": {
        "id": "8RGejubf0WZI",
        "colab": {
          "base_uri": "https://localhost:8080/",
          "height": 406
        },
        "outputId": "1478a580-ca53-4b69-e40f-b646cfa400dc"
      },
      "source": [
        "mar=data.iloc[:,[1,4]]\n",
        "mar"
      ],
      "execution_count": null,
      "outputs": [
        {
          "output_type": "execute_result",
          "data": {
            "text/html": [
              "<div>\n",
              "<style scoped>\n",
              "    .dataframe tbody tr th:only-of-type {\n",
              "        vertical-align: middle;\n",
              "    }\n",
              "\n",
              "    .dataframe tbody tr th {\n",
              "        vertical-align: top;\n",
              "    }\n",
              "\n",
              "    .dataframe thead th {\n",
              "        text-align: right;\n",
              "    }\n",
              "</style>\n",
              "<table border=\"1\" class=\"dataframe\">\n",
              "  <thead>\n",
              "    <tr style=\"text-align: right;\">\n",
              "      <th></th>\n",
              "      <th>YEAR</th>\n",
              "      <th>MAR</th>\n",
              "    </tr>\n",
              "  </thead>\n",
              "  <tbody>\n",
              "    <tr>\n",
              "      <th>0</th>\n",
              "      <td>1901</td>\n",
              "      <td>51.6</td>\n",
              "    </tr>\n",
              "    <tr>\n",
              "      <th>1</th>\n",
              "      <td>1902</td>\n",
              "      <td>57.3</td>\n",
              "    </tr>\n",
              "    <tr>\n",
              "      <th>2</th>\n",
              "      <td>1903</td>\n",
              "      <td>3.1</td>\n",
              "    </tr>\n",
              "    <tr>\n",
              "      <th>3</th>\n",
              "      <td>1904</td>\n",
              "      <td>32.2</td>\n",
              "    </tr>\n",
              "    <tr>\n",
              "      <th>4</th>\n",
              "      <td>1905</td>\n",
              "      <td>9.4</td>\n",
              "    </tr>\n",
              "    <tr>\n",
              "      <th>...</th>\n",
              "      <td>...</td>\n",
              "      <td>...</td>\n",
              "    </tr>\n",
              "    <tr>\n",
              "      <th>113</th>\n",
              "      <td>2014</td>\n",
              "      <td>17.9</td>\n",
              "    </tr>\n",
              "    <tr>\n",
              "      <th>114</th>\n",
              "      <td>2015</td>\n",
              "      <td>50.1</td>\n",
              "    </tr>\n",
              "    <tr>\n",
              "      <th>115</th>\n",
              "      <td>2016</td>\n",
              "      <td>35.9</td>\n",
              "    </tr>\n",
              "    <tr>\n",
              "      <th>116</th>\n",
              "      <td>2017</td>\n",
              "      <td>8.9</td>\n",
              "    </tr>\n",
              "    <tr>\n",
              "      <th>117</th>\n",
              "      <td>2018</td>\n",
              "      <td>48.6</td>\n",
              "    </tr>\n",
              "  </tbody>\n",
              "</table>\n",
              "<p>118 rows × 2 columns</p>\n",
              "</div>"
            ],
            "text/plain": [
              "     YEAR   MAR\n",
              "0    1901  51.6\n",
              "1    1902  57.3\n",
              "2    1903   3.1\n",
              "3    1904  32.2\n",
              "4    1905   9.4\n",
              "..    ...   ...\n",
              "113  2014  17.9\n",
              "114  2015  50.1\n",
              "115  2016  35.9\n",
              "116  2017   8.9\n",
              "117  2018  48.6\n",
              "\n",
              "[118 rows x 2 columns]"
            ]
          },
          "metadata": {
            "tags": []
          },
          "execution_count": 32
        }
      ]
    },
    {
      "cell_type": "code",
      "metadata": {
        "id": "Ju8-zWvI0pA3",
        "colab": {
          "base_uri": "https://localhost:8080/",
          "height": 647
        },
        "outputId": "73a0fea0-0473-4008-acac-5af02e9b1338"
      },
      "source": [
        "mar['res']=0\n",
        "for i in range(len(mar)):\n",
        "  if mar['MAR'][i]>263:\n",
        "    mar['MAR'][i]=1\n",
        "mar[:20]"
      ],
      "execution_count": null,
      "outputs": [
        {
          "output_type": "execute_result",
          "data": {
            "text/html": [
              "<div>\n",
              "<style scoped>\n",
              "    .dataframe tbody tr th:only-of-type {\n",
              "        vertical-align: middle;\n",
              "    }\n",
              "\n",
              "    .dataframe tbody tr th {\n",
              "        vertical-align: top;\n",
              "    }\n",
              "\n",
              "    .dataframe thead th {\n",
              "        text-align: right;\n",
              "    }\n",
              "</style>\n",
              "<table border=\"1\" class=\"dataframe\">\n",
              "  <thead>\n",
              "    <tr style=\"text-align: right;\">\n",
              "      <th></th>\n",
              "      <th>YEAR</th>\n",
              "      <th>MAR</th>\n",
              "      <th>res</th>\n",
              "    </tr>\n",
              "  </thead>\n",
              "  <tbody>\n",
              "    <tr>\n",
              "      <th>0</th>\n",
              "      <td>1901</td>\n",
              "      <td>51.6</td>\n",
              "      <td>0</td>\n",
              "    </tr>\n",
              "    <tr>\n",
              "      <th>1</th>\n",
              "      <td>1902</td>\n",
              "      <td>57.3</td>\n",
              "      <td>0</td>\n",
              "    </tr>\n",
              "    <tr>\n",
              "      <th>2</th>\n",
              "      <td>1903</td>\n",
              "      <td>3.1</td>\n",
              "      <td>0</td>\n",
              "    </tr>\n",
              "    <tr>\n",
              "      <th>3</th>\n",
              "      <td>1904</td>\n",
              "      <td>32.2</td>\n",
              "      <td>0</td>\n",
              "    </tr>\n",
              "    <tr>\n",
              "      <th>4</th>\n",
              "      <td>1905</td>\n",
              "      <td>9.4</td>\n",
              "      <td>0</td>\n",
              "    </tr>\n",
              "    <tr>\n",
              "      <th>5</th>\n",
              "      <td>1906</td>\n",
              "      <td>9.9</td>\n",
              "      <td>0</td>\n",
              "    </tr>\n",
              "    <tr>\n",
              "      <th>6</th>\n",
              "      <td>1907</td>\n",
              "      <td>55.7</td>\n",
              "      <td>0</td>\n",
              "    </tr>\n",
              "    <tr>\n",
              "      <th>7</th>\n",
              "      <td>1908</td>\n",
              "      <td>38.2</td>\n",
              "      <td>0</td>\n",
              "    </tr>\n",
              "    <tr>\n",
              "      <th>8</th>\n",
              "      <td>1909</td>\n",
              "      <td>61.3</td>\n",
              "      <td>0</td>\n",
              "    </tr>\n",
              "    <tr>\n",
              "      <th>9</th>\n",
              "      <td>1910</td>\n",
              "      <td>23.3</td>\n",
              "      <td>0</td>\n",
              "    </tr>\n",
              "    <tr>\n",
              "      <th>10</th>\n",
              "      <td>1911</td>\n",
              "      <td>18.2</td>\n",
              "      <td>0</td>\n",
              "    </tr>\n",
              "    <tr>\n",
              "      <th>11</th>\n",
              "      <td>1912</td>\n",
              "      <td>11.2</td>\n",
              "      <td>0</td>\n",
              "    </tr>\n",
              "    <tr>\n",
              "      <th>12</th>\n",
              "      <td>1913</td>\n",
              "      <td>20.7</td>\n",
              "      <td>0</td>\n",
              "    </tr>\n",
              "    <tr>\n",
              "      <th>13</th>\n",
              "      <td>1914</td>\n",
              "      <td>18.1</td>\n",
              "      <td>0</td>\n",
              "    </tr>\n",
              "    <tr>\n",
              "      <th>14</th>\n",
              "      <td>1915</td>\n",
              "      <td>42.7</td>\n",
              "      <td>0</td>\n",
              "    </tr>\n",
              "    <tr>\n",
              "      <th>15</th>\n",
              "      <td>1916</td>\n",
              "      <td>22.0</td>\n",
              "      <td>0</td>\n",
              "    </tr>\n",
              "    <tr>\n",
              "      <th>16</th>\n",
              "      <td>1917</td>\n",
              "      <td>79.4</td>\n",
              "      <td>0</td>\n",
              "    </tr>\n",
              "    <tr>\n",
              "      <th>17</th>\n",
              "      <td>1918</td>\n",
              "      <td>32.8</td>\n",
              "      <td>0</td>\n",
              "    </tr>\n",
              "    <tr>\n",
              "      <th>18</th>\n",
              "      <td>1919</td>\n",
              "      <td>33.9</td>\n",
              "      <td>0</td>\n",
              "    </tr>\n",
              "    <tr>\n",
              "      <th>19</th>\n",
              "      <td>1920</td>\n",
              "      <td>24.1</td>\n",
              "      <td>0</td>\n",
              "    </tr>\n",
              "  </tbody>\n",
              "</table>\n",
              "</div>"
            ],
            "text/plain": [
              "    YEAR   MAR  res\n",
              "0   1901  51.6    0\n",
              "1   1902  57.3    0\n",
              "2   1903   3.1    0\n",
              "3   1904  32.2    0\n",
              "4   1905   9.4    0\n",
              "5   1906   9.9    0\n",
              "6   1907  55.7    0\n",
              "7   1908  38.2    0\n",
              "8   1909  61.3    0\n",
              "9   1910  23.3    0\n",
              "10  1911  18.2    0\n",
              "11  1912  11.2    0\n",
              "12  1913  20.7    0\n",
              "13  1914  18.1    0\n",
              "14  1915  42.7    0\n",
              "15  1916  22.0    0\n",
              "16  1917  79.4    0\n",
              "17  1918  32.8    0\n",
              "18  1919  33.9    0\n",
              "19  1920  24.1    0"
            ]
          },
          "metadata": {
            "tags": []
          },
          "execution_count": 33
        }
      ]
    },
    {
      "cell_type": "code",
      "metadata": {
        "id": "zdEzMgZA1El5",
        "colab": {
          "base_uri": "https://localhost:8080/"
        },
        "outputId": "0e0ff017-b94f-4eff-a293-f02e2feed977"
      },
      "source": [
        "x=mar.iloc[:,0:2]\n",
        "from sklearn import preprocessing\n",
        "minmax = preprocessing.MinMaxScaler(feature_range=(0,1))\n",
        "x = minmax.fit(x).transform(x)\n",
        "x\n",
        "y=mar.iloc[:,-1]\n",
        "y=np.asarray(y)\n",
        "print(x,y)"
      ],
      "execution_count": null,
      "outputs": [
        {
          "output_type": "stream",
          "text": [
            "[[0.         0.23721787]\n",
            " [0.00854701 0.26347305]\n",
            " [0.01709402 0.01381852]\n",
            " [0.02564103 0.14785813]\n",
            " [0.03418803 0.0428374 ]\n",
            " [0.04273504 0.04514049]\n",
            " [0.05128205 0.25610318]\n",
            " [0.05982906 0.17549516]\n",
            " [0.06837607 0.28189774]\n",
            " [0.07692308 0.1068632 ]\n",
            " [0.08547009 0.08337172]\n",
            " [0.09401709 0.05112851]\n",
            " [0.1025641  0.09488715]\n",
            " [0.11111111 0.0829111 ]\n",
            " [0.11965812 0.19622294]\n",
            " [0.12820513 0.10087517]\n",
            " [0.13675214 0.36526946]\n",
            " [0.14529915 0.15062183]\n",
            " [0.15384615 0.15568862]\n",
            " [0.16239316 0.11054813]\n",
            " [0.17094017 0.06863197]\n",
            " [0.17948718 0.07461999]\n",
            " [0.18803419 0.36296637]\n",
            " [0.1965812  0.30631046]\n",
            " [0.20512821 0.35375403]\n",
            " [0.21367521 0.10594196]\n",
            " [0.22222222 0.22800553]\n",
            " [0.23076923 0.23583602]\n",
            " [0.23931624 0.27084293]\n",
            " [0.24786325 0.1791801 ]\n",
            " [0.25641026 0.08797789]\n",
            " [0.26495726 0.13127591]\n",
            " [0.27350427 0.16950714]\n",
            " [0.28205128 0.2192538 ]\n",
            " [0.29059829 0.0829111 ]\n",
            " [0.2991453  0.53385537]\n",
            " [0.30769231 0.2699217 ]\n",
            " [0.31623932 0.24504836]\n",
            " [0.32478632 0.11423307]\n",
            " [0.33333333 0.01704284]\n",
            " [0.34188034 0.05803777]\n",
            " [0.35042735 0.10640258]\n",
            " [0.35897436 0.1764164 ]\n",
            " [0.36752137 0.28327959]\n",
            " [0.37606838 0.05803777]\n",
            " [0.38461538 0.49884846]\n",
            " [0.39316239 0.45094427]\n",
            " [0.4017094  0.22155689]\n",
            " [0.41025641 0.02026716]\n",
            " [0.41880342 0.14279134]\n",
            " [0.42735043 0.19115615]\n",
            " [0.43589744 0.09534777]\n",
            " [0.44444444 0.08475357]\n",
            " [0.45299145 0.41685859]\n",
            " [0.46153846 0.12943344]\n",
            " [0.47008547 0.06909258]\n",
            " [0.47863248 0.11791801]\n",
            " [0.48717949 0.26347305]\n",
            " [0.4957265  0.02855827]\n",
            " [0.5042735  0.20405343]\n",
            " [0.51282051 0.05204975]\n",
            " [0.52136752 0.1819438 ]\n",
            " [0.52991453 0.32105021]\n",
            " [0.53846154 0.30907416]\n",
            " [0.54700855 0.12989406]\n",
            " [0.55555556 0.31137725]\n",
            " [0.56410256 0.11285122]\n",
            " [0.57264957 0.41040995]\n",
            " [0.58119658 0.08889912]\n",
            " [0.58974359 0.11837863]\n",
            " [0.5982906  0.09166283]\n",
            " [0.60683761 0.01105481]\n",
            " [0.61538462 0.0561953 ]\n",
            " [0.62393162 0.07323814]\n",
            " [0.63247863 0.2915707 ]\n",
            " [0.64102564 0.096269  ]\n",
            " [0.64957265 0.12989406]\n",
            " [0.65811966 0.14417319]\n",
            " [0.66666667 0.0534316 ]\n",
            " [0.67521368 0.09534777]\n",
            " [0.68376068 0.13081529]\n",
            " [0.69230769 0.10041456]\n",
            " [0.7008547  0.00368494]\n",
            " [0.70940171 0.4385076 ]\n",
            " [0.71794872 0.13450023]\n",
            " [0.72649573 0.05112851]\n",
            " [0.73504274 0.01934592]\n",
            " [0.74358974 0.17503455]\n",
            " [0.75213675 0.13818517]\n",
            " [0.76068376 0.08245048]\n",
            " [0.76923077 0.1524643 ]\n",
            " [0.77777778 0.        ]\n",
            " [0.78632479 0.09212345]\n",
            " [0.79487179 0.0829111 ]\n",
            " [0.8034188  0.17134961]\n",
            " [0.81196581 0.06586826]\n",
            " [0.82051282 0.1658222 ]\n",
            " [0.82905983 0.03684938]\n",
            " [0.83760684 0.09811147]\n",
            " [0.84615385 0.09857209]\n",
            " [0.85470085 0.03178259]\n",
            " [0.86324786 0.16397973]\n",
            " [0.87179487 0.37770613]\n",
            " [0.88034188 0.17411331]\n",
            " [0.88888889 0.11607554]\n",
            " [0.8974359  0.41731921]\n",
            " [0.90598291 0.03316444]\n",
            " [0.91452991 1.        ]\n",
            " [0.92307692 0.28788577]\n",
            " [0.93162393 0.14417319]\n",
            " [0.94017094 0.11054813]\n",
            " [0.94871795 0.096269  ]\n",
            " [0.95726496 0.22938738]\n",
            " [0.96581197 0.08198987]\n",
            " [0.97435897 0.23030861]\n",
            " [0.98290598 0.16490097]\n",
            " [0.99145299 0.04053432]\n",
            " [1.         0.22339936]] [0 0 0 0 0 0 0 0 0 0 0 0 0 0 0 0 0 0 0 0 0 0 0 0 0 0 0 0 0 0 0 0 0 0 0 0 0\n",
            " 0 0 0 0 0 0 0 0 0 0 0 0 0 0 0 0 0 0 0 0 0 0 0 0 0 0 0 0 0 0 0 0 0 0 0 0 0\n",
            " 0 0 0 0 0 0 0 0 0 0 0 0 0 0 0 0 0 0 0 0 0 0 0 0 0 0 0 0 0 0 0 0 0 0 0 0 0\n",
            " 0 0 0 0 0 0 0]\n"
          ],
          "name": "stdout"
        }
      ]
    },
    {
      "cell_type": "code",
      "metadata": {
        "id": "SId6rkIq1Wtx",
        "colab": {
          "base_uri": "https://localhost:8080/"
        },
        "outputId": "60116b59-1b62-47e0-c8e0-a6b865a26cc8"
      },
      "source": [
        "from sklearn import model_selection,neighbors\n",
        "from sklearn.model_selection import train_test_split\n",
        "xMar_train,xMar_test,yMar_train,yMar_test=train_test_split(x,y,test_size=0.2)\n",
        "print(xMar_train[:20],yMar_train[:20],xMar_test,yMar_test)"
      ],
      "execution_count": null,
      "outputs": [
        {
          "output_type": "stream",
          "text": [
            "[[0.99145299 0.04053432]\n",
            " [0.55555556 0.31137725]\n",
            " [0.98290598 0.16490097]\n",
            " [0.35042735 0.10640258]\n",
            " [0.05982906 0.17549516]\n",
            " [0.7008547  0.00368494]\n",
            " [0.00854701 0.26347305]\n",
            " [0.27350427 0.16950714]\n",
            " [0.47008547 0.06909258]\n",
            " [0.74358974 0.17503455]\n",
            " [0.08547009 0.08337172]\n",
            " [0.12820513 0.10087517]\n",
            " [0.52991453 0.32105021]\n",
            " [0.04273504 0.04514049]\n",
            " [0.29059829 0.0829111 ]\n",
            " [0.70940171 0.4385076 ]\n",
            " [0.47863248 0.11791801]\n",
            " [0.11965812 0.19622294]\n",
            " [0.94017094 0.11054813]\n",
            " [0.17948718 0.07461999]] [0 0 0 0 0 0 0 0 0 0 0 0 0 0 0 0 0 0 0 0] [[0.65811966 0.14417319]\n",
            " [0.48717949 0.26347305]\n",
            " [0.58974359 0.11837863]\n",
            " [0.37606838 0.05803777]\n",
            " [0.75213675 0.13818517]\n",
            " [0.1025641  0.09488715]\n",
            " [0.32478632 0.11423307]\n",
            " [0.52136752 0.1819438 ]\n",
            " [0.39316239 0.45094427]\n",
            " [0.54700855 0.12989406]\n",
            " [0.90598291 0.03316444]\n",
            " [0.71794872 0.13450023]\n",
            " [0.38461538 0.49884846]\n",
            " [0.63247863 0.2915707 ]\n",
            " [0.25641026 0.08797789]\n",
            " [0.79487179 0.0829111 ]\n",
            " [0.93162393 0.14417319]\n",
            " [0.88888889 0.11607554]\n",
            " [0.20512821 0.35375403]\n",
            " [0.36752137 0.28327959]\n",
            " [0.42735043 0.19115615]\n",
            " [0.62393162 0.07323814]\n",
            " [0.11111111 0.0829111 ]\n",
            " [0.03418803 0.0428374 ]] [0 0 0 0 0 0 0 0 0 0 0 0 0 0 0 0 0 0 0 0 0 0 0 0]\n"
          ],
          "name": "stdout"
        }
      ]
    },
    {
      "cell_type": "code",
      "metadata": {
        "id": "ZR2S4--K2hvi",
        "colab": {
          "base_uri": "https://localhost:8080/"
        },
        "outputId": "e6c7c5e1-783c-4f5c-d3cf-054002600f0f"
      },
      "source": [
        "from sklearn import model_selection,neighbors\n",
        "from sklearn.model_selection import train_test_split\n",
        "clf3=neighbors.KNeighborsClassifier()\n",
        "clf3.fit(xMar_train,yMar_train)\n",
        "print(\"Predicted Values for the Floods:\")\n",
        "yMar_predict=clf3.predict(xMar_test)\n",
        "print(yMar_predict,len(yMar_predict))"
      ],
      "execution_count": null,
      "outputs": [
        {
          "output_type": "stream",
          "text": [
            "Predicted Values for the Floods:\n",
            "[0 0 0 0 0 0 0 0 0 0 0 0 0 0 0 0 0 0 0 0 0 0 0 0] 24\n"
          ],
          "name": "stdout"
        }
      ]
    },
    {
      "cell_type": "code",
      "metadata": {
        "id": "Y21rFJ_M25kp",
        "colab": {
          "base_uri": "https://localhost:8080/",
          "height": 264
        },
        "outputId": "82c40c84-cab9-451e-df26-87b845aa58fe"
      },
      "source": [
        "from matplotlib import pyplot as plt\n",
        "plt.plot(yMar_predict)\n",
        "plt.plot(yMar_test)\n",
        "plt.grid(\"on\")\n",
        "plt.show()"
      ],
      "execution_count": null,
      "outputs": [
        {
          "output_type": "display_data",
          "data": {
            "image/png": "[encoded data removed]",
            "text/plain": [
              "<Figure size 432x288 with 1 Axes>"
            ]
          },
          "metadata": {
            "tags": [],
            "needs_background": "light"
          }
        }
      ]
    },
    {
      "cell_type": "code",
      "metadata": {
        "id": "LSQ5cdxA3JWr",
        "colab": {
          "base_uri": "https://localhost:8080/",
          "height": 406
        },
        "outputId": "c89005c4-ae98-43da-e227-43fcc3a23180"
      },
      "source": [
        "apr=data.iloc[:,[1,5]]\n",
        "apr['res']=0\n",
        "for i in range(len(apr)):\n",
        "  if apr['APR'][i]>263:\n",
        "    apr['res'][i]=1\n",
        "apr"
      ],
      "execution_count": null,
      "outputs": [
        {
          "output_type": "execute_result",
          "data": {
            "text/html": [
              "<div>\n",
              "<style scoped>\n",
              "    .dataframe tbody tr th:only-of-type {\n",
              "        vertical-align: middle;\n",
              "    }\n",
              "\n",
              "    .dataframe tbody tr th {\n",
              "        vertical-align: top;\n",
              "    }\n",
              "\n",
              "    .dataframe thead th {\n",
              "        text-align: right;\n",
              "    }\n",
              "</style>\n",
              "<table border=\"1\" class=\"dataframe\">\n",
              "  <thead>\n",
              "    <tr style=\"text-align: right;\">\n",
              "      <th></th>\n",
              "      <th>YEAR</th>\n",
              "      <th>APR</th>\n",
              "      <th>res</th>\n",
              "    </tr>\n",
              "  </thead>\n",
              "  <tbody>\n",
              "    <tr>\n",
              "      <th>0</th>\n",
              "      <td>1901</td>\n",
              "      <td>160.0</td>\n",
              "      <td>0</td>\n",
              "    </tr>\n",
              "    <tr>\n",
              "      <th>1</th>\n",
              "      <td>1902</td>\n",
              "      <td>83.9</td>\n",
              "      <td>0</td>\n",
              "    </tr>\n",
              "    <tr>\n",
              "      <th>2</th>\n",
              "      <td>1903</td>\n",
              "      <td>83.6</td>\n",
              "      <td>0</td>\n",
              "    </tr>\n",
              "    <tr>\n",
              "      <th>3</th>\n",
              "      <td>1904</td>\n",
              "      <td>71.5</td>\n",
              "      <td>0</td>\n",
              "    </tr>\n",
              "    <tr>\n",
              "      <th>4</th>\n",
              "      <td>1905</td>\n",
              "      <td>105.9</td>\n",
              "      <td>0</td>\n",
              "    </tr>\n",
              "    <tr>\n",
              "      <th>...</th>\n",
              "      <td>...</td>\n",
              "      <td>...</td>\n",
              "      <td>...</td>\n",
              "    </tr>\n",
              "    <tr>\n",
              "      <th>113</th>\n",
              "      <td>2014</td>\n",
              "      <td>95.7</td>\n",
              "      <td>0</td>\n",
              "    </tr>\n",
              "    <tr>\n",
              "      <th>114</th>\n",
              "      <td>2015</td>\n",
              "      <td>214.1</td>\n",
              "      <td>0</td>\n",
              "    </tr>\n",
              "    <tr>\n",
              "      <th>115</th>\n",
              "      <td>2016</td>\n",
              "      <td>143.0</td>\n",
              "      <td>0</td>\n",
              "    </tr>\n",
              "    <tr>\n",
              "      <th>116</th>\n",
              "      <td>2017</td>\n",
              "      <td>43.6</td>\n",
              "      <td>0</td>\n",
              "    </tr>\n",
              "    <tr>\n",
              "      <th>117</th>\n",
              "      <td>2018</td>\n",
              "      <td>116.4</td>\n",
              "      <td>0</td>\n",
              "    </tr>\n",
              "  </tbody>\n",
              "</table>\n",
              "<p>118 rows × 3 columns</p>\n",
              "</div>"
            ],
            "text/plain": [
              "     YEAR    APR  res\n",
              "0    1901  160.0    0\n",
              "1    1902   83.9    0\n",
              "2    1903   83.6    0\n",
              "3    1904   71.5    0\n",
              "4    1905  105.9    0\n",
              "..    ...    ...  ...\n",
              "113  2014   95.7    0\n",
              "114  2015  214.1    0\n",
              "115  2016  143.0    0\n",
              "116  2017   43.6    0\n",
              "117  2018  116.4    0\n",
              "\n",
              "[118 rows x 3 columns]"
            ]
          },
          "metadata": {
            "tags": []
          },
          "execution_count": 38
        }
      ]
    },
    {
      "cell_type": "code",
      "metadata": {
        "id": "VbLfnjI537SF",
        "colab": {
          "base_uri": "https://localhost:8080/"
        },
        "outputId": "97877fba-08a1-4b2f-f6c6-d7ea0250b745"
      },
      "source": [
        "x=apr.iloc[:,0:2]\n",
        "y=apr.iloc[:,-1]\n",
        "y=np.asarray(y)\n",
        "print(x,y)"
      ],
      "execution_count": null,
      "outputs": [
        {
          "output_type": "stream",
          "text": [
            "     YEAR    APR\n",
            "0    1901  160.0\n",
            "1    1902   83.9\n",
            "2    1903   83.6\n",
            "3    1904   71.5\n",
            "4    1905  105.9\n",
            "..    ...    ...\n",
            "113  2014   95.7\n",
            "114  2015  214.1\n",
            "115  2016  143.0\n",
            "116  2017   43.6\n",
            "117  2018  116.4\n",
            "\n",
            "[118 rows x 2 columns] [0 0 0 0 0 0 0 0 0 0 0 0 0 0 0 0 0 0 0 0 0 0 0 0 0 0 0 0 0 0 0 0 0 0 0 0 0\n",
            " 0 0 0 0 0 0 0 0 0 0 0 0 0 0 0 0 0 0 0 0 0 0 0 0 0 0 0 0 0 0 0 0 0 0 0 0 0\n",
            " 0 0 0 0 0 0 0 0 0 0 0 0 0 0 0 0 0 0 0 0 0 0 0 0 0 0 0 0 0 0 0 0 0 0 0 0 0\n",
            " 0 0 0 0 0 0 0]\n"
          ],
          "name": "stdout"
        }
      ]
    },
    {
      "cell_type": "code",
      "metadata": {
        "id": "3a1MziMw4LLp",
        "colab": {
          "base_uri": "https://localhost:8080/"
        },
        "outputId": "97fd35d4-1c4a-41ff-ec4a-59d1db96c0ed"
      },
      "source": [
        "from sklearn import preprocessing\n",
        "minmax = preprocessing.MinMaxScaler(feature_range=(0,1))\n",
        "x = minmax.fit(x).transform(x)\n",
        "x"
      ],
      "execution_count": null,
      "outputs": [
        {
          "output_type": "execute_result",
          "data": {
            "text/plain": [
              "array([[0.        , 0.65317919],\n",
              "       [0.00854701, 0.31480658],\n",
              "       [0.01709402, 0.31347265],\n",
              "       [0.02564103, 0.25967096],\n",
              "       [0.03418803, 0.41262783],\n",
              "       [0.04273504, 0.20586928],\n",
              "       [0.05128205, 0.70120053],\n",
              "       [0.05982906, 0.39928857],\n",
              "       [0.06837607, 0.35882614],\n",
              "       [0.07692308, 0.49533126],\n",
              "       [0.08547009, 0.16851934],\n",
              "       [0.09401709, 0.4873277 ],\n",
              "       [0.1025641 , 0.27834593],\n",
              "       [0.11111111, 0.08714984],\n",
              "       [0.11965812, 0.41307248],\n",
              "       [0.12820513, 0.30813695],\n",
              "       [0.13675214, 0.11116052],\n",
              "       [0.14529915, 0.16985327],\n",
              "       [0.15384615, 0.23477101],\n",
              "       [0.16239316, 0.70653624],\n",
              "       [0.17094017, 0.70342374],\n",
              "       [0.17948718, 0.34015118],\n",
              "       [0.18803419, 0.13517119],\n",
              "       [0.1965812 , 0.43530458],\n",
              "       [0.20512821, 0.35704758],\n",
              "       [0.21367521, 0.18986216],\n",
              "       [0.22222222, 0.32636727],\n",
              "       [0.23076923, 0.48021343],\n",
              "       [0.23931624, 0.87861272],\n",
              "       [0.24786325, 0.39839929],\n",
              "       [0.25641026, 0.50600267],\n",
              "       [0.26495726, 0.44419742],\n",
              "       [0.27350427, 0.56202757],\n",
              "       [0.28205128, 0.35260116],\n",
              "       [0.29059829, 0.47843486],\n",
              "       [0.2991453 , 0.09293019],\n",
              "       [0.30769231, 0.72209871],\n",
              "       [0.31623932, 0.67318808],\n",
              "       [0.32478632, 0.71009337],\n",
              "       [0.33333333, 0.5042241 ],\n",
              "       [0.34188034, 0.39484215],\n",
              "       [0.35042735, 0.74344153],\n",
              "       [0.35897436, 0.41974211],\n",
              "       [0.36752137, 0.2156514 ],\n",
              "       [0.37606838, 0.40462428],\n",
              "       [0.38461538, 0.56336149],\n",
              "       [0.39316239, 0.5740329 ],\n",
              "       [0.4017094 , 0.49755447],\n",
              "       [0.41025641, 0.37794575],\n",
              "       [0.41880342, 0.2463317 ],\n",
              "       [0.42735043, 0.72387728],\n",
              "       [0.43589744, 0.44064028],\n",
              "       [0.44444444, 0.53045798],\n",
              "       [0.45299145, 0.55046687],\n",
              "       [0.46153846, 0.50155625],\n",
              "       [0.47008547, 0.61582926],\n",
              "       [0.47863248, 0.25389062],\n",
              "       [0.48717949, 0.54246332],\n",
              "       [0.4957265 , 0.61182748],\n",
              "       [0.5042735 , 0.86038239],\n",
              "       [0.51282051, 0.36016007],\n",
              "       [0.52136752, 0.36460649],\n",
              "       [0.52991453, 0.3699422 ],\n",
              "       [0.53846154, 0.31213873],\n",
              "       [0.54700855, 0.42996888],\n",
              "       [0.55555556, 0.6860827 ],\n",
              "       [0.56410256, 0.25344598],\n",
              "       [0.57264957, 0.53445976],\n",
              "       [0.58119658, 0.46287239],\n",
              "       [0.58974359, 0.53179191],\n",
              "       [0.5982906 , 0.44419742],\n",
              "       [0.60683761, 0.33081369],\n",
              "       [0.61538462, 0.5264562 ],\n",
              "       [0.62393162, 0.51089373],\n",
              "       [0.63247863, 0.49221876],\n",
              "       [0.64102564, 0.53979546],\n",
              "       [0.64957265, 0.39662072],\n",
              "       [0.65811966, 0.27034237],\n",
              "       [0.66666667, 0.12850156],\n",
              "       [0.67521368, 0.45220098],\n",
              "       [0.68376068, 0.27923522],\n",
              "       [0.69230769, 0.2103157 ],\n",
              "       [0.7008547 , 0.        ],\n",
              "       [0.70940171, 0.66251667],\n",
              "       [0.71794872, 0.2378835 ],\n",
              "       [0.72649573, 0.22232103],\n",
              "       [0.73504274, 0.19608715],\n",
              "       [0.74358974, 0.73143619],\n",
              "       [0.75213675, 0.57092041],\n",
              "       [0.76068376, 0.12761227],\n",
              "       [0.76923077, 0.37305469],\n",
              "       [0.77777778, 0.13294798],\n",
              "       [0.78632479, 0.23743886],\n",
              "       [0.79487179, 0.62872388],\n",
              "       [0.8034188 , 0.54157403],\n",
              "       [0.81196581, 0.49444197],\n",
              "       [0.82051282, 0.21120498],\n",
              "       [0.82905983, 0.21342819],\n",
              "       [0.83760684, 0.43797243],\n",
              "       [0.84615385, 0.3699422 ],\n",
              "       [0.85470085, 1.        ],\n",
              "       [0.86324786, 0.46331703],\n",
              "       [0.87179487, 0.53935082],\n",
              "       [0.88034188, 0.44508671],\n",
              "       [0.88888889, 0.8572699 ],\n",
              "       [0.8974359 , 0.23210316],\n",
              "       [0.90598291, 0.55758115],\n",
              "       [0.91452991, 0.42374389],\n",
              "       [0.92307692, 0.24855491],\n",
              "       [0.93162393, 0.55935972],\n",
              "       [0.94017094, 0.67630058],\n",
              "       [0.94871795, 0.70253446],\n",
              "       [0.95726496, 0.16096043],\n",
              "       [0.96581197, 0.36727434],\n",
              "       [0.97435897, 0.89373055],\n",
              "       [0.98290598, 0.57759004],\n",
              "       [0.99145299, 0.13561583],\n",
              "       [1.        , 0.45931525]])"
            ]
          },
          "metadata": {
            "tags": []
          },
          "execution_count": 40
        }
      ]
    },
    {
      "cell_type": "code",
      "metadata": {
        "id": "t1l3ljzV4j6h",
        "colab": {
          "base_uri": "https://localhost:8080/"
        },
        "outputId": "afe01226-8699-49da-cc8d-f949559ae7a2"
      },
      "source": [
        "from sklearn import model_selection,neighbors\n",
        "from sklearn.model_selection import train_test_split\n",
        "xApr_train,xApr_test,yApr_train,yApr_test=train_test_split(x,y,test_size=0.2)\n",
        "xApr_train[:20]"
      ],
      "execution_count": null,
      "outputs": [
        {
          "output_type": "execute_result",
          "data": {
            "text/plain": [
              "array([[0.64102564, 0.53979546],\n",
              "       [0.77777778, 0.13294798],\n",
              "       [0.34188034, 0.39484215],\n",
              "       [0.62393162, 0.51089373],\n",
              "       [0.66666667, 0.12850156],\n",
              "       [0.20512821, 0.35704758],\n",
              "       [0.05128205, 0.70120053],\n",
              "       [0.35897436, 0.41974211],\n",
              "       [0.55555556, 0.6860827 ],\n",
              "       [0.41880342, 0.2463317 ],\n",
              "       [0.35042735, 0.74344153],\n",
              "       [0.53846154, 0.31213873],\n",
              "       [0.5042735 , 0.86038239],\n",
              "       [0.58119658, 0.46287239],\n",
              "       [1.        , 0.45931525],\n",
              "       [0.57264957, 0.53445976],\n",
              "       [0.4017094 , 0.49755447],\n",
              "       [0.52991453, 0.3699422 ],\n",
              "       [0.1025641 , 0.27834593],\n",
              "       [0.97435897, 0.89373055]])"
            ]
          },
          "metadata": {
            "tags": []
          },
          "execution_count": 41
        }
      ]
    },
    {
      "cell_type": "code",
      "metadata": {
        "id": "fUfyLZO6461d",
        "colab": {
          "base_uri": "https://localhost:8080/"
        },
        "outputId": "0f3c7a53-7739-404d-b9e9-8507df618b66"
      },
      "source": [
        "from sklearn import model_selection,neighbors\n",
        "from sklearn.model_selection import train_test_split\n",
        "clf4=neighbors.KNeighborsClassifier()\n",
        "clf4.fit(xApr_train,yApr_train)\n",
        "print(\"Predicted Values for the Floods:\")\n",
        "yApr_predict=clf4.predict(xApr_test)\n",
        "print(yApr_predict,len(yApr_predict))"
      ],
      "execution_count": null,
      "outputs": [
        {
          "output_type": "stream",
          "text": [
            "Predicted Values for the Floods:\n",
            "[0 0 0 0 0 0 0 0 0 0 0 0 0 0 0 0 0 0 0 0 0 0 0 0] 24\n"
          ],
          "name": "stdout"
        }
      ]
    },
    {
      "cell_type": "code",
      "metadata": {
        "id": "AOPs_4c15S3e",
        "colab": {
          "base_uri": "https://localhost:8080/",
          "height": 264
        },
        "outputId": "6a8e31aa-d2fe-4c11-c953-b8f7bffce612"
      },
      "source": [
        "plt.plot(yApr_predict)\n",
        "plt.plot(yApr_test)\n",
        "plt.grid(\"on\")\n",
        "plt.show()"
      ],
      "execution_count": null,
      "outputs": [
        {
          "output_type": "display_data",
          "data": {
            "image/png": "[encoded data removed]",
            "text/plain": [
              "<Figure size 432x288 with 1 Axes>"
            ]
          },
          "metadata": {
            "tags": [],
            "needs_background": "light"
          }
        }
      ]
    },
    {
      "cell_type": "code",
      "metadata": {
        "id": "H-E3DyeH5XmV",
        "colab": {
          "base_uri": "https://localhost:8080/",
          "height": 647
        },
        "outputId": "beb5ff06-c38c-4ae3-8fbc-b18156fc0328"
      },
      "source": [
        "jun=data.iloc[:,[1,7]]\n",
        "jun['res']=0\n",
        "for i in range(len(jun)):\n",
        "  if jun['JUN'][i]>263:\n",
        "    jun['res'][i]=1\n",
        "jun[:20]"
      ],
      "execution_count": null,
      "outputs": [
        {
          "output_type": "execute_result",
          "data": {
            "text/html": [
              "<div>\n",
              "<style scoped>\n",
              "    .dataframe tbody tr th:only-of-type {\n",
              "        vertical-align: middle;\n",
              "    }\n",
              "\n",
              "    .dataframe tbody tr th {\n",
              "        vertical-align: top;\n",
              "    }\n",
              "\n",
              "    .dataframe thead th {\n",
              "        text-align: right;\n",
              "    }\n",
              "</style>\n",
              "<table border=\"1\" class=\"dataframe\">\n",
              "  <thead>\n",
              "    <tr style=\"text-align: right;\">\n",
              "      <th></th>\n",
              "      <th>YEAR</th>\n",
              "      <th>JUN</th>\n",
              "      <th>res</th>\n",
              "    </tr>\n",
              "  </thead>\n",
              "  <tbody>\n",
              "    <tr>\n",
              "      <th>0</th>\n",
              "      <td>1901</td>\n",
              "      <td>824.6</td>\n",
              "      <td>1</td>\n",
              "    </tr>\n",
              "    <tr>\n",
              "      <th>1</th>\n",
              "      <td>1902</td>\n",
              "      <td>390.9</td>\n",
              "      <td>1</td>\n",
              "    </tr>\n",
              "    <tr>\n",
              "      <th>2</th>\n",
              "      <td>1903</td>\n",
              "      <td>558.6</td>\n",
              "      <td>1</td>\n",
              "    </tr>\n",
              "    <tr>\n",
              "      <th>3</th>\n",
              "      <td>1904</td>\n",
              "      <td>1098.2</td>\n",
              "      <td>1</td>\n",
              "    </tr>\n",
              "    <tr>\n",
              "      <th>4</th>\n",
              "      <td>1905</td>\n",
              "      <td>850.2</td>\n",
              "      <td>1</td>\n",
              "    </tr>\n",
              "    <tr>\n",
              "      <th>5</th>\n",
              "      <td>1906</td>\n",
              "      <td>414.9</td>\n",
              "      <td>1</td>\n",
              "    </tr>\n",
              "    <tr>\n",
              "      <th>6</th>\n",
              "      <td>1907</td>\n",
              "      <td>770.9</td>\n",
              "      <td>1</td>\n",
              "    </tr>\n",
              "    <tr>\n",
              "      <th>7</th>\n",
              "      <td>1908</td>\n",
              "      <td>592.6</td>\n",
              "      <td>1</td>\n",
              "    </tr>\n",
              "    <tr>\n",
              "      <th>8</th>\n",
              "      <td>1909</td>\n",
              "      <td>704.7</td>\n",
              "      <td>1</td>\n",
              "    </tr>\n",
              "    <tr>\n",
              "      <th>9</th>\n",
              "      <td>1910</td>\n",
              "      <td>680.0</td>\n",
              "      <td>1</td>\n",
              "    </tr>\n",
              "    <tr>\n",
              "      <th>10</th>\n",
              "      <td>1911</td>\n",
              "      <td>990.0</td>\n",
              "      <td>1</td>\n",
              "    </tr>\n",
              "    <tr>\n",
              "      <th>11</th>\n",
              "      <td>1912</td>\n",
              "      <td>948.2</td>\n",
              "      <td>1</td>\n",
              "    </tr>\n",
              "    <tr>\n",
              "      <th>12</th>\n",
              "      <td>1913</td>\n",
              "      <td>541.7</td>\n",
              "      <td>1</td>\n",
              "    </tr>\n",
              "    <tr>\n",
              "      <th>13</th>\n",
              "      <td>1914</td>\n",
              "      <td>565.3</td>\n",
              "      <td>1</td>\n",
              "    </tr>\n",
              "    <tr>\n",
              "      <th>14</th>\n",
              "      <td>1915</td>\n",
              "      <td>696.1</td>\n",
              "      <td>1</td>\n",
              "    </tr>\n",
              "    <tr>\n",
              "      <th>15</th>\n",
              "      <td>1916</td>\n",
              "      <td>920.2</td>\n",
              "      <td>1</td>\n",
              "    </tr>\n",
              "    <tr>\n",
              "      <th>16</th>\n",
              "      <td>1917</td>\n",
              "      <td>703.7</td>\n",
              "      <td>1</td>\n",
              "    </tr>\n",
              "    <tr>\n",
              "      <th>17</th>\n",
              "      <td>1918</td>\n",
              "      <td>464.3</td>\n",
              "      <td>1</td>\n",
              "    </tr>\n",
              "    <tr>\n",
              "      <th>18</th>\n",
              "      <td>1919</td>\n",
              "      <td>636.8</td>\n",
              "      <td>1</td>\n",
              "    </tr>\n",
              "    <tr>\n",
              "      <th>19</th>\n",
              "      <td>1920</td>\n",
              "      <td>964.3</td>\n",
              "      <td>1</td>\n",
              "    </tr>\n",
              "  </tbody>\n",
              "</table>\n",
              "</div>"
            ],
            "text/plain": [
              "    YEAR     JUN  res\n",
              "0   1901   824.6    1\n",
              "1   1902   390.9    1\n",
              "2   1903   558.6    1\n",
              "3   1904  1098.2    1\n",
              "4   1905   850.2    1\n",
              "5   1906   414.9    1\n",
              "6   1907   770.9    1\n",
              "7   1908   592.6    1\n",
              "8   1909   704.7    1\n",
              "9   1910   680.0    1\n",
              "10  1911   990.0    1\n",
              "11  1912   948.2    1\n",
              "12  1913   541.7    1\n",
              "13  1914   565.3    1\n",
              "14  1915   696.1    1\n",
              "15  1916   920.2    1\n",
              "16  1917   703.7    1\n",
              "17  1918   464.3    1\n",
              "18  1919   636.8    1\n",
              "19  1920   964.3    1"
            ]
          },
          "metadata": {
            "tags": []
          },
          "execution_count": 44
        }
      ]
    },
    {
      "cell_type": "code",
      "metadata": {
        "id": "2v0EpXtk5-mq",
        "colab": {
          "base_uri": "https://localhost:8080/"
        },
        "outputId": "ed54c622-5ff7-4bb8-a2bd-639b8b117998"
      },
      "source": [
        "x=jun.iloc[:,0:2]\n",
        "y=jun.iloc[:,-1]\n",
        "y=np.asarray(y)\n",
        "print(x,y)"
      ],
      "execution_count": null,
      "outputs": [
        {
          "output_type": "stream",
          "text": [
            "     YEAR     JUN\n",
            "0    1901   824.6\n",
            "1    1902   390.9\n",
            "2    1903   558.6\n",
            "3    1904  1098.2\n",
            "4    1905   850.2\n",
            "..    ...     ...\n",
            "113  2014   454.4\n",
            "114  2015   563.6\n",
            "115  2016   522.2\n",
            "116  2017   498.5\n",
            "117  2018   625.4\n",
            "\n",
            "[118 rows x 2 columns] [1 1 1 1 1 1 1 1 1 1 1 1 1 1 1 1 1 1 1 1 1 1 1 1 1 1 1 1 1 1 1 1 1 1 1 1 1\n",
            " 1 1 1 1 1 1 1 1 1 1 1 1 1 1 1 1 1 1 1 1 1 1 1 1 0 1 1 1 1 1 1 1 1 1 1 1 1\n",
            " 1 0 1 1 1 1 1 1 1 1 1 1 1 1 1 1 1 1 1 1 1 1 1 1 1 1 1 1 1 1 1 1 1 1 1 1 1\n",
            " 1 1 1 1 1 1 1]\n"
          ],
          "name": "stdout"
        }
      ]
    },
    {
      "cell_type": "code",
      "metadata": {
        "id": "NJRMAfld6Y-K",
        "colab": {
          "base_uri": "https://localhost:8080/"
        },
        "outputId": "2a571e93-a378-4513-9bd2-cd7043582f2a"
      },
      "source": [
        "from sklearn import preprocessing\n",
        "minmax = preprocessing.MinMaxScaler(feature_range=(0,1))\n",
        "x = minmax.fit(x).transform(x)\n",
        "x"
      ],
      "execution_count": null,
      "outputs": [
        {
          "output_type": "execute_result",
          "data": {
            "text/plain": [
              "array([[0.        , 0.69647215],\n",
              "       [0.00854701, 0.21533171],\n",
              "       [0.01709402, 0.40137564],\n",
              "       [0.02564103, 1.        ],\n",
              "       [0.03418803, 0.72487242],\n",
              "       [0.04273504, 0.24195696],\n",
              "       [0.05128205, 0.63689816],\n",
              "       [0.05982906, 0.43909474],\n",
              "       [0.06837607, 0.56345684],\n",
              "       [0.07692308, 0.53605503],\n",
              "       [0.08547009, 0.8799645 ],\n",
              "       [0.09401709, 0.83359219],\n",
              "       [0.1025641 , 0.38262702],\n",
              "       [0.11111111, 0.40880852],\n",
              "       [0.11965812, 0.55391613],\n",
              "       [0.12820513, 0.8025294 ],\n",
              "       [0.13675214, 0.56234746],\n",
              "       [0.14529915, 0.29676059],\n",
              "       [0.15384615, 0.48812958],\n",
              "       [0.16239316, 0.85145329],\n",
              "       [0.17094017, 0.32427335],\n",
              "       [0.17948718, 0.51730641],\n",
              "       [0.18803419, 0.58320391],\n",
              "       [0.1965812 , 0.90403816],\n",
              "       [0.20512821, 0.54581762],\n",
              "       [0.21367521, 0.40725538],\n",
              "       [0.22222222, 0.58065232],\n",
              "       [0.23076923, 0.43698691],\n",
              "       [0.23931624, 0.83181717],\n",
              "       [0.24786325, 0.48402485],\n",
              "       [0.25641026, 0.38262702],\n",
              "       [0.26495726, 0.15997337],\n",
              "       [0.27350427, 0.73496783],\n",
              "       [0.28205128, 0.72786776],\n",
              "       [0.29059829, 0.26015088],\n",
              "       [0.2991453 , 0.47037941],\n",
              "       [0.30769231, 0.3203905 ],\n",
              "       [0.31623932, 0.53783004],\n",
              "       [0.32478632, 0.47592634],\n",
              "       [0.33333333, 0.45440426],\n",
              "       [0.34188034, 0.66651875],\n",
              "       [0.35042735, 0.68426892],\n",
              "       [0.35897436, 0.66307965],\n",
              "       [0.36752137, 0.33514533],\n",
              "       [0.37606838, 0.39161305],\n",
              "       [0.38461538, 0.80119814],\n",
              "       [0.39316239, 0.39860217],\n",
              "       [0.4017094 , 0.79143554],\n",
              "       [0.41025641, 0.37663634],\n",
              "       [0.41880342, 0.48979365],\n",
              "       [0.42735043, 0.64044819],\n",
              "       [0.43589744, 0.42145551],\n",
              "       [0.44444444, 0.15941868],\n",
              "       [0.45299145, 0.66729532],\n",
              "       [0.46153846, 0.64965609],\n",
              "       [0.47008547, 0.61970268],\n",
              "       [0.47863248, 0.74905702],\n",
              "       [0.48717949, 0.57299756],\n",
              "       [0.4957265 , 0.74994453],\n",
              "       [0.5042735 , 0.31451076],\n",
              "       [0.51282051, 0.89682716],\n",
              "       [0.52136752, 0.05336144],\n",
              "       [0.52991453, 0.21799423],\n",
              "       [0.53846154, 0.20257377],\n",
              "       [0.54700855, 0.44475261],\n",
              "       [0.55555556, 0.33214999],\n",
              "       [0.56410256, 0.38262702],\n",
              "       [0.57264957, 0.55424895],\n",
              "       [0.58119658, 0.39238962],\n",
              "       [0.58974359, 0.37552696],\n",
              "       [0.5982906 , 0.76858221],\n",
              "       [0.60683761, 0.22742401],\n",
              "       [0.61538462, 0.46616375],\n",
              "       [0.62393162, 0.07776792],\n",
              "       [0.63247863, 0.74062569],\n",
              "       [0.64102564, 0.        ],\n",
              "       [0.64957265, 0.44686044],\n",
              "       [0.65811966, 0.62269803],\n",
              "       [0.66666667, 0.4283337 ],\n",
              "       [0.67521368, 0.60916352],\n",
              "       [0.68376068, 0.79387619],\n",
              "       [0.69230769, 0.4608387 ],\n",
              "       [0.7008547 , 0.13978256],\n",
              "       [0.70940171, 0.71644109],\n",
              "       [0.71794872, 0.70102063],\n",
              "       [0.72649573, 0.44497448],\n",
              "       [0.73504274, 0.41690703],\n",
              "       [0.74358974, 0.34890171],\n",
              "       [0.75213675, 0.51109385],\n",
              "       [0.76068376, 0.36809408],\n",
              "       [0.76923077, 0.99767029],\n",
              "       [0.77777778, 0.69059241],\n",
              "       [0.78632479, 0.5106501 ],\n",
              "       [0.79487179, 0.71910362],\n",
              "       [0.8034188 , 0.32904371],\n",
              "       [0.81196581, 0.41668516],\n",
              "       [0.82051282, 0.38540049],\n",
              "       [0.82905983, 0.59429776],\n",
              "       [0.83760684, 0.45540271],\n",
              "       [0.84615385, 0.48480142],\n",
              "       [0.85470085, 0.57521633],\n",
              "       [0.86324786, 0.33980475],\n",
              "       [0.87179487, 0.41036166],\n",
              "       [0.88034188, 0.52873308],\n",
              "       [0.88888889, 0.46860439],\n",
              "       [0.8974359 , 0.31684047],\n",
              "       [0.90598291, 0.56478811],\n",
              "       [0.91452991, 0.30297315],\n",
              "       [0.92307692, 0.26780564],\n",
              "       [0.93162393, 0.52218771],\n",
              "       [0.94017094, 0.65642334],\n",
              "       [0.94871795, 0.25904149],\n",
              "       [0.95726496, 0.93842911],\n",
              "       [0.96581197, 0.28577768],\n",
              "       [0.97435897, 0.40692256],\n",
              "       [0.98290598, 0.36099401],\n",
              "       [0.99145299, 0.33470158],\n",
              "       [1.        , 0.47548258]])"
            ]
          },
          "metadata": {
            "tags": []
          },
          "execution_count": 46
        }
      ]
    },
    {
      "cell_type": "code",
      "metadata": {
        "id": "p_ysHarP6ruv",
        "colab": {
          "base_uri": "https://localhost:8080/"
        },
        "outputId": "428f8212-5862-4eec-cda4-7044439629a4"
      },
      "source": [
        "from sklearn import model_selection,neighbors\n",
        "from sklearn.model_selection import train_test_split\n",
        "xJun_train,xJun_test,yJun_train,yJun_test=train_test_split(x,y,test_size=0.2)\n",
        "xJun_train[:20]"
      ],
      "execution_count": null,
      "outputs": [
        {
          "output_type": "execute_result",
          "data": {
            "text/plain": [
              "array([[0.07692308, 0.53605503],\n",
              "       [0.57264957, 0.55424895],\n",
              "       [0.69230769, 0.4608387 ],\n",
              "       [0.30769231, 0.3203905 ],\n",
              "       [0.77777778, 0.69059241],\n",
              "       [0.48717949, 0.57299756],\n",
              "       [0.95726496, 0.93842911],\n",
              "       [0.13675214, 0.56234746],\n",
              "       [0.47863248, 0.74905702],\n",
              "       [0.52136752, 0.05336144],\n",
              "       [0.98290598, 0.36099401],\n",
              "       [0.51282051, 0.89682716],\n",
              "       [0.09401709, 0.83359219],\n",
              "       [0.47008547, 0.61970268],\n",
              "       [0.17094017, 0.32427335],\n",
              "       [0.90598291, 0.56478811],\n",
              "       [0.94017094, 0.65642334],\n",
              "       [0.36752137, 0.33514533],\n",
              "       [0.83760684, 0.45540271],\n",
              "       [0.05128205, 0.63689816]])"
            ]
          },
          "metadata": {
            "tags": []
          },
          "execution_count": 47
        }
      ]
    },
    {
      "cell_type": "code",
      "metadata": {
        "id": "NBcn6px87L9-",
        "colab": {
          "base_uri": "https://localhost:8080/"
        },
        "outputId": "94c87da4-0b21-4bb3-ed19-974d84a6dd0a"
      },
      "source": [
        "clf6=neighbors.KNeighborsClassifier()\n",
        "clf6.fit(xJun_train,yJun_train)\n",
        "print(\"Predicted Values for the Floods:\")\n",
        "yJun_predict=clf6.predict(xJun_test)\n",
        "print(yJun_predict,len(yJun_predict))"
      ],
      "execution_count": null,
      "outputs": [
        {
          "output_type": "stream",
          "text": [
            "Predicted Values for the Floods:\n",
            "[1 1 1 1 1 1 1 1 1 1 1 1 1 1 1 1 1 1 1 1 1 1 1 1] 24\n"
          ],
          "name": "stdout"
        }
      ]
    },
    {
      "cell_type": "code",
      "metadata": {
        "id": "O7n8DfbD7aM2",
        "colab": {
          "base_uri": "https://localhost:8080/",
          "height": 264
        },
        "outputId": "9a0cbdfb-5823-4a3d-db4d-b392d203b5d3"
      },
      "source": [
        "plt.plot(yJun_predict)\n",
        "plt.plot(yJun_test)\n",
        "plt.grid(\"on\")\n",
        "plt.show()"
      ],
      "execution_count": null,
      "outputs": [
        {
          "output_type": "display_data",
          "data": {
            "image/png": "[encoded data removed]",
            "text/plain": [
              "<Figure size 432x288 with 1 Axes>"
            ]
          },
          "metadata": {
            "tags": [],
            "needs_background": "light"
          }
        }
      ]
    },
    {
      "cell_type": "code",
      "metadata": {
        "id": "uZwNSm7x76oS",
        "colab": {
          "base_uri": "https://localhost:8080/",
          "height": 406
        },
        "outputId": "620590f7-6a1d-421e-f721-d8dec80352c1"
      },
      "source": [
        "jul=data.iloc[:,[1,8]]\n",
        "jul['res']=0\n",
        "for i in range(len(jul)):\n",
        "  if jul['JUL'][i]>263:\n",
        "    jul['res'][i]=1\n",
        "jul"
      ],
      "execution_count": null,
      "outputs": [
        {
          "output_type": "execute_result",
          "data": {
            "text/html": [
              "<div>\n",
              "<style scoped>\n",
              "    .dataframe tbody tr th:only-of-type {\n",
              "        vertical-align: middle;\n",
              "    }\n",
              "\n",
              "    .dataframe tbody tr th {\n",
              "        vertical-align: top;\n",
              "    }\n",
              "\n",
              "    .dataframe thead th {\n",
              "        text-align: right;\n",
              "    }\n",
              "</style>\n",
              "<table border=\"1\" class=\"dataframe\">\n",
              "  <thead>\n",
              "    <tr style=\"text-align: right;\">\n",
              "      <th></th>\n",
              "      <th>YEAR</th>\n",
              "      <th>JUL</th>\n",
              "      <th>res</th>\n",
              "    </tr>\n",
              "  </thead>\n",
              "  <tbody>\n",
              "    <tr>\n",
              "      <th>0</th>\n",
              "      <td>1901</td>\n",
              "      <td>743.0</td>\n",
              "      <td>1</td>\n",
              "    </tr>\n",
              "    <tr>\n",
              "      <th>1</th>\n",
              "      <td>1902</td>\n",
              "      <td>1205.0</td>\n",
              "      <td>1</td>\n",
              "    </tr>\n",
              "    <tr>\n",
              "      <th>2</th>\n",
              "      <td>1903</td>\n",
              "      <td>1022.5</td>\n",
              "      <td>1</td>\n",
              "    </tr>\n",
              "    <tr>\n",
              "      <th>3</th>\n",
              "      <td>1904</td>\n",
              "      <td>725.5</td>\n",
              "      <td>1</td>\n",
              "    </tr>\n",
              "    <tr>\n",
              "      <th>4</th>\n",
              "      <td>1905</td>\n",
              "      <td>520.5</td>\n",
              "      <td>1</td>\n",
              "    </tr>\n",
              "    <tr>\n",
              "      <th>...</th>\n",
              "      <td>...</td>\n",
              "      <td>...</td>\n",
              "      <td>...</td>\n",
              "    </tr>\n",
              "    <tr>\n",
              "      <th>113</th>\n",
              "      <td>2014</td>\n",
              "      <td>677.8</td>\n",
              "      <td>1</td>\n",
              "    </tr>\n",
              "    <tr>\n",
              "      <th>114</th>\n",
              "      <td>2015</td>\n",
              "      <td>406.0</td>\n",
              "      <td>1</td>\n",
              "    </tr>\n",
              "    <tr>\n",
              "      <th>115</th>\n",
              "      <td>2016</td>\n",
              "      <td>412.3</td>\n",
              "      <td>1</td>\n",
              "    </tr>\n",
              "    <tr>\n",
              "      <th>116</th>\n",
              "      <td>2017</td>\n",
              "      <td>319.6</td>\n",
              "      <td>1</td>\n",
              "    </tr>\n",
              "    <tr>\n",
              "      <th>117</th>\n",
              "      <td>2018</td>\n",
              "      <td>1048.5</td>\n",
              "      <td>1</td>\n",
              "    </tr>\n",
              "  </tbody>\n",
              "</table>\n",
              "<p>118 rows × 3 columns</p>\n",
              "</div>"
            ],
            "text/plain": [
              "     YEAR     JUL  res\n",
              "0    1901   743.0    1\n",
              "1    1902  1205.0    1\n",
              "2    1903  1022.5    1\n",
              "3    1904   725.5    1\n",
              "4    1905   520.5    1\n",
              "..    ...     ...  ...\n",
              "113  2014   677.8    1\n",
              "114  2015   406.0    1\n",
              "115  2016   412.3    1\n",
              "116  2017   319.6    1\n",
              "117  2018  1048.5    1\n",
              "\n",
              "[118 rows x 3 columns]"
            ]
          },
          "metadata": {
            "tags": []
          },
          "execution_count": 50
        }
      ]
    },
    {
      "cell_type": "code",
      "metadata": {
        "id": "4uAEezao8gZ_",
        "colab": {
          "base_uri": "https://localhost:8080/"
        },
        "outputId": "a2be2988-52b7-4e9f-fcb7-6dd230d997c8"
      },
      "source": [
        "x=jul.iloc[:,0:2]\n",
        "y=jul.iloc[:,-1]\n",
        "y=np.asarray(y)\n",
        "print(x,y)"
      ],
      "execution_count": null,
      "outputs": [
        {
          "output_type": "stream",
          "text": [
            "     YEAR     JUL\n",
            "0    1901   743.0\n",
            "1    1902  1205.0\n",
            "2    1903  1022.5\n",
            "3    1904   725.5\n",
            "4    1905   520.5\n",
            "..    ...     ...\n",
            "113  2014   677.8\n",
            "114  2015   406.0\n",
            "115  2016   412.3\n",
            "116  2017   319.6\n",
            "117  2018  1048.5\n",
            "\n",
            "[118 rows x 2 columns] [1 1 1 1 1 1 1 1 1 1 1 1 1 1 1 1 1 0 1 1 1 1 1 1 1 1 1 1 1 1 1 1 1 1 1 1 1\n",
            " 1 1 1 1 1 1 1 1 1 1 1 1 1 1 1 1 1 1 1 1 1 1 1 1 1 1 1 1 1 1 1 1 1 1 1 1 1\n",
            " 1 1 1 1 1 1 1 1 1 1 1 1 0 1 1 1 1 1 1 1 1 1 1 1 1 1 1 1 1 1 1 1 1 1 1 1 1\n",
            " 1 1 1 1 1 1 1]\n"
          ],
          "name": "stdout"
        }
      ]
    },
    {
      "cell_type": "code",
      "metadata": {
        "id": "ax33KCje82oL",
        "colab": {
          "base_uri": "https://localhost:8080/"
        },
        "outputId": "cda58e65-d4a5-4916-9dbe-cd6b8885d532"
      },
      "source": [
        "from sklearn import preprocessing\n",
        "minmax = preprocessing.MinMaxScaler(feature_range=(0,1))\n",
        "x = minmax.fit(x).transform(x)\n",
        "x"
      ],
      "execution_count": null,
      "outputs": [
        {
          "output_type": "execute_result",
          "data": {
            "text/plain": [
              "array([[0.        , 0.42347314],\n",
              "       [0.00854701, 0.76342899],\n",
              "       [0.01709402, 0.62913907],\n",
              "       [0.02564103, 0.41059603],\n",
              "       [0.03418803, 0.25974982],\n",
              "       [0.04273504, 0.57888153],\n",
              "       [0.05128205, 0.43627667],\n",
              "       [0.05982906, 0.5406181 ],\n",
              "       [0.06837607, 0.45239146],\n",
              "       [0.07692308, 0.23296542],\n",
              "       [0.08547009, 0.39573216],\n",
              "       [0.09401709, 0.49013981],\n",
              "       [0.1025641 , 0.43833701],\n",
              "       [0.11111111, 0.50787344],\n",
              "       [0.11965812, 0.44746137],\n",
              "       [0.12820513, 0.2548933 ],\n",
              "       [0.13675214, 0.12891832],\n",
              "       [0.14529915, 0.        ],\n",
              "       [0.15384615, 0.3535688 ],\n",
              "       [0.16239316, 0.56902134],\n",
              "       [0.17094017, 0.34753495],\n",
              "       [0.17948718, 0.63105224],\n",
              "       [0.18803419, 0.61898455],\n",
              "       [0.1965812 , 1.        ],\n",
              "       [0.20512821, 0.31346578],\n",
              "       [0.21367521, 0.5281089 ],\n",
              "       [0.22222222, 0.53031641],\n",
              "       [0.23076923, 0.18623988],\n",
              "       [0.23931624, 0.49779249],\n",
              "       [0.24786325, 0.1723326 ],\n",
              "       [0.25641026, 0.35791023],\n",
              "       [0.26495726, 0.40389993],\n",
              "       [0.27350427, 0.44584253],\n",
              "       [0.28205128, 0.18211921],\n",
              "       [0.29059829, 0.38248712],\n",
              "       [0.2991453 , 0.37130243],\n",
              "       [0.30769231, 0.59087564],\n",
              "       [0.31623932, 0.3540103 ],\n",
              "       [0.32478632, 0.42832965],\n",
              "       [0.33333333, 0.52229581],\n",
              "       [0.34188034, 0.25783664],\n",
              "       [0.35042735, 0.4866078 ],\n",
              "       [0.35897436, 0.48866814],\n",
              "       [0.36752137, 0.32862399],\n",
              "       [0.37606838, 0.39477557],\n",
              "       [0.38461538, 0.37100809],\n",
              "       [0.39316239, 0.36924209],\n",
              "       [0.4017094 , 0.33222958],\n",
              "       [0.41025641, 0.43502575],\n",
              "       [0.41880342, 0.54319352],\n",
              "       [0.42735043, 0.27748344],\n",
              "       [0.43589744, 0.19315673],\n",
              "       [0.44444444, 0.63289183],\n",
              "       [0.45299145, 0.34805004],\n",
              "       [0.46153846, 0.16578366],\n",
              "       [0.47008547, 0.22023547],\n",
              "       [0.47863248, 0.49139073],\n",
              "       [0.48717949, 0.33495217],\n",
              "       [0.4957265 , 0.72715232],\n",
              "       [0.5042735 , 0.42928624],\n",
              "       [0.51282051, 0.72038263],\n",
              "       [0.52136752, 0.57660044],\n",
              "       [0.52991453, 0.4066961 ],\n",
              "       [0.53846154, 0.4317145 ],\n",
              "       [0.54700855, 0.21898455],\n",
              "       [0.55555556, 0.3196468 ],\n",
              "       [0.56410256, 0.42229581],\n",
              "       [0.57264957, 0.83988227],\n",
              "       [0.58119658, 0.47924945],\n",
              "       [0.58974359, 0.28741722],\n",
              "       [0.5982906 , 0.3540103 ],\n",
              "       [0.60683761, 0.40242826],\n",
              "       [0.61538462, 0.30610743],\n",
              "       [0.62393162, 0.61567329],\n",
              "       [0.63247863, 0.26769684],\n",
              "       [0.64102564, 0.34878587],\n",
              "       [0.64957265, 0.43105224],\n",
              "       [0.65811966, 0.38204562],\n",
              "       [0.66666667, 0.36401766],\n",
              "       [0.67521368, 0.43156733],\n",
              "       [0.68376068, 0.23715968],\n",
              "       [0.69230769, 0.2531273 ],\n",
              "       [0.7008547 , 0.30588668],\n",
              "       [0.70940171, 0.35768948],\n",
              "       [0.71794872, 0.16291391],\n",
              "       [0.72649573, 0.11574687],\n",
              "       [0.73504274, 0.03936718],\n",
              "       [0.74358974, 0.24672553],\n",
              "       [0.75213675, 0.20838852],\n",
              "       [0.76068376, 0.34429728],\n",
              "       [0.76923077, 0.54304636],\n",
              "       [0.77777778, 0.44172185],\n",
              "       [0.78632479, 0.44782929],\n",
              "       [0.79487179, 0.57983812],\n",
              "       [0.8034188 , 0.39367182],\n",
              "       [0.81196581, 0.38888889],\n",
              "       [0.82051282, 0.59087564],\n",
              "       [0.82905983, 0.34871229],\n",
              "       [0.83760684, 0.39212656],\n",
              "       [0.84615385, 0.12928624],\n",
              "       [0.85470085, 0.31714496],\n",
              "       [0.86324786, 0.11125828],\n",
              "       [0.87179487, 0.26821192],\n",
              "       [0.88034188, 0.16033848],\n",
              "       [0.88888889, 0.48947756],\n",
              "       [0.8974359 , 0.46835909],\n",
              "       [0.90598291, 0.58778514],\n",
              "       [0.91452991, 0.24841795],\n",
              "       [0.92307692, 0.55732156],\n",
              "       [0.93162393, 0.33958793],\n",
              "       [0.94017094, 0.27174393],\n",
              "       [0.94871795, 0.14356144],\n",
              "       [0.95726496, 0.48763797],\n",
              "       [0.96581197, 0.37549669],\n",
              "       [0.97435897, 0.17549669],\n",
              "       [0.98290598, 0.18013245],\n",
              "       [0.99145299, 0.11192053],\n",
              "       [1.        , 0.64827079]])"
            ]
          },
          "metadata": {
            "tags": []
          },
          "execution_count": 52
        }
      ]
    },
    {
      "cell_type": "code",
      "metadata": {
        "id": "vpyiuAlz85zm",
        "colab": {
          "base_uri": "https://localhost:8080/"
        },
        "outputId": "4d4f2d45-b8de-4f96-e784-657ad01df8ef"
      },
      "source": [
        "from sklearn import model_selection,neighbors\n",
        "from sklearn.model_selection import train_test_split\n",
        "xJul_train,xJul_test,yJul_train,yJul_test=train_test_split(x,y,test_size=0.2)\n",
        "xJul_train[:20]"
      ],
      "execution_count": null,
      "outputs": [
        {
          "output_type": "execute_result",
          "data": {
            "text/plain": [
              "array([[0.71794872, 0.16291391],\n",
              "       [0.46153846, 0.16578366],\n",
              "       [0.76923077, 0.54304636],\n",
              "       [0.15384615, 0.3535688 ],\n",
              "       [0.31623932, 0.3540103 ],\n",
              "       [0.86324786, 0.11125828],\n",
              "       [0.63247863, 0.26769684],\n",
              "       [0.01709402, 0.62913907],\n",
              "       [0.55555556, 0.3196468 ],\n",
              "       [0.1965812 , 1.        ],\n",
              "       [0.06837607, 0.45239146],\n",
              "       [0.92307692, 0.55732156],\n",
              "       [1.        , 0.64827079],\n",
              "       [0.45299145, 0.34805004],\n",
              "       [0.47008547, 0.22023547],\n",
              "       [0.44444444, 0.63289183],\n",
              "       [0.85470085, 0.31714496],\n",
              "       [0.84615385, 0.12928624],\n",
              "       [0.39316239, 0.36924209],\n",
              "       [0.29059829, 0.38248712]])"
            ]
          },
          "metadata": {
            "tags": []
          },
          "execution_count": 53
        }
      ]
    },
    {
      "cell_type": "code",
      "metadata": {
        "id": "2sCAJUC39Wgp",
        "colab": {
          "base_uri": "https://localhost:8080/"
        },
        "outputId": "e7d2b30b-bd87-4e11-9f24-9f282f132bd3"
      },
      "source": [
        "clf7=neighbors.KNeighborsClassifier()\n",
        "clf7.fit(xJul_train,yJul_train)\n",
        "print(\"Predicted Values for the Floods:\")\n",
        "yJul_predict=clf7.predict(xJul_test)\n",
        "print(yJul_predict,len(yJul_predict))"
      ],
      "execution_count": null,
      "outputs": [
        {
          "output_type": "stream",
          "text": [
            "Predicted Values for the Floods:\n",
            "[1 1 1 1 1 1 1 1 1 1 1 1 1 1 1 1 1 1 1 1 1 1 1 1] 24\n"
          ],
          "name": "stdout"
        }
      ]
    },
    {
      "cell_type": "code",
      "metadata": {
        "id": "NUxjia989ocj",
        "colab": {
          "base_uri": "https://localhost:8080/",
          "height": 264
        },
        "outputId": "d2af934f-8a41-47f3-fac3-1f4f9a0d74c6"
      },
      "source": [
        "plt.plot(yJul_predict)\n",
        "plt.plot(yJul_test)\n",
        "plt.grid(\"on\")\n",
        "plt.show()"
      ],
      "execution_count": null,
      "outputs": [
        {
          "output_type": "display_data",
          "data": {
            "image/png": "[encoded data removed]",
            "text/plain": [
              "<Figure size 432x288 with 1 Axes>"
            ]
          },
          "metadata": {
            "tags": [],
            "needs_background": "light"
          }
        }
      ]
    },
    {
      "cell_type": "code",
      "metadata": {
        "id": "6MONGBthIbKo",
        "colab": {
          "base_uri": "https://localhost:8080/"
        },
        "outputId": "472791f3-f33c-4b91-c559-73201d899ccd"
      },
      "source": [
        "from sklearn.metrics import accuracy_score\n",
        "print(\"\\nAccuracy Score:%f\"%(accuracy_score(yJul_test,yJul_predict)*100))"
      ],
      "execution_count": null,
      "outputs": [
        {
          "output_type": "stream",
          "text": [
            "\n",
            "Accuracy Score:95.833333\n"
          ],
          "name": "stdout"
        }
      ]
    },
    {
      "cell_type": "code",
      "metadata": {
        "id": "l4ybXOXD9uE4",
        "colab": {
          "base_uri": "https://localhost:8080/",
          "height": 406
        },
        "outputId": "984b9a95-c794-46b8-94db-7af97b8c6358"
      },
      "source": [
        "aug=data.iloc[:,[1,9]]\n",
        "aug['res']=0\n",
        "for i in range(len(aug)):\n",
        "  if aug['AUG'][i]>263:\n",
        "    aug['res'][i]=1\n",
        "aug"
      ],
      "execution_count": null,
      "outputs": [
        {
          "output_type": "execute_result",
          "data": {
            "text/html": [
              "<div>\n",
              "<style scoped>\n",
              "    .dataframe tbody tr th:only-of-type {\n",
              "        vertical-align: middle;\n",
              "    }\n",
              "\n",
              "    .dataframe tbody tr th {\n",
              "        vertical-align: top;\n",
              "    }\n",
              "\n",
              "    .dataframe thead th {\n",
              "        text-align: right;\n",
              "    }\n",
              "</style>\n",
              "<table border=\"1\" class=\"dataframe\">\n",
              "  <thead>\n",
              "    <tr style=\"text-align: right;\">\n",
              "      <th></th>\n",
              "      <th>YEAR</th>\n",
              "      <th>AUG</th>\n",
              "      <th>res</th>\n",
              "    </tr>\n",
              "  </thead>\n",
              "  <tbody>\n",
              "    <tr>\n",
              "      <th>0</th>\n",
              "      <td>1901</td>\n",
              "      <td>357.5</td>\n",
              "      <td>1</td>\n",
              "    </tr>\n",
              "    <tr>\n",
              "      <th>1</th>\n",
              "      <td>1902</td>\n",
              "      <td>315.8</td>\n",
              "      <td>1</td>\n",
              "    </tr>\n",
              "    <tr>\n",
              "      <th>2</th>\n",
              "      <td>1903</td>\n",
              "      <td>420.2</td>\n",
              "      <td>1</td>\n",
              "    </tr>\n",
              "    <tr>\n",
              "      <th>3</th>\n",
              "      <td>1904</td>\n",
              "      <td>351.8</td>\n",
              "      <td>1</td>\n",
              "    </tr>\n",
              "    <tr>\n",
              "      <th>4</th>\n",
              "      <td>1905</td>\n",
              "      <td>293.6</td>\n",
              "      <td>1</td>\n",
              "    </tr>\n",
              "    <tr>\n",
              "      <th>...</th>\n",
              "      <td>...</td>\n",
              "      <td>...</td>\n",
              "      <td>...</td>\n",
              "    </tr>\n",
              "    <tr>\n",
              "      <th>113</th>\n",
              "      <td>2014</td>\n",
              "      <td>733.9</td>\n",
              "      <td>1</td>\n",
              "    </tr>\n",
              "    <tr>\n",
              "      <th>114</th>\n",
              "      <td>2015</td>\n",
              "      <td>252.2</td>\n",
              "      <td>0</td>\n",
              "    </tr>\n",
              "    <tr>\n",
              "      <th>115</th>\n",
              "      <td>2016</td>\n",
              "      <td>325.5</td>\n",
              "      <td>1</td>\n",
              "    </tr>\n",
              "    <tr>\n",
              "      <th>116</th>\n",
              "      <td>2017</td>\n",
              "      <td>531.8</td>\n",
              "      <td>1</td>\n",
              "    </tr>\n",
              "    <tr>\n",
              "      <th>117</th>\n",
              "      <td>2018</td>\n",
              "      <td>1398.9</td>\n",
              "      <td>1</td>\n",
              "    </tr>\n",
              "  </tbody>\n",
              "</table>\n",
              "<p>118 rows × 3 columns</p>\n",
              "</div>"
            ],
            "text/plain": [
              "     YEAR     AUG  res\n",
              "0    1901   357.5    1\n",
              "1    1902   315.8    1\n",
              "2    1903   420.2    1\n",
              "3    1904   351.8    1\n",
              "4    1905   293.6    1\n",
              "..    ...     ...  ...\n",
              "113  2014   733.9    1\n",
              "114  2015   252.2    0\n",
              "115  2016   325.5    1\n",
              "116  2017   531.8    1\n",
              "117  2018  1398.9    1\n",
              "\n",
              "[118 rows x 3 columns]"
            ]
          },
          "metadata": {
            "tags": []
          },
          "execution_count": 57
        }
      ]
    },
    {
      "cell_type": "code",
      "metadata": {
        "id": "QJshbt3k-NX0",
        "colab": {
          "base_uri": "https://localhost:8080/"
        },
        "outputId": "37adc9d3-b8fa-460c-e653-169fd4af2d58"
      },
      "source": [
        "x=aug.iloc[:,0:2]\n",
        "y=aug.iloc[:,-1]\n",
        "y=np.asarray(y)\n",
        "print(x,y)"
      ],
      "execution_count": null,
      "outputs": [
        {
          "output_type": "stream",
          "text": [
            "     YEAR     AUG\n",
            "0    1901   357.5\n",
            "1    1902   315.8\n",
            "2    1903   420.2\n",
            "3    1904   351.8\n",
            "4    1905   293.6\n",
            "..    ...     ...\n",
            "113  2014   733.9\n",
            "114  2015   252.2\n",
            "115  2016   325.5\n",
            "116  2017   531.8\n",
            "117  2018  1398.9\n",
            "\n",
            "[118 rows x 2 columns] [1 1 1 1 1 1 1 1 0 1 0 1 0 1 1 1 1 1 1 0 1 1 1 1 1 1 1 1 1 1 1 1 1 1 1 1 1\n",
            " 1 1 1 1 1 0 0 1 1 1 1 1 1 0 1 1 1 0 1 1 1 1 1 1 1 1 1 1 0 1 1 1 1 1 1 1 1\n",
            " 1 1 0 1 1 1 1 1 1 1 1 1 1 1 1 1 1 1 1 1 1 1 1 1 1 1 1 1 1 1 1 1 1 1 1 1 1\n",
            " 1 1 1 0 1 1 1]\n"
          ],
          "name": "stdout"
        }
      ]
    },
    {
      "cell_type": "code",
      "metadata": {
        "id": "t4rCY4Jb-a7j",
        "colab": {
          "base_uri": "https://localhost:8080/"
        },
        "outputId": "afa02f93-f62e-438a-e2a7-c74028ef1ff0"
      },
      "source": [
        "from sklearn import preprocessing\n",
        "minmax = preprocessing.MinMaxScaler(feature_range=(0,1))\n",
        "x = minmax.fit(x).transform(x)\n",
        "x"
      ],
      "execution_count": null,
      "outputs": [
        {
          "output_type": "execute_result",
          "data": {
            "text/plain": [
              "array([[0.        , 0.14660329],\n",
              "       [0.00854701, 0.11243137],\n",
              "       [0.01709402, 0.1979841 ],\n",
              "       [0.02564103, 0.14193231],\n",
              "       [0.03418803, 0.09423912],\n",
              "       [0.04273504, 0.21650414],\n",
              "       [0.05128205, 0.65795296],\n",
              "       [0.05982906, 0.14283373],\n",
              "       [0.06837607, 0.06506597],\n",
              "       [0.07692308, 0.24190773],\n",
              "       [0.08547009, 0.        ],\n",
              "       [0.09401709, 0.29156765],\n",
              "       [0.1025641 , 0.05621568],\n",
              "       [0.11111111, 0.18323363],\n",
              "       [0.11965812, 0.09850037],\n",
              "       [0.12820513, 0.17889044],\n",
              "       [0.13675214, 0.12824715],\n",
              "       [0.14529915, 0.1617635 ],\n",
              "       [0.15384615, 0.25043022],\n",
              "       [0.16239316, 0.04621814],\n",
              "       [0.17094017, 0.37966074],\n",
              "       [0.17948718, 0.11636483],\n",
              "       [0.18803419, 0.62640334],\n",
              "       [0.1965812 , 0.36499222],\n",
              "       [0.20512821, 0.30771122],\n",
              "       [0.21367521, 0.2928788 ],\n",
              "       [0.22222222, 0.11177579],\n",
              "       [0.23076923, 0.30697369],\n",
              "       [0.23931624, 0.09448496],\n",
              "       [0.24786325, 0.07768581],\n",
              "       [0.25641026, 0.83635172],\n",
              "       [0.26495726, 0.20044251],\n",
              "       [0.27350427, 0.24657871],\n",
              "       [0.28205128, 0.12996804],\n",
              "       [0.29059829, 0.08383184],\n",
              "       [0.2991453 , 0.15512579],\n",
              "       [0.30769231, 0.08407769],\n",
              "       [0.31623932, 0.08956814],\n",
              "       [0.32478632, 0.23051709],\n",
              "       [0.33333333, 0.3541752 ],\n",
              "       [0.34188034, 0.22936983],\n",
              "       [0.35042735, 0.12349422],\n",
              "       [0.35897436, 0.00385151],\n",
              "       [0.36752137, 0.04269442],\n",
              "       [0.37606838, 0.14193231],\n",
              "       [0.38461538, 0.42366631],\n",
              "       [0.39316239, 0.45972302],\n",
              "       [0.4017094 , 0.25346226],\n",
              "       [0.41025641, 0.21847087],\n",
              "       [0.41880342, 0.17102352],\n",
              "       [0.42735043, 0.00983365],\n",
              "       [0.43589744, 0.1925756 ],\n",
              "       [0.44444444, 0.14570188],\n",
              "       [0.45299145, 0.23633533],\n",
              "       [0.46153846, 0.04703761],\n",
              "       [0.47008547, 0.11546341],\n",
              "       [0.47863248, 0.14766861],\n",
              "       [0.48717949, 0.28517578],\n",
              "       [0.4957265 , 0.17921823],\n",
              "       [0.5042735 , 0.12964025],\n",
              "       [0.51282051, 0.40948947],\n",
              "       [0.52136752, 0.27214619],\n",
              "       [0.52991453, 0.27239203],\n",
              "       [0.53846154, 0.30271245],\n",
              "       [0.54700855, 0.0962878 ],\n",
              "       [0.55555556, 0.01925756],\n",
              "       [0.56410256, 0.27026141],\n",
              "       [0.57264957, 0.16561501],\n",
              "       [0.58119658, 0.08702778],\n",
              "       [0.58974359, 0.30828485],\n",
              "       [0.5982906 , 0.16930263],\n",
              "       [0.60683761, 0.09530443],\n",
              "       [0.61538462, 0.25313448],\n",
              "       [0.62393162, 0.29091207],\n",
              "       [0.63247863, 0.40752274],\n",
              "       [0.64102564, 0.13439318],\n",
              "       [0.64957265, 0.04556257],\n",
              "       [0.65811966, 0.27714496],\n",
              "       [0.66666667, 0.16807342],\n",
              "       [0.67521368, 0.21265263],\n",
              "       [0.68376068, 0.25977219],\n",
              "       [0.69230769, 0.2592805 ],\n",
              "       [0.7008547 , 0.32885356],\n",
              "       [0.70940171, 0.08669999],\n",
              "       [0.71794872, 0.11202163],\n",
              "       [0.72649573, 0.1325084 ],\n",
              "       [0.73504274, 0.1786446 ],\n",
              "       [0.74358974, 0.16487749],\n",
              "       [0.75213675, 0.08760141],\n",
              "       [0.76068376, 0.15750225],\n",
              "       [0.76923077, 0.23510612],\n",
              "       [0.77777778, 0.26993362],\n",
              "       [0.78632479, 0.10104073],\n",
              "       [0.79487179, 0.2469065 ],\n",
              "       [0.8034188 , 0.22838646],\n",
              "       [0.81196581, 0.12193723],\n",
              "       [0.82051282, 0.2928788 ],\n",
              "       [0.82905983, 0.15832172],\n",
              "       [0.83760684, 0.07186757],\n",
              "       [0.84615385, 0.31787265],\n",
              "       [0.85470085, 0.14971728],\n",
              "       [0.86324786, 0.21273457],\n",
              "       [0.87179487, 0.14070311],\n",
              "       [0.88034188, 0.19609932],\n",
              "       [0.88888889, 0.0921085 ],\n",
              "       [0.8974359 , 0.20814554],\n",
              "       [0.90598291, 0.25485536],\n",
              "       [0.91452991, 0.13963779],\n",
              "       [0.92307692, 0.07432599],\n",
              "       [0.93162393, 0.14537409],\n",
              "       [0.94017094, 0.25739572],\n",
              "       [0.94871795, 0.26468901],\n",
              "       [0.95726496, 0.15660084],\n",
              "       [0.96581197, 0.45505204],\n",
              "       [0.97435897, 0.06031304],\n",
              "       [0.98290598, 0.12038023],\n",
              "       [0.99145299, 0.28943702],\n",
              "       [1.        , 1.        ]])"
            ]
          },
          "metadata": {
            "tags": []
          },
          "execution_count": 59
        }
      ]
    },
    {
      "cell_type": "code",
      "metadata": {
        "id": "V4oURhih_AlD",
        "colab": {
          "base_uri": "https://localhost:8080/"
        },
        "outputId": "25900e86-017d-4c3c-d153-d5031d9b408e"
      },
      "source": [
        "from sklearn import model_selection,neighbors\n",
        "from sklearn.model_selection import train_test_split\n",
        "xAug_train,xAug_test,yAug_train,yAug_test=train_test_split(x,y,test_size=0.2)\n",
        "xAug_train[:20]"
      ],
      "execution_count": null,
      "outputs": [
        {
          "output_type": "execute_result",
          "data": {
            "text/plain": [
              "array([[0.79487179, 0.2469065 ],\n",
              "       [0.33333333, 0.3541752 ],\n",
              "       [0.71794872, 0.11202163],\n",
              "       [0.67521368, 0.21265263],\n",
              "       [0.4017094 , 0.25346226],\n",
              "       [0.09401709, 0.29156765],\n",
              "       [0.97435897, 0.06031304],\n",
              "       [0.85470085, 0.14971728],\n",
              "       [0.64957265, 0.04556257],\n",
              "       [0.42735043, 0.00983365],\n",
              "       [0.31623932, 0.08956814],\n",
              "       [0.7008547 , 0.32885356],\n",
              "       [0.21367521, 0.2928788 ],\n",
              "       [0.04273504, 0.21650414],\n",
              "       [0.37606838, 0.14193231],\n",
              "       [0.36752137, 0.04269442],\n",
              "       [0.66666667, 0.16807342],\n",
              "       [0.15384615, 0.25043022],\n",
              "       [0.68376068, 0.25977219],\n",
              "       [0.76923077, 0.23510612]])"
            ]
          },
          "metadata": {
            "tags": []
          },
          "execution_count": 60
        }
      ]
    },
    {
      "cell_type": "code",
      "metadata": {
        "id": "Xjzvxm6VAUHQ",
        "colab": {
          "base_uri": "https://localhost:8080/"
        },
        "outputId": "5293f2a9-bfed-4783-a0eb-23b95f80811b"
      },
      "source": [
        "clf8=neighbors.KNeighborsClassifier()\n",
        "clf8.fit(xAug_train,yAug_train)\n",
        "print(\"Predicted Values for the Floods:\")\n",
        "yAug_predict=clf8.predict(xAug_test)\n",
        "print(yAug_predict,len(yAug_predict))"
      ],
      "execution_count": null,
      "outputs": [
        {
          "output_type": "stream",
          "text": [
            "Predicted Values for the Floods:\n",
            "[1 1 1 1 1 1 1 1 1 1 1 1 1 1 1 1 1 1 1 1 1 1 0 1] 24\n"
          ],
          "name": "stdout"
        }
      ]
    },
    {
      "cell_type": "code",
      "metadata": {
        "id": "5NVTJiX5AZjq",
        "colab": {
          "base_uri": "https://localhost:8080/",
          "height": 264
        },
        "outputId": "2d658889-6800-4df4-a318-601414a5a76d"
      },
      "source": [
        "plt.plot(yAug_predict)\n",
        "plt.plot(yAug_test)\n",
        "plt.grid(\"on\")\n",
        "plt.show()"
      ],
      "execution_count": null,
      "outputs": [
        {
          "output_type": "display_data",
          "data": {
            "image/png": "[encoded data removed]",
            "text/plain": [
              "<Figure size 432x288 with 1 Axes>"
            ]
          },
          "metadata": {
            "tags": [],
            "needs_background": "light"
          }
        }
      ]
    },
    {
      "cell_type": "code",
      "metadata": {
        "id": "YICTxY-5Auil",
        "colab": {
          "base_uri": "https://localhost:8080/"
        },
        "outputId": "4aa7094f-a772-4c3c-ccf0-99af0399177e"
      },
      "source": [
        "from sklearn.metrics import accuracy_score\n",
        "print(\"\\nAccuracy Score:%f\"%(accuracy_score(yAug_test,yAug_predict)*100))"
      ],
      "execution_count": null,
      "outputs": [
        {
          "output_type": "stream",
          "text": [
            "\n",
            "Accuracy Score:95.833333\n"
          ],
          "name": "stdout"
        }
      ]
    },
    {
      "cell_type": "code",
      "metadata": {
        "id": "iWybyVuGBOlL",
        "colab": {
          "base_uri": "https://localhost:8080/",
          "height": 406
        },
        "outputId": "a7ee0ecf-bd47-4e24-984d-27a44f471a9e"
      },
      "source": [
        "sep=data.iloc[:,[1,10]]\n",
        "sep['res']=0\n",
        "for i in range(len(sep)):\n",
        "  if sep['SEP'][i]>263:\n",
        "    sep['res'][i]=1\n",
        "sep"
      ],
      "execution_count": null,
      "outputs": [
        {
          "output_type": "execute_result",
          "data": {
            "text/html": [
              "<div>\n",
              "<style scoped>\n",
              "    .dataframe tbody tr th:only-of-type {\n",
              "        vertical-align: middle;\n",
              "    }\n",
              "\n",
              "    .dataframe tbody tr th {\n",
              "        vertical-align: top;\n",
              "    }\n",
              "\n",
              "    .dataframe thead th {\n",
              "        text-align: right;\n",
              "    }\n",
              "</style>\n",
              "<table border=\"1\" class=\"dataframe\">\n",
              "  <thead>\n",
              "    <tr style=\"text-align: right;\">\n",
              "      <th></th>\n",
              "      <th>YEAR</th>\n",
              "      <th>SEP</th>\n",
              "      <th>res</th>\n",
              "    </tr>\n",
              "  </thead>\n",
              "  <tbody>\n",
              "    <tr>\n",
              "      <th>0</th>\n",
              "      <td>1901</td>\n",
              "      <td>197.7</td>\n",
              "      <td>0</td>\n",
              "    </tr>\n",
              "    <tr>\n",
              "      <th>1</th>\n",
              "      <td>1902</td>\n",
              "      <td>491.6</td>\n",
              "      <td>1</td>\n",
              "    </tr>\n",
              "    <tr>\n",
              "      <th>2</th>\n",
              "      <td>1903</td>\n",
              "      <td>341.8</td>\n",
              "      <td>1</td>\n",
              "    </tr>\n",
              "    <tr>\n",
              "      <th>3</th>\n",
              "      <td>1904</td>\n",
              "      <td>222.7</td>\n",
              "      <td>0</td>\n",
              "    </tr>\n",
              "    <tr>\n",
              "      <th>4</th>\n",
              "      <td>1905</td>\n",
              "      <td>217.2</td>\n",
              "      <td>0</td>\n",
              "    </tr>\n",
              "    <tr>\n",
              "      <th>...</th>\n",
              "      <td>...</td>\n",
              "      <td>...</td>\n",
              "      <td>...</td>\n",
              "    </tr>\n",
              "    <tr>\n",
              "      <th>113</th>\n",
              "      <td>2014</td>\n",
              "      <td>298.8</td>\n",
              "      <td>1</td>\n",
              "    </tr>\n",
              "    <tr>\n",
              "      <th>114</th>\n",
              "      <td>2015</td>\n",
              "      <td>292.9</td>\n",
              "      <td>1</td>\n",
              "    </tr>\n",
              "    <tr>\n",
              "      <th>115</th>\n",
              "      <td>2016</td>\n",
              "      <td>173.2</td>\n",
              "      <td>0</td>\n",
              "    </tr>\n",
              "    <tr>\n",
              "      <th>116</th>\n",
              "      <td>2017</td>\n",
              "      <td>209.5</td>\n",
              "      <td>0</td>\n",
              "    </tr>\n",
              "    <tr>\n",
              "      <th>117</th>\n",
              "      <td>2018</td>\n",
              "      <td>423.6</td>\n",
              "      <td>1</td>\n",
              "    </tr>\n",
              "  </tbody>\n",
              "</table>\n",
              "<p>118 rows × 3 columns</p>\n",
              "</div>"
            ],
            "text/plain": [
              "     YEAR    SEP  res\n",
              "0    1901  197.7    0\n",
              "1    1902  491.6    1\n",
              "2    1903  341.8    1\n",
              "3    1904  222.7    0\n",
              "4    1905  217.2    0\n",
              "..    ...    ...  ...\n",
              "113  2014  298.8    1\n",
              "114  2015  292.9    1\n",
              "115  2016  173.2    0\n",
              "116  2017  209.5    0\n",
              "117  2018  423.6    1\n",
              "\n",
              "[118 rows x 3 columns]"
            ]
          },
          "metadata": {
            "tags": []
          },
          "execution_count": 64
        }
      ]
    },
    {
      "cell_type": "code",
      "metadata": {
        "id": "Ml3JNYhcGkHj",
        "colab": {
          "base_uri": "https://localhost:8080/"
        },
        "outputId": "97088607-35d5-43fd-9e25-49df7f2e889d"
      },
      "source": [
        "x=sep.iloc[:,0:2]\n",
        "y=sep.iloc[:,-1]\n",
        "y=np.asarray(y)\n",
        "print(x,y)"
      ],
      "execution_count": null,
      "outputs": [
        {
          "output_type": "stream",
          "text": [
            "     YEAR    SEP\n",
            "0    1901  197.7\n",
            "1    1902  491.6\n",
            "2    1903  341.8\n",
            "3    1904  222.7\n",
            "4    1905  217.2\n",
            "..    ...    ...\n",
            "113  2014  298.8\n",
            "114  2015  292.9\n",
            "115  2016  173.2\n",
            "116  2017  209.5\n",
            "117  2018  423.6\n",
            "\n",
            "[118 rows x 2 columns] [0 1 1 0 0 0 0 0 0 0 0 0 0 0 1 1 1 0 0 0 0 0 0 1 0 1 1 0 1 1 0 1 1 0 1 1 0\n",
            " 0 0 0 0 0 0 0 0 0 1 0 1 1 1 0 0 0 1 0 0 0 1 1 1 1 0 1 0 1 0 1 0 0 1 0 0 1\n",
            " 1 0 0 0 0 0 1 0 1 0 0 0 0 1 1 0 0 1 0 0 1 1 1 1 0 0 0 0 0 0 1 1 1 1 1 1 1\n",
            " 0 1 1 1 0 0 1]\n"
          ],
          "name": "stdout"
        }
      ]
    },
    {
      "cell_type": "code",
      "metadata": {
        "id": "FbRirYe5G0Hw",
        "colab": {
          "base_uri": "https://localhost:8080/"
        },
        "outputId": "d9e32aa9-9e04-48db-f9bf-7aa9145e75eb"
      },
      "source": [
        "from sklearn import preprocessing\n",
        "minmax = preprocessing.MinMaxScaler(feature_range=(0,1))\n",
        "x = minmax.fit(x).transform(x)\n",
        "x"
      ],
      "execution_count": null,
      "outputs": [
        {
          "output_type": "execute_result",
          "data": {
            "text/plain": [
              "array([[0.        , 0.32220849],\n",
              "       [0.00854701, 0.9276885 ],\n",
              "       [0.01709402, 0.61907705],\n",
              "       [0.02564103, 0.3737124 ],\n",
              "       [0.03418803, 0.36238154],\n",
              "       [0.04273504, 0.18520808],\n",
              "       [0.05128205, 0.37845076],\n",
              "       [0.05982906, 0.27729707],\n",
              "       [0.06837607, 0.31747013],\n",
              "       [0.07692308, 0.42707046],\n",
              "       [0.08547009, 0.03893696],\n",
              "       [0.09401709, 0.19674495],\n",
              "       [0.1025641 , 0.27935723],\n",
              "       [0.11111111, 0.41141327],\n",
              "       [0.11965812, 0.73197363],\n",
              "       [0.12820513, 0.61392666],\n",
              "       [0.13675214, 0.88380717],\n",
              "       [0.14529915, 0.11351463],\n",
              "       [0.15384615, 0.4421096 ],\n",
              "       [0.16239316, 0.2816234 ],\n",
              "       [0.17094017, 0.23774207],\n",
              "       [0.17948718, 0.37309436],\n",
              "       [0.18803419, 0.43881335],\n",
              "       [0.1965812 , 0.5105068 ],\n",
              "       [0.20512821, 0.2420684 ],\n",
              "       [0.21367521, 0.57972806],\n",
              "       [0.22222222, 0.60630408],\n",
              "       [0.23076923, 0.07128142],\n",
              "       [0.23931624, 0.46889164],\n",
              "       [0.24786325, 0.76266996],\n",
              "       [0.25641026, 0.25113309],\n",
              "       [0.26495726, 0.56860321],\n",
              "       [0.27350427, 0.88257108],\n",
              "       [0.28205128, 0.01462711],\n",
              "       [0.29059829, 0.49855789],\n",
              "       [0.2991453 , 0.50556242],\n",
              "       [0.30769231, 0.20292542],\n",
              "       [0.31623932, 0.37474248],\n",
              "       [0.32478632, 0.19118253],\n",
              "       [0.33333333, 0.05541821],\n",
              "       [0.34188034, 0.44622991],\n",
              "       [0.35042735, 0.12051916],\n",
              "       [0.35897436, 0.44561187],\n",
              "       [0.36752137, 0.2342398 ],\n",
              "       [0.37606838, 0.1433869 ],\n",
              "       [0.38461538, 0.32571075],\n",
              "       [0.39316239, 0.7276473 ],\n",
              "       [0.4017094 , 0.25813762],\n",
              "       [0.41025641, 0.64524104],\n",
              "       [0.41880342, 0.76287598],\n",
              "       [0.42735043, 0.56139267],\n",
              "       [0.43589744, 0.03316852],\n",
              "       [0.44444444, 0.12196127],\n",
              "       [0.45299145, 0.3302431 ],\n",
              "       [0.46153846, 0.81829419],\n",
              "       [0.47008547, 0.28244747],\n",
              "       [0.47863248, 0.        ],\n",
              "       [0.48717949, 0.09229501],\n",
              "       [0.4957265 , 0.75030902],\n",
              "       [0.5042735 , 0.67964565],\n",
              "       [0.51282051, 0.73753605],\n",
              "       [0.52136752, 0.72847136],\n",
              "       [0.52991453, 0.37618459],\n",
              "       [0.53846154, 0.73526988],\n",
              "       [0.54700855, 0.22414504],\n",
              "       [0.55555556, 0.51895344],\n",
              "       [0.56410256, 0.21528636],\n",
              "       [0.57264957, 0.58529048],\n",
              "       [0.58119658, 0.36073342],\n",
              "       [0.58974359, 0.35269881],\n",
              "       [0.5982906 , 0.59723939],\n",
              "       [0.60683761, 0.29748661],\n",
              "       [0.61538462, 0.04120313],\n",
              "       [0.62393162, 0.70519159],\n",
              "       [0.63247863, 0.8578492 ],\n",
              "       [0.64102564, 0.15430573],\n",
              "       [0.64957265, 0.32962505],\n",
              "       [0.65811966, 0.16089823],\n",
              "       [0.66666667, 0.35105068],\n",
              "       [0.67521368, 0.20230738],\n",
              "       [0.68376068, 0.6907705 ],\n",
              "       [0.69230769, 0.06036259],\n",
              "       [0.7008547 , 0.78244747],\n",
              "       [0.70940171, 0.26740832],\n",
              "       [0.71794872, 0.15718995],\n",
              "       [0.72649573, 0.39987639],\n",
              "       [0.73504274, 0.23836012],\n",
              "       [0.74358974, 0.84548826],\n",
              "       [0.75213675, 0.47342398],\n",
              "       [0.76068376, 0.12772971],\n",
              "       [0.76923077, 0.01483313],\n",
              "       [0.77777778, 0.52781211],\n",
              "       [0.78632479, 0.09620931],\n",
              "       [0.79487179, 0.35290482],\n",
              "       [0.8034188 , 0.49175937],\n",
              "       [0.81196581, 0.62093119],\n",
              "       [0.82051282, 0.51689328],\n",
              "       [0.82905983, 0.98125258],\n",
              "       [0.83760684, 0.09620931],\n",
              "       [0.84615385, 0.31829419],\n",
              "       [0.85470085, 0.36155748],\n",
              "       [0.86324786, 0.11887103],\n",
              "       [0.87179487, 0.10774619],\n",
              "       [0.88034188, 0.31211372],\n",
              "       [0.88888889, 0.76926246],\n",
              "       [0.8974359 , 0.89307787],\n",
              "       [0.90598291, 1.        ],\n",
              "       [0.91452991, 0.62978986],\n",
              "       [0.92307692, 0.58755665],\n",
              "       [0.93162393, 0.48269468],\n",
              "       [0.94017094, 0.72084878],\n",
              "       [0.94871795, 0.41161928],\n",
              "       [0.95726496, 0.57128142],\n",
              "       [0.96581197, 0.53049032],\n",
              "       [0.97435897, 0.51833539],\n",
              "       [0.98290598, 0.27173465],\n",
              "       [0.99145299, 0.34651834],\n",
              "       [1.        , 0.78759786]])"
            ]
          },
          "metadata": {
            "tags": []
          },
          "execution_count": 66
        }
      ]
    },
    {
      "cell_type": "code",
      "metadata": {
        "id": "pFWuAG6lHVKc",
        "colab": {
          "base_uri": "https://localhost:8080/"
        },
        "outputId": "2e755013-e99a-42b7-ab2c-c45d37c8c744"
      },
      "source": [
        "from sklearn import model_selection,neighbors\n",
        "from sklearn.model_selection import train_test_split\n",
        "xSep_train,xSep_test,ySep_train,ySep_test=train_test_split(x,y,test_size=0.2)\n",
        "xSep_train[:20]"
      ],
      "execution_count": null,
      "outputs": [
        {
          "output_type": "execute_result",
          "data": {
            "text/plain": [
              "array([[0.83760684, 0.09620931],\n",
              "       [0.47008547, 0.28244747],\n",
              "       [0.88888889, 0.76926246],\n",
              "       [0.57264957, 0.58529048],\n",
              "       [0.67521368, 0.20230738],\n",
              "       [0.33333333, 0.05541821],\n",
              "       [0.85470085, 0.36155748],\n",
              "       [0.2991453 , 0.50556242],\n",
              "       [0.96581197, 0.53049032],\n",
              "       [0.52136752, 0.72847136],\n",
              "       [0.15384615, 0.4421096 ],\n",
              "       [0.21367521, 0.57972806],\n",
              "       [0.63247863, 0.8578492 ],\n",
              "       [0.73504274, 0.23836012],\n",
              "       [0.38461538, 0.32571075],\n",
              "       [0.42735043, 0.56139267],\n",
              "       [0.35042735, 0.12051916],\n",
              "       [0.45299145, 0.3302431 ],\n",
              "       [0.25641026, 0.25113309],\n",
              "       [0.14529915, 0.11351463]])"
            ]
          },
          "metadata": {
            "tags": []
          },
          "execution_count": 67
        }
      ]
    },
    {
      "cell_type": "code",
      "metadata": {
        "id": "slDBcuTaHkHg",
        "colab": {
          "base_uri": "https://localhost:8080/"
        },
        "outputId": "fb15a084-cce0-46e7-9250-b5b61d2b373c"
      },
      "source": [
        "clf9=neighbors.KNeighborsClassifier()\n",
        "clf9.fit(xSep_train,ySep_train)\n",
        "print(\"Predicted Values for the Floods:\")\n",
        "ySep_predict=clf9.predict(xSep_test)\n",
        "print(ySep_predict,len(ySep_predict))"
      ],
      "execution_count": null,
      "outputs": [
        {
          "output_type": "stream",
          "text": [
            "Predicted Values for the Floods:\n",
            "[0 1 1 0 1 0 1 0 0 0 0 0 0 0 0 0 1 1 0 1 1 1 1 1] 24\n"
          ],
          "name": "stdout"
        }
      ]
    },
    {
      "cell_type": "code",
      "metadata": {
        "id": "N3Q2Q3jLH0-a",
        "colab": {
          "base_uri": "https://localhost:8080/",
          "height": 264
        },
        "outputId": "6b3b0b5e-529e-4059-8c64-186d39a484be"
      },
      "source": [
        "plt.plot(ySep_predict)\n",
        "plt.plot(ySep_test)\n",
        "plt.grid(\"on\")\n",
        "plt.show()"
      ],
      "execution_count": null,
      "outputs": [
        {
          "output_type": "display_data",
          "data": {
            "image/png": "[encoded data removed]",
            "text/plain": [
              "<Figure size 432x288 with 1 Axes>"
            ]
          },
          "metadata": {
            "tags": [],
            "needs_background": "light"
          }
        }
      ]
    },
    {
      "cell_type": "code",
      "metadata": {
        "id": "8hsCDtpBH9I2",
        "colab": {
          "base_uri": "https://localhost:8080/"
        },
        "outputId": "f736bf2f-6036-47e4-e72c-6887276f2abd"
      },
      "source": [
        "from sklearn.metrics import accuracy_score\n",
        "print(\"\\nAccuracy Score:%f\"%(accuracy_score(ySep_test,ySep_predict)*100))"
      ],
      "execution_count": null,
      "outputs": [
        {
          "output_type": "stream",
          "text": [
            "\n",
            "Accuracy Score:95.833333\n"
          ],
          "name": "stdout"
        }
      ]
    },
    {
      "cell_type": "code",
      "metadata": {
        "id": "BjpdfITmINlZ",
        "colab": {
          "base_uri": "https://localhost:8080/",
          "height": 406
        },
        "outputId": "b91a184d-9159-401f-f1a5-369ef200e058"
      },
      "source": [
        "oct=data.iloc[:,[1,11]]\n",
        "oct['res']=0\n",
        "for i in range(len(oct)):\n",
        "  if oct['OCT'][i]>263:\n",
        "    oct['res'][i]=1\n",
        "oct"
      ],
      "execution_count": null,
      "outputs": [
        {
          "output_type": "execute_result",
          "data": {
            "text/html": [
              "<div>\n",
              "<style scoped>\n",
              "    .dataframe tbody tr th:only-of-type {\n",
              "        vertical-align: middle;\n",
              "    }\n",
              "\n",
              "    .dataframe tbody tr th {\n",
              "        vertical-align: top;\n",
              "    }\n",
              "\n",
              "    .dataframe thead th {\n",
              "        text-align: right;\n",
              "    }\n",
              "</style>\n",
              "<table border=\"1\" class=\"dataframe\">\n",
              "  <thead>\n",
              "    <tr style=\"text-align: right;\">\n",
              "      <th></th>\n",
              "      <th>YEAR</th>\n",
              "      <th>OCT</th>\n",
              "      <th>res</th>\n",
              "    </tr>\n",
              "  </thead>\n",
              "  <tbody>\n",
              "    <tr>\n",
              "      <th>0</th>\n",
              "      <td>1901</td>\n",
              "      <td>266.9</td>\n",
              "      <td>1</td>\n",
              "    </tr>\n",
              "    <tr>\n",
              "      <th>1</th>\n",
              "      <td>1902</td>\n",
              "      <td>358.4</td>\n",
              "      <td>1</td>\n",
              "    </tr>\n",
              "    <tr>\n",
              "      <th>2</th>\n",
              "      <td>1903</td>\n",
              "      <td>354.1</td>\n",
              "      <td>1</td>\n",
              "    </tr>\n",
              "    <tr>\n",
              "      <th>3</th>\n",
              "      <td>1904</td>\n",
              "      <td>328.1</td>\n",
              "      <td>1</td>\n",
              "    </tr>\n",
              "    <tr>\n",
              "      <th>4</th>\n",
              "      <td>1905</td>\n",
              "      <td>383.5</td>\n",
              "      <td>1</td>\n",
              "    </tr>\n",
              "    <tr>\n",
              "      <th>...</th>\n",
              "      <td>...</td>\n",
              "      <td>...</td>\n",
              "      <td>...</td>\n",
              "    </tr>\n",
              "    <tr>\n",
              "      <th>113</th>\n",
              "      <td>2014</td>\n",
              "      <td>355.5</td>\n",
              "      <td>1</td>\n",
              "    </tr>\n",
              "    <tr>\n",
              "      <th>114</th>\n",
              "      <td>2015</td>\n",
              "      <td>308.1</td>\n",
              "      <td>1</td>\n",
              "    </tr>\n",
              "    <tr>\n",
              "      <th>115</th>\n",
              "      <td>2016</td>\n",
              "      <td>225.9</td>\n",
              "      <td>0</td>\n",
              "    </tr>\n",
              "    <tr>\n",
              "      <th>116</th>\n",
              "      <td>2017</td>\n",
              "      <td>192.4</td>\n",
              "      <td>0</td>\n",
              "    </tr>\n",
              "    <tr>\n",
              "      <th>117</th>\n",
              "      <td>2018</td>\n",
              "      <td>356.1</td>\n",
              "      <td>1</td>\n",
              "    </tr>\n",
              "  </tbody>\n",
              "</table>\n",
              "<p>118 rows × 3 columns</p>\n",
              "</div>"
            ],
            "text/plain": [
              "     YEAR    OCT  res\n",
              "0    1901  266.9    1\n",
              "1    1902  358.4    1\n",
              "2    1903  354.1    1\n",
              "3    1904  328.1    1\n",
              "4    1905  383.5    1\n",
              "..    ...    ...  ...\n",
              "113  2014  355.5    1\n",
              "114  2015  308.1    1\n",
              "115  2016  225.9    0\n",
              "116  2017  192.4    0\n",
              "117  2018  356.1    1\n",
              "\n",
              "[118 rows x 3 columns]"
            ]
          },
          "metadata": {
            "tags": []
          },
          "execution_count": 71
        }
      ]
    },
    {
      "cell_type": "code",
      "metadata": {
        "id": "Z9A0dgV9I3cS",
        "colab": {
          "base_uri": "https://localhost:8080/"
        },
        "outputId": "c7d84ded-13ad-4e57-c7bb-a021262accce"
      },
      "source": [
        "x=oct.iloc[:,0:2]\n",
        "y=oct.iloc[:,-1]\n",
        "y=np.asarray(y)\n",
        "print(x,y)"
      ],
      "execution_count": null,
      "outputs": [
        {
          "output_type": "stream",
          "text": [
            "     YEAR    OCT\n",
            "0    1901  266.9\n",
            "1    1902  358.4\n",
            "2    1903  354.1\n",
            "3    1904  328.1\n",
            "4    1905  383.5\n",
            "..    ...    ...\n",
            "113  2014  355.5\n",
            "114  2015  308.1\n",
            "115  2016  225.9\n",
            "116  2017  192.4\n",
            "117  2018  356.1\n",
            "\n",
            "[118 rows x 2 columns] [1 1 1 1 1 0 1 0 0 1 1 1 1 1 0 1 1 0 0 1 1 1 0 0 1 0 0 1 1 1 0 1 1 1 1 0 1\n",
            " 0 1 0 0 1 1 1 0 1 0 0 0 0 0 1 1 1 1 1 1 0 0 0 1 1 1 1 0 1 0 0 0 1 0 1 0 0\n",
            " 1 0 1 0 0 1 1 0 0 1 0 0 1 0 1 1 1 1 1 1 0 1 1 1 1 0 1 1 1 1 0 1 1 1 0 1 0\n",
            " 0 0 1 1 0 0 1]\n"
          ],
          "name": "stdout"
        }
      ]
    },
    {
      "cell_type": "code",
      "metadata": {
        "id": "q81GCMO2JZ-e",
        "colab": {
          "base_uri": "https://localhost:8080/"
        },
        "outputId": "944d8263-f759-41cd-e531-4a8a6d10fa1a"
      },
      "source": [
        "from sklearn import preprocessing\n",
        "minmax = preprocessing.MinMaxScaler(feature_range=(0,1))\n",
        "x = minmax.fit(x).transform(x)\n",
        "x"
      ],
      "execution_count": null,
      "outputs": [
        {
          "output_type": "execute_result",
          "data": {
            "text/plain": [
              "array([[0.        , 0.39727673],\n",
              "       [0.00854701, 0.5804966 ],\n",
              "       [0.01709402, 0.57188626],\n",
              "       [0.02564103, 0.51982379],\n",
              "       [0.03418803, 0.63075691],\n",
              "       [0.04273504, 0.36684021],\n",
              "       [0.05128205, 0.48297958],\n",
              "       [0.05982906, 0.37004405],\n",
              "       [0.06837607, 0.28754505],\n",
              "       [0.07692308, 0.57689227],\n",
              "       [0.08547009, 0.46816179],\n",
              "       [0.09401709, 0.80296356],\n",
              "       [0.1025641 , 0.70885062],\n",
              "       [0.11111111, 0.61253504],\n",
              "       [0.11965812, 0.25650781],\n",
              "       [0.12820513, 0.50500601],\n",
              "       [0.13675214, 0.39167   ],\n",
              "       [0.14529915, 0.32979575],\n",
              "       [0.15384615, 0.3618342 ],\n",
              "       [0.16239316, 0.56387665],\n",
              "       [0.17094017, 0.46836203],\n",
              "       [0.17948718, 0.39607529],\n",
              "       [0.18803419, 0.26952343],\n",
              "       [0.1965812 , 0.21625951],\n",
              "       [0.20512821, 0.45434521],\n",
              "       [0.21367521, 0.29675611],\n",
              "       [0.22222222, 0.13476171],\n",
              "       [0.23076923, 0.50660793],\n",
              "       [0.23931624, 0.56447737],\n",
              "       [0.24786325, 0.73167801],\n",
              "       [0.25641026, 0.16179415],\n",
              "       [0.26495726, 0.95054065],\n",
              "       [0.27350427, 0.65778935],\n",
              "       [0.28205128, 0.53544253],\n",
              "       [0.29059829, 0.67140569],\n",
              "       [0.2991453 , 0.32679215],\n",
              "       [0.30769231, 0.66760112],\n",
              "       [0.31623932, 0.31077293],\n",
              "       [0.32478632, 0.5432519 ],\n",
              "       [0.33333333, 0.37885463],\n",
              "       [0.34188034, 0.30656788],\n",
              "       [0.35042735, 0.61253504],\n",
              "       [0.35897436, 0.71826191],\n",
              "       [0.36752137, 0.44152984],\n",
              "       [0.37606838, 0.37104525],\n",
              "       [0.38461538, 0.39567481],\n",
              "       [0.39316239, 0.23067681],\n",
              "       [0.4017094 , 0.23107729],\n",
              "       [0.41025641, 0.3215859 ],\n",
              "       [0.41880342, 0.36423708],\n",
              "       [0.42735043, 0.36463757],\n",
              "       [0.43589744, 0.54285142],\n",
              "       [0.44444444, 0.68482179],\n",
              "       [0.45299145, 0.46976372],\n",
              "       [0.46153846, 0.62014417],\n",
              "       [0.47008547, 0.57028434],\n",
              "       [0.47863248, 0.42370845],\n",
              "       [0.48717949, 0.24529435],\n",
              "       [0.4957265 , 0.26411694],\n",
              "       [0.5042735 , 0.3752503 ],\n",
              "       [0.51282051, 0.41189427],\n",
              "       [0.52136752, 0.81517821],\n",
              "       [0.52991453, 0.42871446],\n",
              "       [0.53846154, 0.51501802],\n",
              "       [0.54700855, 0.23067681],\n",
              "       [0.55555556, 0.64837805],\n",
              "       [0.56410256, 0.20865038],\n",
              "       [0.57264957, 0.22106528],\n",
              "       [0.58119658, 0.33460152],\n",
              "       [0.58974359, 0.42010412],\n",
              "       [0.5982906 , 0.3051662 ],\n",
              "       [0.60683761, 0.56668002],\n",
              "       [0.61538462, 0.38506207],\n",
              "       [0.62393162, 0.14737685],\n",
              "       [0.63247863, 0.60152183],\n",
              "       [0.64102564, 0.30596716],\n",
              "       [0.64957265, 0.73788546],\n",
              "       [0.65811966, 0.2052463 ],\n",
              "       [0.66666667, 0.19082899],\n",
              "       [0.67521368, 0.42811374],\n",
              "       [0.68376068, 0.39347217],\n",
              "       [0.69230769, 0.19203044],\n",
              "       [0.7008547 , 0.13556268],\n",
              "       [0.70940171, 0.43552263],\n",
              "       [0.71794872, 0.27132559],\n",
              "       [0.72649573, 0.19423308],\n",
              "       [0.73504274, 0.40768923],\n",
              "       [0.74358974, 0.        ],\n",
              "       [0.75213675, 0.47957549],\n",
              "       [0.76068376, 0.51001201],\n",
              "       [0.76923077, 0.47917501],\n",
              "       [0.77777778, 0.44493392],\n",
              "       [0.78632479, 0.72627153],\n",
              "       [0.79487179, 0.7206648 ],\n",
              "       [0.8034188 , 0.25991189],\n",
              "       [0.81196581, 0.45174209],\n",
              "       [0.82051282, 0.4413296 ],\n",
              "       [0.82905983, 0.75350421],\n",
              "       [0.83760684, 1.        ],\n",
              "       [0.84615385, 0.2917501 ],\n",
              "       [0.85470085, 0.50280336],\n",
              "       [0.86324786, 0.88746496],\n",
              "       [0.87179487, 0.67781338],\n",
              "       [0.88034188, 0.50480577],\n",
              "       [0.88888889, 0.34361233],\n",
              "       [0.8974359 , 0.61653985],\n",
              "       [0.90598291, 0.57809371],\n",
              "       [0.91452991, 0.55046055],\n",
              "       [0.92307692, 0.27372847],\n",
              "       [0.93162393, 0.74669604],\n",
              "       [0.94017094, 0.31778134],\n",
              "       [0.94871795, 0.23828594],\n",
              "       [0.95726496, 0.38325991],\n",
              "       [0.96581197, 0.57468963],\n",
              "       [0.97435897, 0.47977573],\n",
              "       [0.98290598, 0.31517821],\n",
              "       [0.99145299, 0.24809772],\n",
              "       [1.        , 0.57589107]])"
            ]
          },
          "metadata": {
            "tags": []
          },
          "execution_count": 73
        }
      ]
    },
    {
      "cell_type": "code",
      "metadata": {
        "id": "MyA-BElcJiO9",
        "colab": {
          "base_uri": "https://localhost:8080/"
        },
        "outputId": "98213097-34a1-4763-cba2-69bb0ed8c07c"
      },
      "source": [
        "from sklearn import model_selection,neighbors\n",
        "from sklearn.model_selection import train_test_split\n",
        "xOct_train,xOct_test,yOct_train,yOct_test=train_test_split(x,y,test_size=0.2)\n",
        "xOct_train[:20]"
      ],
      "execution_count": null,
      "outputs": [
        {
          "output_type": "execute_result",
          "data": {
            "text/plain": [
              "array([[0.55555556, 0.64837805],\n",
              "       [0.17948718, 0.39607529],\n",
              "       [0.74358974, 0.        ],\n",
              "       [0.64102564, 0.30596716],\n",
              "       [0.94871795, 0.23828594],\n",
              "       [0.93162393, 0.74669604],\n",
              "       [0.75213675, 0.47957549],\n",
              "       [0.30769231, 0.66760112],\n",
              "       [0.52136752, 0.81517821],\n",
              "       [0.29059829, 0.67140569],\n",
              "       [0.79487179, 0.7206648 ],\n",
              "       [0.11965812, 0.25650781],\n",
              "       [0.21367521, 0.29675611],\n",
              "       [0.95726496, 0.38325991],\n",
              "       [0.46153846, 0.62014417],\n",
              "       [0.82051282, 0.4413296 ],\n",
              "       [0.62393162, 0.14737685],\n",
              "       [0.        , 0.39727673],\n",
              "       [0.05128205, 0.48297958],\n",
              "       [0.45299145, 0.46976372]])"
            ]
          },
          "metadata": {
            "tags": []
          },
          "execution_count": 74
        }
      ]
    },
    {
      "cell_type": "code",
      "metadata": {
        "id": "b5yTmGm1Jty9",
        "colab": {
          "base_uri": "https://localhost:8080/"
        },
        "outputId": "87d40fa3-22d9-4165-c059-19fef17177ab"
      },
      "source": [
        "clf10=neighbors.KNeighborsClassifier()\n",
        "clf10.fit(xOct_train,yOct_train)\n",
        "print(\"Predicted Values for the Floods:\")\n",
        "yOct_predict=clf10.predict(xOct_test)\n",
        "print(yOct_predict,len(yOct_predict))"
      ],
      "execution_count": null,
      "outputs": [
        {
          "output_type": "stream",
          "text": [
            "Predicted Values for the Floods:\n",
            "[1 0 1 0 1 0 1 0 1 0 0 1 0 0 1 1 1 1 1 0 1 0 1 1] 24\n"
          ],
          "name": "stdout"
        }
      ]
    },
    {
      "cell_type": "code",
      "metadata": {
        "id": "oIjhqWxiKF2S",
        "colab": {
          "base_uri": "https://localhost:8080/",
          "height": 264
        },
        "outputId": "c304630b-ebd8-4002-cea0-1f815becdd11"
      },
      "source": [
        "plt.plot(yOct_predict)\n",
        "plt.plot(yOct_test)\n",
        "plt.grid(\"on\")\n",
        "plt.show()"
      ],
      "execution_count": null,
      "outputs": [
        {
          "output_type": "display_data",
          "data": {
            "image/png": "[encoded data removed]",
            "text/plain": [
              "<Figure size 432x288 with 1 Axes>"
            ]
          },
          "metadata": {
            "tags": [],
            "needs_background": "light"
          }
        }
      ]
    },
    {
      "cell_type": "code",
      "metadata": {
        "id": "XG_XhUJGKWIR",
        "colab": {
          "base_uri": "https://localhost:8080/"
        },
        "outputId": "2ee2db31-1e33-4cd0-c341-d56f4b669be0"
      },
      "source": [
        "from sklearn.metrics import accuracy_score\n",
        "print(\"\\nAccuracy Score:%f\"%(accuracy_score(yOct_test,yOct_predict)*100))"
      ],
      "execution_count": null,
      "outputs": [
        {
          "output_type": "stream",
          "text": [
            "\n",
            "Accuracy Score:87.500000\n"
          ],
          "name": "stdout"
        }
      ]
    },
    {
      "cell_type": "code",
      "metadata": {
        "id": "jZjVelCaMG3X",
        "colab": {
          "base_uri": "https://localhost:8080/",
          "height": 406
        },
        "outputId": "23552aec-dc6e-4e47-fa1f-da848738f736"
      },
      "source": [
        "nov=data.iloc[:,[1,12]]\n",
        "nov['res']=0\n",
        "for i in range(len(nov)):\n",
        "  if nov['NOV'][i]>263:\n",
        "    nov['res'][i]=1\n",
        "nov"
      ],
      "execution_count": null,
      "outputs": [
        {
          "output_type": "execute_result",
          "data": {
            "text/html": [
              "<div>\n",
              "<style scoped>\n",
              "    .dataframe tbody tr th:only-of-type {\n",
              "        vertical-align: middle;\n",
              "    }\n",
              "\n",
              "    .dataframe tbody tr th {\n",
              "        vertical-align: top;\n",
              "    }\n",
              "\n",
              "    .dataframe thead th {\n",
              "        text-align: right;\n",
              "    }\n",
              "</style>\n",
              "<table border=\"1\" class=\"dataframe\">\n",
              "  <thead>\n",
              "    <tr style=\"text-align: right;\">\n",
              "      <th></th>\n",
              "      <th>YEAR</th>\n",
              "      <th>NOV</th>\n",
              "      <th>res</th>\n",
              "    </tr>\n",
              "  </thead>\n",
              "  <tbody>\n",
              "    <tr>\n",
              "      <th>0</th>\n",
              "      <td>1901</td>\n",
              "      <td>350.8</td>\n",
              "      <td>1</td>\n",
              "    </tr>\n",
              "    <tr>\n",
              "      <th>1</th>\n",
              "      <td>1902</td>\n",
              "      <td>158.3</td>\n",
              "      <td>0</td>\n",
              "    </tr>\n",
              "    <tr>\n",
              "      <th>2</th>\n",
              "      <td>1903</td>\n",
              "      <td>157.0</td>\n",
              "      <td>0</td>\n",
              "    </tr>\n",
              "    <tr>\n",
              "      <th>3</th>\n",
              "      <td>1904</td>\n",
              "      <td>33.9</td>\n",
              "      <td>0</td>\n",
              "    </tr>\n",
              "    <tr>\n",
              "      <th>4</th>\n",
              "      <td>1905</td>\n",
              "      <td>74.4</td>\n",
              "      <td>0</td>\n",
              "    </tr>\n",
              "    <tr>\n",
              "      <th>...</th>\n",
              "      <td>...</td>\n",
              "      <td>...</td>\n",
              "      <td>...</td>\n",
              "    </tr>\n",
              "    <tr>\n",
              "      <th>113</th>\n",
              "      <td>2014</td>\n",
              "      <td>99.5</td>\n",
              "      <td>0</td>\n",
              "    </tr>\n",
              "    <tr>\n",
              "      <th>114</th>\n",
              "      <td>2015</td>\n",
              "      <td>223.6</td>\n",
              "      <td>0</td>\n",
              "    </tr>\n",
              "    <tr>\n",
              "      <th>115</th>\n",
              "      <td>2016</td>\n",
              "      <td>125.4</td>\n",
              "      <td>0</td>\n",
              "    </tr>\n",
              "    <tr>\n",
              "      <th>116</th>\n",
              "      <td>2017</td>\n",
              "      <td>92.5</td>\n",
              "      <td>0</td>\n",
              "    </tr>\n",
              "    <tr>\n",
              "      <th>117</th>\n",
              "      <td>2018</td>\n",
              "      <td>125.4</td>\n",
              "      <td>0</td>\n",
              "    </tr>\n",
              "  </tbody>\n",
              "</table>\n",
              "<p>118 rows × 3 columns</p>\n",
              "</div>"
            ],
            "text/plain": [
              "     YEAR    NOV  res\n",
              "0    1901  350.8    1\n",
              "1    1902  158.3    0\n",
              "2    1903  157.0    0\n",
              "3    1904   33.9    0\n",
              "4    1905   74.4    0\n",
              "..    ...    ...  ...\n",
              "113  2014   99.5    0\n",
              "114  2015  223.6    0\n",
              "115  2016  125.4    0\n",
              "116  2017   92.5    0\n",
              "117  2018  125.4    0\n",
              "\n",
              "[118 rows x 3 columns]"
            ]
          },
          "metadata": {
            "tags": []
          },
          "execution_count": 78
        }
      ]
    },
    {
      "cell_type": "code",
      "metadata": {
        "id": "3Bg3obYVNOg-",
        "colab": {
          "base_uri": "https://localhost:8080/"
        },
        "outputId": "c817266b-7ea2-4b62-a5cd-616ead9e420a"
      },
      "source": [
        "x=nov.iloc[:,0:2]\n",
        "y=nov.iloc[:,-1]\n",
        "y=np.asarray(y)\n",
        "print(x,y)"
      ],
      "execution_count": null,
      "outputs": [
        {
          "output_type": "stream",
          "text": [
            "     YEAR    NOV\n",
            "0    1901  350.8\n",
            "1    1902  158.3\n",
            "2    1903  157.0\n",
            "3    1904   33.9\n",
            "4    1905   74.4\n",
            "..    ...    ...\n",
            "113  2014   99.5\n",
            "114  2015  223.6\n",
            "115  2016  125.4\n",
            "116  2017   92.5\n",
            "117  2018  125.4\n",
            "\n",
            "[118 rows x 2 columns] [1 0 0 0 0 0 0 0 0 1 0 0 0 0 1 0 0 1 1 1 0 1 0 0 0 0 0 0 0 0 0 0 0 0 0 0 0\n",
            " 0 1 1 0 0 0 0 0 1 0 0 0 0 0 0 0 0 0 0 0 0 0 1 0 0 0 0 0 0 0 0 0 0 0 0 0 0\n",
            " 0 1 1 1 0 0 0 0 0 0 0 0 0 0 0 0 0 1 0 0 0 0 1 0 0 0 0 0 0 0 0 0 0 0 1 1 0\n",
            " 0 0 0 0 0 0 0]\n"
          ],
          "name": "stdout"
        }
      ]
    },
    {
      "cell_type": "code",
      "metadata": {
        "id": "lB1RJbroNn56",
        "colab": {
          "base_uri": "https://localhost:8080/"
        },
        "outputId": "47111446-089a-4cfa-e3bb-c7188d07180d"
      },
      "source": [
        "from sklearn import preprocessing\n",
        "minmax = preprocessing.MinMaxScaler(feature_range=(0,1))\n",
        "x = minmax.fit(x).transform(x)\n",
        "x"
      ],
      "execution_count": null,
      "outputs": [
        {
          "output_type": "execute_result",
          "data": {
            "text/plain": [
              "array([[0.00000000e+00, 9.55701886e-01],\n",
              "       [8.54700855e-03, 3.79527088e-01],\n",
              "       [1.70940171e-02, 3.75636037e-01],\n",
              "       [2.56410256e-02, 7.18347800e-03],\n",
              "       [3.41880342e-02, 1.28404669e-01],\n",
              "       [4.27350427e-02, 3.93894044e-01],\n",
              "       [5.12820513e-02, 5.61508530e-01],\n",
              "       [5.98290598e-02, 4.90870997e-02],\n",
              "       [6.83760684e-02, 4.17838970e-01],\n",
              "       [7.69230769e-02, 7.44986531e-01],\n",
              "       [8.54700855e-02, 3.41813828e-01],\n",
              "       [9.40170940e-02, 3.20862017e-01],\n",
              "       [1.02564103e-01, 2.34660281e-01],\n",
              "       [1.11111111e-01, 2.07722239e-01],\n",
              "       [1.19658120e-01, 8.11134391e-01],\n",
              "       [1.28205128e-01, 3.07692308e-01],\n",
              "       [1.36752137e-01, 6.73151751e-01],\n",
              "       [1.45299145e-01, 7.89883268e-01],\n",
              "       [1.53846154e-01, 7.44088596e-01],\n",
              "       [1.62393162e-01, 8.10535768e-01],\n",
              "       [1.70940171e-01, 3.13379228e-01],\n",
              "       [1.79487179e-01, 7.84794972e-01],\n",
              "       [1.88034188e-01, 1.56839270e-01],\n",
              "       [1.96581197e-01, 3.93295421e-01],\n",
              "       [2.05128205e-01, 5.75276863e-01],\n",
              "       [2.13675214e-01, 1.71505537e-01],\n",
              "       [2.22222222e-01, 3.17569590e-01],\n",
              "       [2.30769231e-01, 3.70248429e-01],\n",
              "       [2.39316239e-01, 3.79227776e-01],\n",
              "       [2.47863248e-01, 5.25291829e-01],\n",
              "       [2.56410256e-01, 3.97485783e-01],\n",
              "       [2.64957265e-01, 5.73780305e-01],\n",
              "       [2.73504274e-01, 2.83148758e-01],\n",
              "       [2.82051282e-01, 1.85273870e-01],\n",
              "       [2.90598291e-01, 3.63663574e-01],\n",
              "       [2.99145299e-01, 5.37563604e-01],\n",
              "       [3.07692308e-01, 2.67883867e-01],\n",
              "       [3.16239316e-01, 1.13738402e-01],\n",
              "       [3.24786325e-01, 7.97964681e-01],\n",
              "       [3.33333333e-01, 7.66237653e-01],\n",
              "       [3.41880342e-01, 5.65698893e-01],\n",
              "       [3.50427350e-01, 1.59233762e-01],\n",
              "       [3.58974359e-01, 5.74378928e-01],\n",
              "       [3.67521368e-01, 6.36336426e-01],\n",
              "       [3.76068376e-01, 6.82430410e-01],\n",
              "       [3.84615385e-01, 7.22837474e-01],\n",
              "       [3.93162393e-01, 2.69380425e-03],\n",
              "       [4.01709402e-01, 5.51032625e-01],\n",
              "       [4.10256410e-01, 1.20921880e-01],\n",
              "       [4.18803419e-01, 3.52289734e-01],\n",
              "       [4.27350427e-01, 5.92936247e-01],\n",
              "       [4.35897436e-01, 5.41753966e-02],\n",
              "       [4.44444444e-01, 9.18886561e-02],\n",
              "       [4.52991453e-01, 2.99311583e-04],\n",
              "       [4.61538462e-01, 4.38790781e-01],\n",
              "       [4.70085470e-01, 4.39090093e-01],\n",
              "       [4.78632479e-01, 4.81891649e-01],\n",
              "       [4.87179487e-01, 5.22598025e-01],\n",
              "       [4.95726496e-01, 3.60371146e-01],\n",
              "       [5.04273504e-01, 9.77252320e-01],\n",
              "       [5.12820513e-01, 1.62825501e-01],\n",
              "       [5.21367521e-01, 0.00000000e+00],\n",
              "       [5.29914530e-01, 1.85273870e-01],\n",
              "       [5.38461538e-01, 4.79497157e-01],\n",
              "       [5.47008547e-01, 2.99910207e-01],\n",
              "       [5.55555556e-01, 6.40227477e-01],\n",
              "       [5.64102564e-01, 1.27207423e-01],\n",
              "       [5.72649573e-01, 2.63094882e-01],\n",
              "       [5.81196581e-01, 2.63094882e-01],\n",
              "       [5.89743590e-01, 1.46662676e-01],\n",
              "       [5.98290598e-01, 2.03531877e-02],\n",
              "       [6.06837607e-01, 3.26249626e-01],\n",
              "       [6.15384615e-01, 1.58635139e-01],\n",
              "       [6.23931624e-01, 8.82969171e-02],\n",
              "       [6.32478632e-01, 5.17210416e-01],\n",
              "       [6.41025641e-01, 7.63843161e-01],\n",
              "       [6.49572650e-01, 9.88326848e-01],\n",
              "       [6.58119658e-01, 1.00000000e+00],\n",
              "       [6.66666667e-01, 6.89015265e-01],\n",
              "       [6.75213675e-01, 3.91499551e-01],\n",
              "       [6.83760684e-01, 3.20562706e-01],\n",
              "       [6.92307692e-01, 2.87339120e-01],\n",
              "       [7.00854701e-01, 2.54414846e-01],\n",
              "       [7.09401709e-01, 1.08350793e-01],\n",
              "       [7.17948718e-01, 1.29901227e-01],\n",
              "       [7.26495726e-01, 4.88476504e-01],\n",
              "       [7.35042735e-01, 5.52229871e-01],\n",
              "       [7.43589744e-01, 1.06255612e-01],\n",
              "       [7.52136752e-01, 1.83777312e-01],\n",
              "       [7.60683761e-01, 3.81023646e-01],\n",
              "       [7.69230769e-01, 2.04729123e-01],\n",
              "       [7.77777778e-01, 7.66536965e-01],\n",
              "       [7.86324786e-01, 3.66058066e-01],\n",
              "       [7.94871795e-01, 2.57707273e-01],\n",
              "       [8.03418803e-01, 4.52259802e-01],\n",
              "       [8.11965812e-01, 1.74797965e-01],\n",
              "       [8.20512821e-01, 7.98862616e-01],\n",
              "       [8.29059829e-01, 3.09787489e-01],\n",
              "       [8.37606838e-01, 1.09548040e-01],\n",
              "       [8.46153846e-01, 1.39479198e-01],\n",
              "       [8.54700855e-01, 4.47470817e-01],\n",
              "       [8.63247863e-01, 3.17270278e-01],\n",
              "       [8.71794872e-01, 1.34390901e-01],\n",
              "       [8.80341880e-01, 2.66985932e-01],\n",
              "       [8.88888889e-01, 4.57348099e-01],\n",
              "       [8.97435897e-01, 3.92996109e-01],\n",
              "       [9.05982906e-01, 1.67315175e-01],\n",
              "       [9.14529915e-01, 7.15354684e-02],\n",
              "       [9.23076923e-01, 7.27027836e-01],\n",
              "       [9.31623932e-01, 9.08709967e-01],\n",
              "       [9.40170940e-01, 4.13648608e-01],\n",
              "       [9.48717949e-01, 2.43639629e-01],\n",
              "       [9.57264957e-01, 3.69350494e-01],\n",
              "       [9.65811966e-01, 2.03531877e-01],\n",
              "       [9.74358974e-01, 5.74977552e-01],\n",
              "       [9.82905983e-01, 2.81053577e-01],\n",
              "       [9.91452991e-01, 1.82580066e-01],\n",
              "       [1.00000000e+00, 2.81053577e-01]])"
            ]
          },
          "metadata": {
            "tags": []
          },
          "execution_count": 80
        }
      ]
    },
    {
      "cell_type": "code",
      "metadata": {
        "id": "Lg5S2SOCN2W7",
        "colab": {
          "base_uri": "https://localhost:8080/"
        },
        "outputId": "869787ed-0c2d-402f-dc26-0deeb4e4c5a8"
      },
      "source": [
        "from sklearn import model_selection,neighbors\n",
        "from sklearn.model_selection import train_test_split\n",
        "xNov_train,xNov_test,yNov_train,yNov_test=train_test_split(x,y,test_size=0.2)\n",
        "xNov_train[:20]"
      ],
      "execution_count": null,
      "outputs": [
        {
          "output_type": "execute_result",
          "data": {
            "text/plain": [
              "array([[0.23076923, 0.37024843],\n",
              "       [0.66666667, 0.68901526],\n",
              "       [0.96581197, 0.20353188],\n",
              "       [0.47008547, 0.43909009],\n",
              "       [0.83760684, 0.10954804],\n",
              "       [0.04273504, 0.39389404],\n",
              "       [0.48717949, 0.52259802],\n",
              "       [0.69230769, 0.28733912],\n",
              "       [0.61538462, 0.15863514],\n",
              "       [0.31623932, 0.1137384 ],\n",
              "       [0.88034188, 0.26698593],\n",
              "       [0.18803419, 0.15683927],\n",
              "       [0.35042735, 0.15923376],\n",
              "       [0.64102564, 0.76384316],\n",
              "       [0.56410256, 0.12720742],\n",
              "       [0.39316239, 0.0026938 ],\n",
              "       [0.37606838, 0.68243041],\n",
              "       [0.11965812, 0.81113439],\n",
              "       [0.58119658, 0.26309488],\n",
              "       [0.55555556, 0.64022748]])"
            ]
          },
          "metadata": {
            "tags": []
          },
          "execution_count": 81
        }
      ]
    },
    {
      "cell_type": "code",
      "metadata": {
        "id": "SJS_4JtXOEcI",
        "colab": {
          "base_uri": "https://localhost:8080/"
        },
        "outputId": "d70140e0-ba03-4e6c-8dd3-7c1f17f68f5c"
      },
      "source": [
        "clf11=neighbors.KNeighborsClassifier()\n",
        "clf11.fit(xNov_train,yNov_train)\n",
        "print(\"Predicted Values for the Floods:\")\n",
        "yNov_predict=clf11.predict(xNov_test)\n",
        "print(yNov_predict,len(yNov_predict))"
      ],
      "execution_count": null,
      "outputs": [
        {
          "output_type": "stream",
          "text": [
            "Predicted Values for the Floods:\n",
            "[0 0 1 0 1 0 0 0 1 0 0 0 0 0 0 0 0 0 1 0 0 1 0 0] 24\n"
          ],
          "name": "stdout"
        }
      ]
    },
    {
      "cell_type": "code",
      "metadata": {
        "id": "n6aIbtr6OdO0",
        "colab": {
          "base_uri": "https://localhost:8080/",
          "height": 264
        },
        "outputId": "b139c4a1-01b3-4344-a53c-1704fe2041f5"
      },
      "source": [
        "plt.plot(yNov_predict)\n",
        "plt.plot(yNov_test)\n",
        "plt.grid(\"on\")\n",
        "plt.show()"
      ],
      "execution_count": null,
      "outputs": [
        {
          "output_type": "display_data",
          "data": {
            "image/png": "[encoded data removed]",
            "text/plain": [
              "<Figure size 432x288 with 1 Axes>"
            ]
          },
          "metadata": {
            "tags": [],
            "needs_background": "light"
          }
        }
      ]
    },
    {
      "cell_type": "code",
      "metadata": {
        "id": "lbEvwDdzOkdk",
        "colab": {
          "base_uri": "https://localhost:8080/"
        },
        "outputId": "a908888e-a232-451e-ea9a-c260e84bd112"
      },
      "source": [
        "from sklearn.metrics import accuracy_score\n",
        "print(\"\\nAccuracy Score:%f\"%(accuracy_score(yNov_test,yNov_predict)*100))"
      ],
      "execution_count": null,
      "outputs": [
        {
          "output_type": "stream",
          "text": [
            "\n",
            "Accuracy Score:95.833333\n"
          ],
          "name": "stdout"
        }
      ]
    },
    {
      "cell_type": "code",
      "metadata": {
        "id": "7OQ6axDQOqA1",
        "colab": {
          "base_uri": "https://localhost:8080/",
          "height": 406
        },
        "outputId": "e662405f-cae9-4869-c281-fb24d6f0f9ae"
      },
      "source": [
        "dec=data.iloc[:,[1,13]]\n",
        "dec['res']=0\n",
        "for i in range(len(dec)):\n",
        "  if dec['DEC'][i]>263:\n",
        "    dec['res'][i]=1\n",
        "dec"
      ],
      "execution_count": null,
      "outputs": [
        {
          "output_type": "execute_result",
          "data": {
            "text/html": [
              "<div>\n",
              "<style scoped>\n",
              "    .dataframe tbody tr th:only-of-type {\n",
              "        vertical-align: middle;\n",
              "    }\n",
              "\n",
              "    .dataframe tbody tr th {\n",
              "        vertical-align: top;\n",
              "    }\n",
              "\n",
              "    .dataframe thead th {\n",
              "        text-align: right;\n",
              "    }\n",
              "</style>\n",
              "<table border=\"1\" class=\"dataframe\">\n",
              "  <thead>\n",
              "    <tr style=\"text-align: right;\">\n",
              "      <th></th>\n",
              "      <th>YEAR</th>\n",
              "      <th>DEC</th>\n",
              "      <th>res</th>\n",
              "    </tr>\n",
              "  </thead>\n",
              "  <tbody>\n",
              "    <tr>\n",
              "      <th>0</th>\n",
              "      <td>1901</td>\n",
              "      <td>48.4</td>\n",
              "      <td>0</td>\n",
              "    </tr>\n",
              "    <tr>\n",
              "      <th>1</th>\n",
              "      <td>1902</td>\n",
              "      <td>121.5</td>\n",
              "      <td>0</td>\n",
              "    </tr>\n",
              "    <tr>\n",
              "      <th>2</th>\n",
              "      <td>1903</td>\n",
              "      <td>59.0</td>\n",
              "      <td>0</td>\n",
              "    </tr>\n",
              "    <tr>\n",
              "      <th>3</th>\n",
              "      <td>1904</td>\n",
              "      <td>3.3</td>\n",
              "      <td>0</td>\n",
              "    </tr>\n",
              "    <tr>\n",
              "      <th>4</th>\n",
              "      <td>1905</td>\n",
              "      <td>0.2</td>\n",
              "      <td>0</td>\n",
              "    </tr>\n",
              "    <tr>\n",
              "      <th>...</th>\n",
              "      <td>...</td>\n",
              "      <td>...</td>\n",
              "      <td>...</td>\n",
              "    </tr>\n",
              "    <tr>\n",
              "      <th>113</th>\n",
              "      <td>2014</td>\n",
              "      <td>47.2</td>\n",
              "      <td>0</td>\n",
              "    </tr>\n",
              "    <tr>\n",
              "      <th>114</th>\n",
              "      <td>2015</td>\n",
              "      <td>79.4</td>\n",
              "      <td>0</td>\n",
              "    </tr>\n",
              "    <tr>\n",
              "      <th>115</th>\n",
              "      <td>2016</td>\n",
              "      <td>23.6</td>\n",
              "      <td>0</td>\n",
              "    </tr>\n",
              "    <tr>\n",
              "      <th>116</th>\n",
              "      <td>2017</td>\n",
              "      <td>38.1</td>\n",
              "      <td>0</td>\n",
              "    </tr>\n",
              "    <tr>\n",
              "      <th>117</th>\n",
              "      <td>2018</td>\n",
              "      <td>65.1</td>\n",
              "      <td>0</td>\n",
              "    </tr>\n",
              "  </tbody>\n",
              "</table>\n",
              "<p>118 rows × 3 columns</p>\n",
              "</div>"
            ],
            "text/plain": [
              "     YEAR    DEC  res\n",
              "0    1901   48.4    0\n",
              "1    1902  121.5    0\n",
              "2    1903   59.0    0\n",
              "3    1904    3.3    0\n",
              "4    1905    0.2    0\n",
              "..    ...    ...  ...\n",
              "113  2014   47.2    0\n",
              "114  2015   79.4    0\n",
              "115  2016   23.6    0\n",
              "116  2017   38.1    0\n",
              "117  2018   65.1    0\n",
              "\n",
              "[118 rows x 3 columns]"
            ]
          },
          "metadata": {
            "tags": []
          },
          "execution_count": 85
        }
      ]
    },
    {
      "cell_type": "code",
      "metadata": {
        "id": "ZFvKMAVaPG56",
        "colab": {
          "base_uri": "https://localhost:8080/"
        },
        "outputId": "918ad8b4-b8ae-4bb4-e945-58535d13f35a"
      },
      "source": [
        "x=dec.iloc[:,0:2]\n",
        "y=dec.iloc[:,-1]\n",
        "y=np.asarray(y)\n",
        "print(x,y)"
      ],
      "execution_count": null,
      "outputs": [
        {
          "output_type": "stream",
          "text": [
            "     YEAR    DEC\n",
            "0    1901   48.4\n",
            "1    1902  121.5\n",
            "2    1903   59.0\n",
            "3    1904    3.3\n",
            "4    1905    0.2\n",
            "..    ...    ...\n",
            "113  2014   47.2\n",
            "114  2015   79.4\n",
            "115  2016   23.6\n",
            "116  2017   38.1\n",
            "117  2018   65.1\n",
            "\n",
            "[118 rows x 2 columns] [0 0 0 0 0 0 0 0 0 0 0 0 0 0 0 0 0 0 0 0 0 0 0 0 0 0 0 0 0 0 0 0 0 0 0 0 0\n",
            " 0 0 0 0 0 0 0 0 0 0 0 0 0 0 0 0 0 0 0 0 0 0 0 0 0 0 0 0 0 0 0 0 0 0 0 0 0\n",
            " 0 0 0 0 0 0 0 0 0 0 0 0 0 0 0 0 0 0 0 0 0 0 0 0 0 0 0 0 0 0 0 0 0 0 0 0 0\n",
            " 0 0 0 0 0 0 0]\n"
          ],
          "name": "stdout"
        }
      ]
    },
    {
      "cell_type": "code",
      "metadata": {
        "id": "04dMKHdjPeyG",
        "colab": {
          "base_uri": "https://localhost:8080/"
        },
        "outputId": "2a6194c3-df8e-456c-91b1-09eab8cbd7a4"
      },
      "source": [
        "from sklearn import preprocessing\n",
        "minmax = preprocessing.MinMaxScaler(feature_range=(0,1))\n",
        "x = minmax.fit(x).transform(x)\n",
        "x"
      ],
      "execution_count": null,
      "outputs": [
        {
          "output_type": "execute_result",
          "data": {
            "text/plain": [
              "array([[0.00000000e+00, 2.38872404e-01],\n",
              "       [8.54700855e-03, 6.00395648e-01],\n",
              "       [1.70940171e-02, 2.91295747e-01],\n",
              "       [2.56410256e-02, 1.58259149e-02],\n",
              "       [3.41880342e-02, 4.94559842e-04],\n",
              "       [4.27350427e-02, 4.24826904e-01],\n",
              "       [5.12820513e-02, 2.60633037e-01],\n",
              "       [5.98290598e-02, 5.39070227e-02],\n",
              "       [6.83760684e-02, 1.59248269e-01],\n",
              "       [7.69230769e-02, 0.00000000e+00],\n",
              "       [8.54700855e-02, 4.32739862e-01],\n",
              "       [9.40170940e-02, 1.08308605e-01],\n",
              "       [1.02564103e-01, 2.26013848e-01],\n",
              "       [1.11111111e-01, 6.68150346e-01],\n",
              "       [1.19658120e-01, 7.31948566e-02],\n",
              "       [1.28205128e-01, 4.35212661e-02],\n",
              "       [1.36752137e-01, 2.05242334e-01],\n",
              "       [1.45299145e-01, 2.67062315e-01],\n",
              "       [1.53846154e-01, 2.61622156e-01],\n",
              "       [1.62393162e-01, 4.00593472e-02],\n",
              "       [1.70940171e-01, 7.76458952e-02],\n",
              "       [1.79487179e-01, 1.23639960e-01],\n",
              "       [1.88034188e-01, 2.05242334e-01],\n",
              "       [1.96581197e-01, 2.48763600e-01],\n",
              "       [2.05128205e-01, 4.88130564e-01],\n",
              "       [2.13675214e-01, 7.96241345e-02],\n",
              "       [2.22222222e-01, 3.31355094e-02],\n",
              "       [2.30769231e-01, 2.60138477e-01],\n",
              "       [2.39316239e-01, 1.94362018e-01],\n",
              "       [2.47863248e-01, 4.40652819e-01],\n",
              "       [2.56410256e-01, 5.26211672e-01],\n",
              "       [2.64957265e-01, 1.54302671e-01],\n",
              "       [2.73504274e-01, 2.08704253e-01],\n",
              "       [2.82051282e-01, 2.37388724e-02],\n",
              "       [2.90598291e-01, 1.52324431e-01],\n",
              "       [2.99145299e-01, 9.14935707e-02],\n",
              "       [3.07692308e-01, 9.39663699e-02],\n",
              "       [3.16239316e-01, 1.12759644e-01],\n",
              "       [3.24786325e-01, 4.99505440e-02],\n",
              "       [3.33333333e-01, 2.96735905e-01],\n",
              "       [3.41880342e-01, 4.17903066e-01],\n",
              "       [3.50427350e-01, 5.82591494e-01],\n",
              "       [3.58974359e-01, 1.19683482e-01],\n",
              "       [3.67521368e-01, 4.40652819e-01],\n",
              "       [3.76068376e-01, 8.85262117e-02],\n",
              "       [3.84615385e-01, 1.00000000e+00],\n",
              "       [3.93162393e-01, 2.31948566e-01],\n",
              "       [4.01709402e-01, 9.44609298e-02],\n",
              "       [4.10256410e-01, 8.40751731e-03],\n",
              "       [4.18803419e-01, 4.30267062e-02],\n",
              "       [4.27350427e-01, 1.14243323e-01],\n",
              "       [4.35897436e-01, 3.30365974e-01],\n",
              "       [4.44444444e-01, 2.47279921e-02],\n",
              "       [4.52991453e-01, 3.08605341e-01],\n",
              "       [4.61538462e-01, 9.74282888e-02],\n",
              "       [4.70085470e-01, 4.45103858e-02],\n",
              "       [4.78632479e-01, 1.42433234e-01],\n",
              "       [4.87179487e-01, 3.75865480e-02],\n",
              "       [4.95726496e-01, 1.67655786e-01],\n",
              "       [5.04273504e-01, 1.16716123e-01],\n",
              "       [5.12820513e-01, 8.60534125e-02],\n",
              "       [5.21367521e-01, 3.79821958e-01],\n",
              "       [5.29914530e-01, 2.38872404e-01],\n",
              "       [5.38461538e-01, 8.75370920e-02],\n",
              "       [5.47008547e-01, 7.68545994e-01],\n",
              "       [5.55555556e-01, 2.49258160e-01],\n",
              "       [5.64102564e-01, 1.53313551e-01],\n",
              "       [5.72649573e-01, 1.61226508e-01],\n",
              "       [5.81196581e-01, 3.27398615e-01],\n",
              "       [5.89743590e-01, 2.76953511e-02],\n",
              "       [5.98290598e-01, 3.07616222e-01],\n",
              "       [6.06837607e-01, 5.64787339e-01],\n",
              "       [6.15384615e-01, 2.65578635e-01],\n",
              "       [6.23931624e-01, 1.73095945e-02],\n",
              "       [6.32478632e-01, 9.79228487e-02],\n",
              "       [6.41025641e-01, 1.51829871e-01],\n",
              "       [6.49572650e-01, 3.26409496e-02],\n",
              "       [6.58119658e-01, 1.92383778e-01],\n",
              "       [6.66666667e-01, 1.14737883e-01],\n",
              "       [6.75213675e-01, 1.94856578e-01],\n",
              "       [6.83760684e-01, 2.13649852e-01],\n",
              "       [6.92307692e-01, 5.29179031e-02],\n",
              "       [7.00854701e-01, 3.41246291e-01],\n",
              "       [7.09401709e-01, 8.85262117e-02],\n",
              "       [7.17948718e-01, 2.17111771e-01],\n",
              "       [7.26495726e-01, 4.64886251e-02],\n",
              "       [7.35042735e-01, 6.47873393e-01],\n",
              "       [7.43589744e-01, 1.53313551e-01],\n",
              "       [7.52136752e-01, 2.72007913e-02],\n",
              "       [7.60683761e-01, 2.52225519e-02],\n",
              "       [7.69230769e-01, 1.08803165e-02],\n",
              "       [7.77777778e-01, 1.78041543e-02],\n",
              "       [7.86324786e-01, 2.27992087e-01],\n",
              "       [7.94871795e-01, 3.16518299e-02],\n",
              "       [8.03418803e-01, 0.00000000e+00],\n",
              "       [8.11965812e-01, 3.08605341e-01],\n",
              "       [8.20512821e-01, 4.36696340e-01],\n",
              "       [8.29059829e-01, 3.92185955e-01],\n",
              "       [8.37606838e-01, 2.37388724e-02],\n",
              "       [8.46153846e-01, 3.41246291e-01],\n",
              "       [8.54700855e-01, 4.94559842e-02],\n",
              "       [8.63247863e-01, 9.89119683e-03],\n",
              "       [8.71794872e-01, 4.74777448e-02],\n",
              "       [8.80341880e-01, 1.28585559e-02],\n",
              "       [8.88888889e-01, 2.78437191e-01],\n",
              "       [8.97435897e-01, 8.40751731e-03],\n",
              "       [9.05982906e-01, 5.83580613e-02],\n",
              "       [9.14529915e-01, 8.35806133e-02],\n",
              "       [9.23076923e-01, 2.18100890e-01],\n",
              "       [9.31623932e-01, 2.30959446e-01],\n",
              "       [9.40170940e-01, 2.44312562e-01],\n",
              "       [9.48717949e-01, 4.59940653e-02],\n",
              "       [9.57264957e-01, 8.35806133e-02],\n",
              "       [9.65811966e-01, 2.32937685e-01],\n",
              "       [9.74358974e-01, 3.92185955e-01],\n",
              "       [9.82905983e-01, 1.16221563e-01],\n",
              "       [9.91452991e-01, 1.87932740e-01],\n",
              "       [1.00000000e+00, 3.21463897e-01]])"
            ]
          },
          "metadata": {
            "tags": []
          },
          "execution_count": 87
        }
      ]
    },
    {
      "cell_type": "code",
      "metadata": {
        "id": "3Ky61QUgREh5",
        "colab": {
          "base_uri": "https://localhost:8080/"
        },
        "outputId": "25d32e2f-04f1-45f7-fd8b-00c847b3e807"
      },
      "source": [
        "from sklearn import model_selection,neighbors\n",
        "from sklearn.model_selection import train_test_split\n",
        "xDec_train,xDec_test,yDec_train,yDec_test=train_test_split(x,y,test_size=0.2)\n",
        "xDec_train[:20]"
      ],
      "execution_count": null,
      "outputs": [
        {
          "output_type": "execute_result",
          "data": {
            "text/plain": [
              "array([[0.30769231, 0.09396637],\n",
              "       [0.88888889, 0.27843719],\n",
              "       [0.37606838, 0.08852621],\n",
              "       [0.56410256, 0.15331355],\n",
              "       [0.33333333, 0.29673591],\n",
              "       [0.06837607, 0.15924827],\n",
              "       [0.78632479, 0.22799209],\n",
              "       [0.05982906, 0.05390702],\n",
              "       [1.        , 0.3214639 ],\n",
              "       [0.44444444, 0.02472799],\n",
              "       [0.77777778, 0.01780415],\n",
              "       [0.75213675, 0.02720079],\n",
              "       [0.87179487, 0.04747774],\n",
              "       [0.76923077, 0.01088032],\n",
              "       [0.17094017, 0.0776459 ],\n",
              "       [0.01709402, 0.29129575],\n",
              "       [0.31623932, 0.11275964],\n",
              "       [0.58119658, 0.32739862],\n",
              "       [0.43589744, 0.33036597],\n",
              "       [0.99145299, 0.18793274]])"
            ]
          },
          "metadata": {
            "tags": []
          },
          "execution_count": 88
        }
      ]
    },
    {
      "cell_type": "code",
      "metadata": {
        "id": "AvnC5KU1Pkt9",
        "colab": {
          "base_uri": "https://localhost:8080/"
        },
        "outputId": "3b4bcdb7-9033-4b62-ed16-279a65208f19"
      },
      "source": [
        "clf12=neighbors.KNeighborsClassifier()\n",
        "clf12.fit(xDec_train,yDec_train)\n",
        "print(\"Predicted Values for the Floods:\")\n",
        "yDec_predict=clf12.predict(xDec_test)\n",
        "print(yDec_predict,len(yDec_predict))"
      ],
      "execution_count": null,
      "outputs": [
        {
          "output_type": "stream",
          "text": [
            "Predicted Values for the Floods:\n",
            "[0 0 0 0 0 0 0 0 0 0 0 0 0 0 0 0 0 0 0 0 0 0 0 0] 24\n"
          ],
          "name": "stdout"
        }
      ]
    },
    {
      "cell_type": "code",
      "metadata": {
        "id": "Gr39lcImShWK",
        "colab": {
          "base_uri": "https://localhost:8080/",
          "height": 264
        },
        "outputId": "c948ee67-d02a-4c1d-cd1b-125d43c958cc"
      },
      "source": [
        "plt.plot(yDec_predict)\n",
        "plt.plot(yDec_test)\n",
        "plt.grid(\"on\")\n",
        "plt.show()"
      ],
      "execution_count": null,
      "outputs": [
        {
          "output_type": "display_data",
          "data": {
            "image/png": "[encoded data removed]",
            "text/plain": [
              "<Figure size 432x288 with 1 Axes>"
            ]
          },
          "metadata": {
            "tags": [],
            "needs_background": "light"
          }
        }
      ]
    },
    {
      "cell_type": "code",
      "metadata": {
        "id": "Tc2sc2mYSpRb",
        "colab": {
          "base_uri": "https://localhost:8080/"
        },
        "outputId": "cbbc650e-c391-45c1-9b28-086146c26635"
      },
      "source": [
        "from sklearn.metrics import accuracy_score\n",
        "print(\"\\nAccuracy Score:%f\"%(accuracy_score(yDec_test,yDec_predict)*100))"
      ],
      "execution_count": null,
      "outputs": [
        {
          "output_type": "stream",
          "text": [
            "\n",
            "Accuracy Score:100.000000\n"
          ],
          "name": "stdout"
        }
      ]
    },
    {
      "cell_type": "code",
      "metadata": {
        "id": "w4v14MrwSw-_",
        "colab": {
          "base_uri": "https://localhost:8080/"
        },
        "outputId": "cabae7fe-22ad-4e6f-e72e-4d38071f88bd"
      },
      "source": [
        "ds = [[0.39316239, 0.23194857]]\n",
        "clf10.predict(ds)"
      ],
      "execution_count": null,
      "outputs": [
        {
          "output_type": "execute_result",
          "data": {
            "text/plain": [
              "array([0])"
            ]
          },
          "metadata": {
            "tags": []
          },
          "execution_count": 92
        }
      ]
    },
    {
      "cell_type": "code",
      "metadata": {
        "id": "4ZNlYEfxe_Pg",
        "colab": {
          "base_uri": "https://localhost:8080/"
        },
        "outputId": "91043943-f44e-494a-aa93-2798b55ef81e"
      },
      "source": [
        "x=[[2001,350]]\n",
        "\n",
        "minmax = preprocessing.MinMaxScaler(feature_range=(0,1))\n",
        "x = minmax.fit(x).transform(x)\n",
        "x\n"
      ],
      "execution_count": null,
      "outputs": [
        {
          "output_type": "execute_result",
          "data": {
            "text/plain": [
              "array([[0., 0.]])"
            ]
          },
          "metadata": {
            "tags": []
          },
          "execution_count": 93
        }
      ]
    },
    {
      "cell_type": "code",
      "metadata": {
        "id": "A39BKj2nfYqe",
        "colab": {
          "base_uri": "https://localhost:8080/"
        },
        "outputId": "96e08dc6-3f5e-4957-b6a7-23b816735404"
      },
      "source": [
        "clf10.predict(x)"
      ],
      "execution_count": null,
      "outputs": [
        {
          "output_type": "execute_result",
          "data": {
            "text/plain": [
              "array([0])"
            ]
          },
          "metadata": {
            "tags": []
          },
          "execution_count": 94
        }
      ]
    },
    {
      "cell_type": "code",
      "metadata": {
        "id": "M6RJ8gcvfj9J",
        "colab": {
          "base_uri": "https://localhost:8080/"
        },
        "outputId": "c0bd33e8-349e-493d-9d79-d6ff33f97622"
      },
      "source": [
        "x = [[0.73504274, 0.03936718],\n",
        "       [0.64957265, 0.43105224],\n",
        "       [0.4957265 , 0.72715232],\n",
        "       [0.35897436, 0.48866814],\n",
        "       [0.83760684, 0.39212656]]\n",
        "clf6.predict(x)"
      ],
      "execution_count": null,
      "outputs": [
        {
          "output_type": "execute_result",
          "data": {
            "text/plain": [
              "array([1, 1, 1, 1, 1])"
            ]
          },
          "metadata": {
            "tags": []
          },
          "execution_count": 95
        }
      ]
    },
    {
      "cell_type": "code",
      "metadata": {
        "id": "AyJczwKvgIUF",
        "colab": {
          "base_uri": "https://localhost:8080/"
        },
        "outputId": "dafae89e-a973-4e61-a011-d34d7314a690"
      },
      "source": [
        "x = input(\"Enter mnth\") # for month\n",
        "y = float(input(\"Enter rainfall\")) \n",
        "\n",
        "year = 2020\n",
        "arr = [[]]\n",
        "arr[0].append(year)\n",
        "arr[0].append(y)\n",
        "\n",
        "arr"
      ],
      "execution_count": null,
      "outputs": [
        {
          "output_type": "stream",
          "text": [
            "Enter mnth3\n",
            "Enter rainfall30\n"
          ],
          "name": "stdout"
        },
        {
          "output_type": "execute_result",
          "data": {
            "text/plain": [
              "[[2020, 30.0]]"
            ]
          },
          "metadata": {
            "tags": []
          },
          "execution_count": 96
        }
      ]
    },
    {
      "cell_type": "code",
      "metadata": {
        "id": "UXggvEkBk4NY",
        "colab": {
          "base_uri": "https://localhost:8080/"
        },
        "outputId": "34e6bb21-3475-4dba-fee3-2d4d3de96e94"
      },
      "source": [
        "d={'jan':clf1,'feb':clf2,'mar':clf3,'apr':clf4,'may':clf5,'jun':clf6,'jul':clf7,'aug':clf8,'sep':clf9,'oct':clf10,'nov':clf11,'dec':clf12}\n",
        "print(d)\n"
      ],
      "execution_count": null,
      "outputs": [
        {
          "output_type": "stream",
          "text": [
            "{'jan': KNeighborsClassifier(algorithm='auto', leaf_size=30, metric='minkowski',\n",
            "                     metric_params=None, n_jobs=None, n_neighbors=5, p=2,\n",
            "                     weights='uniform'), 'feb': KNeighborsClassifier(algorithm='auto', leaf_size=30, metric='minkowski',\n",
            "                     metric_params=None, n_jobs=None, n_neighbors=5, p=2,\n",
            "                     weights='uniform'), 'mar': KNeighborsClassifier(algorithm='auto', leaf_size=30, metric='minkowski',\n",
            "                     metric_params=None, n_jobs=None, n_neighbors=5, p=2,\n",
            "                     weights='uniform'), 'apr': KNeighborsClassifier(algorithm='auto', leaf_size=30, metric='minkowski',\n",
            "                     metric_params=None, n_jobs=None, n_neighbors=5, p=2,\n",
            "                     weights='uniform'), 'may': KNeighborsClassifier(algorithm='auto', leaf_size=30, metric='minkowski',\n",
            "                     metric_params=None, n_jobs=None, n_neighbors=5, p=2,\n",
            "                     weights='uniform'), 'jun': KNeighborsClassifier(algorithm='auto', leaf_size=30, metric='minkowski',\n",
            "                     metric_params=None, n_jobs=None, n_neighbors=5, p=2,\n",
            "                     weights='uniform'), 'jul': KNeighborsClassifier(algorithm='auto', leaf_size=30, metric='minkowski',\n",
            "                     metric_params=None, n_jobs=None, n_neighbors=5, p=2,\n",
            "                     weights='uniform'), 'aug': KNeighborsClassifier(algorithm='auto', leaf_size=30, metric='minkowski',\n",
            "                     metric_params=None, n_jobs=None, n_neighbors=5, p=2,\n",
            "                     weights='uniform'), 'sep': KNeighborsClassifier(algorithm='auto', leaf_size=30, metric='minkowski',\n",
            "                     metric_params=None, n_jobs=None, n_neighbors=5, p=2,\n",
            "                     weights='uniform'), 'oct': KNeighborsClassifier(algorithm='auto', leaf_size=30, metric='minkowski',\n",
            "                     metric_params=None, n_jobs=None, n_neighbors=5, p=2,\n",
            "                     weights='uniform'), 'nov': KNeighborsClassifier(algorithm='auto', leaf_size=30, metric='minkowski',\n",
            "                     metric_params=None, n_jobs=None, n_neighbors=5, p=2,\n",
            "                     weights='uniform'), 'dec': KNeighborsClassifier(algorithm='auto', leaf_size=30, metric='minkowski',\n",
            "                     metric_params=None, n_jobs=None, n_neighbors=5, p=2,\n",
            "                     weights='uniform')}\n"
          ],
          "name": "stdout"
        }
      ]
    },
    {
      "cell_type": "code",
      "metadata": {
        "id": "RtnqTPvomFgA"
      },
      "source": [
        "import pickle\n",
        "with open('floodpred.pkl', 'wb') as file:\n",
        "     pickle.dump(d, file)"
      ],
      "execution_count": null,
      "outputs": []
    },
    {
      "cell_type": "code",
      "metadata": {
        "colab": {
          "base_uri": "https://localhost:8080/",
          "height": 185
        },
        "id": "pUvZfWptMW83",
        "outputId": "f9bc765f-3bed-4e78-9186-a9db326bd1a1"
      },
      "source": [
        "model= pickle.load(open('floodpred.pkl','rb'))\n",
        "print(d['clf1'].predict(30))"
      ],
      "execution_count": null,
      "outputs": [
        {
          "output_type": "error",
          "ename": "KeyError",
          "evalue": "ignored",
          "traceback": [
            "\u001b[0;31m---------------------------------------------------------------------------\u001b[0m",
            "\u001b[0;31mKeyError\u001b[0m                                  Traceback (most recent call last)",
            "\u001b[0;32m<ipython-input-116-b702b501e8d8>\u001b[0m in \u001b[0;36m<module>\u001b[0;34m()\u001b[0m\n\u001b[1;32m      1\u001b[0m \u001b[0md\u001b[0m\u001b[0;34m=\u001b[0m \u001b[0mpickle\u001b[0m\u001b[0;34m.\u001b[0m\u001b[0mload\u001b[0m\u001b[0;34m(\u001b[0m\u001b[0mopen\u001b[0m\u001b[0;34m(\u001b[0m\u001b[0;34m'floodpred.pkl'\u001b[0m\u001b[0;34m,\u001b[0m\u001b[0;34m'rb'\u001b[0m\u001b[0;34m)\u001b[0m\u001b[0;34m)\u001b[0m\u001b[0;34m\u001b[0m\u001b[0;34m\u001b[0m\u001b[0m\n\u001b[0;32m----> 2\u001b[0;31m \u001b[0mprint\u001b[0m\u001b[0;34m(\u001b[0m\u001b[0md\u001b[0m\u001b[0;34m[\u001b[0m\u001b[0;34m'clf1'\u001b[0m\u001b[0;34m]\u001b[0m\u001b[0;34m.\u001b[0m\u001b[0mpredict\u001b[0m\u001b[0;34m(\u001b[0m\u001b[0;36m30\u001b[0m\u001b[0;34m)\u001b[0m\u001b[0;34m)\u001b[0m\u001b[0;34m\u001b[0m\u001b[0;34m\u001b[0m\u001b[0m\n\u001b[0m",
            "\u001b[0;31mKeyError\u001b[0m: 'clf1'"
          ]
        }
      ]
    }
  ]
}